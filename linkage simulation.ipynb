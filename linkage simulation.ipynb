{
 "cells": [
  {
   "cell_type": "code",
   "execution_count": 3,
   "id": "4f84015d",
   "metadata": {},
   "outputs": [],
   "source": [
    "import drawSvg as draw\n",
    "from drawSvg.widgets import DrawingWidget\n",
    "import numpy as np\n",
    "\n",
    "canvas_size=(800,800)\n",
    "# Create drawing\n",
    "d = draw.Drawing(*canvas_size, origin='center')\n",
    "\n",
    "linkage = draw.Group()\n",
    "d.append(linkage)\n",
    "traj=draw.Group()\n",
    "d.append(traj)\n",
    "\n",
    "\n",
    "def redraw_linkage(nodes=[], edges=[],node_radius=6,edge_width=5):\n",
    "    linkage.children.clear()\n",
    "    for id1,id2 in edges:\n",
    "        linkage.draw(draw.Line(*nodes[id1],*nodes[id2],stroke='gray',stroke_width=edge_width))\n",
    "    for x,y in nodes[1:-1]:\n",
    "        linkage.draw(draw.Circle(x,y,node_radius,fill='green'))\n",
    "    x,y=nodes[0]\n",
    "    linkage.draw(draw.Circle(x,y,node_radius,fill='blue'))\n",
    "    x,y=nodes[-1]\n",
    "    linkage.draw(draw.Circle(x,y,node_radius,fill='orange'))\n",
    "\n",
    "def redraw_trajectory(drive_node=[],end_node=[]):\n",
    "    traj.children.clear()\n",
    "    for p0,p1 in zip(drive_node[:-1],drive_node[1:]):\n",
    "        traj.draw(draw.Line(*p0,*p1,stroke='blue',stroke_width=3))\n",
    "    for p0,p1 in zip(end_node[:-1],end_node[1:]):\n",
    "        traj.draw(draw.Line(*p0,*p1,stroke='orange',stroke_width=3))\n",
    "        \n",
    "        \n",
    "def rotation_matrix(theta=0):\n",
    "    c, s = np.cos(theta), np.sin(theta)\n",
    "    R = np.array(((c, -s), (s, c)))\n",
    "    return R\n",
    "\n",
    "def simulate_linkage(nodes=[],edges=[],lengths=[]):\n",
    "    for i in range(0,len(edges),2):\n",
    "        e02,e12=edges[[i,i+1],:]\n",
    "        l02,l12=lengths[[i,i+1]]\n",
    "        p0,p1=nodes[[e02[0],e12[0]],:]\n",
    "        if np.linalg.norm(p1-p0)>l02+l12:\n",
    "            p0=p1-(l02+l12)*(p1-p0)/np.linalg.norm(p1-p0)\n",
    "            nodes[e02[0],:]=p0\n",
    "        v01=(p1-p0)/np.linalg.norm(p1-p0)\n",
    "        l01=np.linalg.norm(p1-p0)\n",
    "        phi=np.arccos(max(-1,min(1,(l01**2+l02**2-l12**2)/(2*l01*l02))))\n",
    "        p2=rotation_matrix(phi)@v01*l02+p0\n",
    "        nodes[e02[1],:]=p2"
   ]
  },
  {
   "cell_type": "code",
   "execution_count": 4,
   "id": "ba60ecf3",
   "metadata": {},
   "outputs": [
    {
     "data": {
      "application/vnd.jupyter.widget-view+json": {
       "model_id": "c2fc7af1ec3b4b4a8a19bf543c783fd7",
       "version_major": 2,
       "version_minor": 0
      },
      "text/plain": [
       "DrawingWidget()"
      ]
     },
     "metadata": {},
     "output_type": "display_data"
    }
   ],
   "source": [
    "nodes=np.array([(100,100),(0,0),(0,0),(0,0),(0,0),(0,0),(0,0)])\n",
    "edges=np.array([(0,2),(1,2),(2,3),(1,3),(1,4),(0,4),(3,5),(4,5),(5,6),(4,6)])\n",
    "lengths=np.array([100,100,100,100,100,150,100,100,150,100])\n",
    "drive_node=[]\n",
    "end_node=[]\n",
    "# Create interactive widget and register mouse events\n",
    "widget = DrawingWidget(d)\n",
    "@widget.mousedown\n",
    "def mousedown(widget, x, y, info):\n",
    "    drive_node.append([*nodes[0]])\n",
    "    if len(drive_node)>1:\n",
    "        for i in range(0,10):\n",
    "            nodes[0,:]=(1-i/10.0)*np.asarray(drive_node[-2])+(i/10.0)*np.asarray(drive_node[-1])\n",
    "            simulate_linkage(nodes,edges,lengths)\n",
    "            end_node.append([*nodes[-1]])\n",
    "        nodes[0,:]=drive_node[-1]\n",
    "    else:\n",
    "        end_node.append([*nodes[-1]])\n",
    "    redraw_trajectory(drive_node,end_node)\n",
    "    redraw_linkage(nodes,edges)\n",
    "    widget.refresh()\n",
    "@widget.mousemove\n",
    "def mousemove(widget, x, y, info):\n",
    "    nodes[0]=(x,y)\n",
    "    simulate_linkage(nodes,edges,lengths)\n",
    "    redraw_trajectory(drive_node,end_node)\n",
    "    redraw_linkage(nodes,edges)\n",
    "    widget.refresh()\n",
    "widget"
   ]
  },
  {
   "cell_type": "code",
   "execution_count": null,
   "id": "3811d237",
   "metadata": {},
   "outputs": [],
   "source": []
  }
 ],
 "metadata": {
  "kernelspec": {
   "display_name": "Python 3 (ipykernel)",
   "language": "python",
   "name": "python3"
  },
  "language_info": {
   "codemirror_mode": {
    "name": "ipython",
    "version": 3
   },
   "file_extension": ".py",
   "mimetype": "text/x-python",
   "name": "python",
   "nbconvert_exporter": "python",
   "pygments_lexer": "ipython3",
   "version": "3.9.7"
  }
 },
 "nbformat": 4,
 "nbformat_minor": 5
}
