{
 "cells": [
  {
   "cell_type": "code",
   "execution_count": 2,
   "id": "4f84015d",
   "metadata": {},
   "outputs": [
    {
     "data": {
      "application/javascript": [
       "\n",
       "require.undef('drawingview');\n",
       "\n",
       "define('drawingview', ['@jupyter-widgets/base'], function(widgets) {\n",
       "    var DrawingView = widgets.DOMWidgetView.extend({\n",
       "        render: function() {\n",
       "            this.container = document.createElement('a');\n",
       "            this.image_changed();\n",
       "            this.container.appendChild(this.svg_view);\n",
       "            this.el.appendChild(this.container);\n",
       "            this.model.on('change:_image', this.image_changed, this);\n",
       "            this.model.on('change:_mousemove_blocked', this.block_changed,\n",
       "                          this);\n",
       "            this.model.on('change:frame_delay', this.delay_changed,\n",
       "                          this);\n",
       "            this.model.on('change:_frame_blocked', this.delay_changed,\n",
       "                          this);\n",
       "            this.model.on('change:disable', this.delay_changed,\n",
       "                          this);\n",
       "            this.delay_changed();\n",
       "        },\n",
       "        image_changed: function() {\n",
       "            this.container.innerHTML = this.model.get('_image');\n",
       "            this.svg_view = this.container.getElementsByTagName('svg')[0];\n",
       "            this.cursor_point = this.svg_view.createSVGPoint();\n",
       "            this.register_events();\n",
       "        },\n",
       "        last_move: null,\n",
       "        last_mousemove_blocked: null,\n",
       "        last_timer: null,\n",
       "        block_changed: function() {\n",
       "            var widget = this;\n",
       "            window.setTimeout(function() {\n",
       "                if (widget.model.get('_mousemove_blocked')\n",
       "                        != widget.last_mousemove_blocked && widget.last_move) {\n",
       "                    widget.send_mouse_event('mousemove', widget.last_move);\n",
       "                }\n",
       "            }, 0);\n",
       "        },\n",
       "        send_mouse_event: function(name, e) {\n",
       "            this.last_move = null;\n",
       "            if (this.model.get('disable')) {\n",
       "                return;\n",
       "            }\n",
       "\n",
       "            this.cursor_point.x = e.clientX;\n",
       "            this.cursor_point.y = e.clientY;\n",
       "            var svg_pt = this.cursor_point.matrixTransform(\n",
       "                            this.svg_view.getScreenCTM().inverse());\n",
       "\n",
       "            this.send({\n",
       "                name: name,\n",
       "                x: svg_pt.x,\n",
       "                y: -svg_pt.y,\n",
       "                type: e.type,\n",
       "                button: e.button,\n",
       "                buttons: e.buttons,\n",
       "                shiftKey: e.shiftKey,\n",
       "                altKey: e.altKey,\n",
       "                ctrlKey: e.ctrlKey,\n",
       "                metaKey: e.metaKey,\n",
       "                clientX: e.clientX,\n",
       "                clientY: e.clientY,\n",
       "                movementX: e.movementX,\n",
       "                movementY: e.movementY,\n",
       "                timeStamp: e.timeStamp,\n",
       "                targetId: e.target ? e.target.id : null,\n",
       "                currentTargetId: e.currentTarget ? e.currentTarget.id : null,\n",
       "                relatedTargetId: e.relatedTarget ? e.relatedTarget.id : null,\n",
       "            });\n",
       "        },\n",
       "        delay_changed: function() {\n",
       "            var widget = this;\n",
       "            window.clearTimeout(widget.last_timer);\n",
       "            if (widget.model.get('disable')) {\n",
       "                return;\n",
       "            }\n",
       "            var delay = widget.model.get('frame_delay');\n",
       "            if (delay > 0) {\n",
       "                widget.last_timer = window.setTimeout(function() {\n",
       "                    widget.send_timed_event('timed');\n",
       "                }, delay);\n",
       "            }\n",
       "        },\n",
       "        send_timed_event: function(name) {\n",
       "            if (this.model.get('disable')) {\n",
       "                return;\n",
       "            }\n",
       "\n",
       "            this.send({\n",
       "                name: name,\n",
       "            });\n",
       "        },\n",
       "        register_events: function() {\n",
       "            var widget = this;\n",
       "            this.svg_view.addEventListener('mousedown', function(e) {\n",
       "                e.preventDefault();\n",
       "                widget.send_mouse_event('mousedown', e);\n",
       "            });\n",
       "            this.svg_view.addEventListener('mousemove', function(e) {\n",
       "                e.preventDefault();\n",
       "                if (widget.model.get('_mousemove_blocked')\n",
       "                        == widget.last_mousemove_blocked) {\n",
       "                    widget.last_move = e;\n",
       "                } else {\n",
       "                    widget.send_mouse_event('mousemove', e);\n",
       "                }\n",
       "            });\n",
       "            this.svg_view.addEventListener('mouseup', function(e) {\n",
       "                e.preventDefault();\n",
       "                widget.send_mouse_event('mouseup', e);\n",
       "            });\n",
       "        }\n",
       "    });\n",
       "\n",
       "    return {\n",
       "        DrawingView: DrawingView\n",
       "    };\n",
       "});\n"
      ],
      "text/plain": [
       "<IPython.core.display.Javascript object>"
      ]
     },
     "metadata": {},
     "output_type": "display_data"
    }
   ],
   "source": [
    "import drawSvg as draw\n",
    "from drawSvg.widgets import DrawingWidget\n",
    "import hyperbolic.poincare.shapes as hyper  # pip3 install hyperbolicd\n",
    "import numpy as np\n",
    "\n",
    "canvas_size=(800,800)\n",
    "# Create drawing\n",
    "d = draw.Drawing(*canvas_size, origin='center')\n",
    "\n",
    "linkage = draw.Group()\n",
    "d.append(linkage)\n",
    "traj=draw.Group()\n",
    "d.append(traj)\n",
    "\n",
    "\n",
    "def redraw_linkage(nodes=[], edges=[],node_radius=6,edge_width=5):\n",
    "    linkage.children.clear()\n",
    "    for id1,id2 in edges:\n",
    "        linkage.draw(draw.Line(*nodes[id1],*nodes[id2],stroke='gray',stroke_width=edge_width))\n",
    "    for x,y in nodes[1:-1]:\n",
    "        linkage.draw(draw.Circle(x,y,node_radius,fill='green'))\n",
    "    x,y=nodes[0]\n",
    "    linkage.draw(draw.Circle(x,y,node_radius,fill='blue'))\n",
    "    x,y=nodes[-1]\n",
    "    linkage.draw(draw.Circle(x,y,node_radius,fill='orange'))\n",
    "\n",
    "def redraw_trajectory(drive_node=[],end_node=[]):\n",
    "    traj.children.clear()\n",
    "    for p0,p1 in zip(drive_node[:-1],drive_node[1:]):\n",
    "        traj.draw(draw.Line(*p0,*p1,stroke='blue',stroke_width=3))\n",
    "    for p0,p1 in zip(end_node[:-1],end_node[1:]):\n",
    "        traj.draw(draw.Line(*p0,*p1,stroke='orange',stroke_width=3))\n",
    "        \n",
    "        \n",
    "def rotation_matrix(theta=0):\n",
    "    c, s = np.cos(theta), np.sin(theta)\n",
    "    R = np.array(((c, -s), (s, c)))\n",
    "    return R\n",
    "\n",
    "def simulate_linkage(nodes=[],edges=[],lengths=[]):\n",
    "    for i in range(0,len(edges),2):\n",
    "        e02,e12=edges[[i,i+1],:]\n",
    "        l02,l12=lengths[[i,i+1]]\n",
    "        p0,p1=nodes[[e02[0],e12[0]],:]\n",
    "        if np.linalg.norm(p1-p0)>l02+l12:\n",
    "            p0=p1-(l02+l12)*(p1-p0)/np.linalg.norm(p1-p0)\n",
    "            nodes[e02[0],:]=p0\n",
    "        v01=(p1-p0)/np.linalg.norm(p1-p0)\n",
    "        l01=np.linalg.norm(p1-p0)\n",
    "        phi=np.arccos(max(-1,min(1,(l01**2+l02**2-l12**2)/(2*l01*l02))))\n",
    "        p2=rotation_matrix(phi)@v01*l02+p0\n",
    "        nodes[e02[1],:]=p2"
   ]
  },
  {
   "cell_type": "code",
   "execution_count": null,
   "id": "da84359c",
   "metadata": {},
   "outputs": [],
   "source": []
  },
  {
   "cell_type": "code",
   "execution_count": null,
   "id": "78654023",
   "metadata": {},
   "outputs": [],
   "source": []
  },
  {
   "cell_type": "code",
   "execution_count": null,
   "id": "53f28c77",
   "metadata": {},
   "outputs": [],
   "source": []
  },
  {
   "cell_type": "code",
   "execution_count": 3,
   "id": "ba60ecf3",
   "metadata": {},
   "outputs": [
    {
     "data": {
      "application/vnd.jupyter.widget-view+json": {
       "model_id": "d86b010993584838814c0203c2b5263b",
       "version_major": 2,
       "version_minor": 0
      },
      "text/plain": [
       "DrawingWidget()"
      ]
     },
     "metadata": {},
     "output_type": "display_data"
    }
   ],
   "source": [
    "nodes=np.array([(100,100),(0,0),(0,0),(0,0),(0,0),(0,0),(0,0)])\n",
    "edges=np.array([(0,2),(1,2),(2,3),(1,3),(1,4),(0,4),(3,5),(4,5),(5,6),(4,6)])\n",
    "lengths=np.array([100,100,100,100,100,150,100,100,150,100])\n",
    "drive_node=[]\n",
    "end_node=[]\n",
    "# Create interactive widget and register mouse events\n",
    "widget = DrawingWidget(d)\n",
    "@widget.mousedown\n",
    "def mousedown(widget, x, y, info):\n",
    "    drive_node.append([*nodes[0]])\n",
    "    if len(drive_node)>1:\n",
    "        for i in range(0,10):\n",
    "            nodes[0,:]=(1-i/10.0)*np.asarray(drive_node[-2])+(i/10.0)*np.asarray(drive_node[-1])\n",
    "            simulate_linkage(nodes,edges,lengths)\n",
    "            end_node.append([*nodes[-1]])\n",
    "        nodes[0,:]=drive_node[-1]\n",
    "    else:\n",
    "        end_node.append([*nodes[-1]])\n",
    "    redraw_trajectory(drive_node,end_node)\n",
    "    redraw_linkage(nodes,edges)\n",
    "    widget.refresh()\n",
    "@widget.mousemove\n",
    "def mousemove(widget, x, y, info):\n",
    "    nodes[0]=(x,y)\n",
    "    simulate_linkage(nodes,edges,lengths)\n",
    "    redraw_trajectory(drive_node,end_node)\n",
    "    redraw_linkage(nodes,edges)\n",
    "    widget.refresh()\n",
    "widget"
   ]
  },
  {
   "cell_type": "code",
   "execution_count": 23,
   "id": "f54dc5fe",
   "metadata": {},
   "outputs": [
    {
     "data": {
      "text/plain": [
       "array([], dtype=float64)"
      ]
     },
     "execution_count": 23,
     "metadata": {},
     "output_type": "execute_result"
    }
   ],
   "source": [
    "result"
   ]
  },
  {
   "cell_type": "code",
   "execution_count": 44,
   "id": "3811d237",
   "metadata": {},
   "outputs": [
    {
     "data": {
      "image/png": "[encoded data removed]",
      "text/plain": [
       "<Figure size 432x288 with 1 Axes>"
      ]
     },
     "metadata": {
      "needs_background": "light"
     },
     "output_type": "display_data"
    }
   ],
   "source": [
    "# dynamics simulation \n",
    "\n",
    "def get_force(angle, mass): return mass * -9.81 * np.sin(angle)\n",
    "# game loop implementation\n",
    "\n",
    "# system parameters\n",
    "pendulum_mass = 0.7  #kg\n",
    "pendulum_string_length = 0.1 #m\n",
    "\n",
    "# step\n",
    "dt = 0.01\n",
    "\n",
    "# system state (incl. initial conditions)\n",
    "pendulum_angle = 1.2\n",
    "pendulum_angular_velocity = 0\n",
    "\n",
    "result = []\n",
    "\n",
    "# step between 0s and 10s every dt seconds\n",
    "for step in np.arange(0.0, 100.0, dt):\n",
    "    # get acceleration\n",
    "    # F = m*a  ->  a = F/m\n",
    "    acceleration = get_force(pendulum_angle, pendulum_mass) / pendulum_mass\n",
    "    \n",
    "    # do the time step\n",
    "    pendulum_angle += pendulum_angular_velocity * dt\n",
    "    pendulum_angular_velocity += acceleration * dt\n",
    "    result.append(pendulum_angle)\n",
    "    \n",
    "plt.plot(result)\n",
    "plt.show()"
   ]
  },
  {
   "cell_type": "code",
   "execution_count": 46,
   "id": "1e57a1b1",
   "metadata": {},
   "outputs": [
    {
     "data": {
      "text/plain": [
       "  message: 'The solver successfully reached the end of the integration interval.'\n",
       "     nfev: 11804\n",
       "     njev: 0\n",
       "      nlu: 0\n",
       "      sol: None\n",
       "   status: 0\n",
       "  success: True\n",
       "        t: array([0.00000000e+00, 1.08616336e-02, 7.46234712e-02, ...,\n",
       "       9.99246929e+01, 9.99876003e+01, 1.00000000e+02])\n",
       " t_events: None\n",
       "        y: array([[ 0.00000000e+00, -1.14092332e-01, -7.83856846e-01, ...,\n",
       "        -1.04962492e+03, -1.05028570e+03, -1.05041595e+03],\n",
       "       [ 1.00000000e+01,  1.00060718e+01,  1.02725204e+01, ...,\n",
       "         1.00512955e+01,  1.04244246e+01,  1.05303975e+01]])\n",
       " y_events: None"
      ]
     },
     "execution_count": 46,
     "metadata": {},
     "output_type": "execute_result"
    },
    {
     "data": {
      "image/png": "[encoded data removed]",
      "text/plain": [
       "<Figure size 432x288 with 1 Axes>"
      ]
     },
     "metadata": {
      "needs_background": "light"
     },
     "output_type": "display_data"
    }
   ],
   "source": [
    "import matplotlib.pyplot as plt\n",
    "\n",
    "# is an approximation since time is discretized\n",
    "\n",
    "# let's be a little smarter about discretization\n",
    "\n",
    "# battle plan formulate system as a continuous-time model -> pass it to a differential equation solver\n",
    "\n",
    "# function that returns dy/dt\n",
    "# variable naming convention from control theory:\n",
    "# y -> system state vector (sometimes 'u')\n",
    "# t -> time\n",
    "# p -> parameter vector\n",
    "def model(t, y, p=()):\n",
    "    pendulum_angle = y[0]\n",
    "    pendulum_anglular_velocity = y[1]\n",
    "    \n",
    "    acceleration = get_force(pendulum_angle, pendulum_mass) / pendulum_mass\n",
    "    \n",
    "    return [pendulum_angular_velocity, acceleration]\n",
    "\n",
    "# initial condition\n",
    "y0 = [0,10]\n",
    "\n",
    "from scipy.integrate import solve_ivp\n",
    "\n",
    "\n",
    "# time points\n",
    "time_span = (0.0, 100.0)\n",
    "\n",
    "# solve ODEs\n",
    "k = 0.1\n",
    "result = solve_ivp(model, time_span, y0, method='RK45', rtol=1e-8)\n",
    "\n",
    "fig = plt.figure()\n",
    "ax = fig.add_subplot(1, 2, 2)\n",
    "ax.plot(result.y[0, :],\n",
    "        result.y[1, :])\n",
    "ax.set_title(\"solve_ivp\")\n",
    "result\n",
    "# time plot"
   ]
  },
  {
   "cell_type": "code",
   "execution_count": 48,
   "id": "a49568f2",
   "metadata": {},
   "outputs": [],
   "source": [
    "# TODO state-space-plot"
   ]
  },
  {
   "cell_type": "code",
   "execution_count": null,
   "id": "eef54dc5",
   "metadata": {},
   "outputs": [],
   "source": []
  },
  {
   "cell_type": "code",
   "execution_count": 51,
   "id": "5ebdb17d",
   "metadata": {},
   "outputs": [],
   "source": [
    "# TODO make this work for the linkage system\n"
   ]
  },
  {
   "cell_type": "code",
   "execution_count": null,
   "id": "28429c0a",
   "metadata": {},
   "outputs": [],
   "source": [
    "# TODO run FFT on the data"
   ]
  }
 ],
 "metadata": {
  "kernelspec": {
   "display_name": "conda_af",
   "language": "python",
   "name": "conda_af"
  },
  "language_info": {
   "codemirror_mode": {
    "name": "ipython",
    "version": 3
   },
   "file_extension": ".py",
   "mimetype": "text/x-python",
   "name": "python",
   "nbconvert_exporter": "python",
   "pygments_lexer": "ipython3",
   "version": "3.9.7"
  }
 },
 "nbformat": 4,
 "nbformat_minor": 5
}
