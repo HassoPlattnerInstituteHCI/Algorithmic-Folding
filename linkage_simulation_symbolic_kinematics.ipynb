{
 "cells": [
  {
   "cell_type": "code",
   "execution_count": 50,
   "id": "4f84015d",
   "metadata": {},
   "outputs": [],
   "source": [
    "# Dependencies\n",
    "import drawSvg as draw\n",
    "from drawSvg.widgets import DrawingWidget\n",
    "#import numpy as np\n",
    "import torch\n",
    "\n",
    "canvas_size=(600,600)\n",
    "# Create drawing\n",
    "d = draw.Drawing(*canvas_size, origin='center')\n",
    "\n",
    "marker=draw.Group()\n",
    "d.append(marker)\n",
    "linkage = draw.Group()\n",
    "d.append(linkage)\n",
    "traj=draw.Group()\n",
    "d.append(traj)\n"
   ]
  },
  {
   "cell_type": "code",
   "execution_count": 51,
   "id": "49c1a13a",
   "metadata": {},
   "outputs": [],
   "source": [
    "# Basic data structures\n",
    "# All data are torch.tensor type, which is similar to numpy.array but allow some advanced operations like autodiff.\n",
    "# nodes tensor saves the positions of the nodes, the first node is driving node, and the second node is a fixed node, all the others are flexible nodes.\n",
    "# edges tensor saves the connection info, if node_i is connected with node_j, then you will find (i,j) in edges tensor.\n",
    "# lengths tensor saves the length of each edge. \n",
    "\n",
    "nodes=torch.DoubleTensor([(100,100),(0,0),(0,0),(0,0),(0,0),(0,0),(0,0)])\n",
    "edges=torch.IntTensor([(0,2),(1,2),(2,3),(1,3),(1,4),(0,4),(3,5),(4,5),(5,6),(4,6)])\n",
    "lengths=torch.DoubleTensor([100,100,100,100,100,150,100,100,150,100])\n",
    "\n",
    "def redraw_linkage(nodes=[], edges=[],node_radius=6,edge_width=5):\n",
    "    linkage.children.clear()    \n",
    "    for id1,id2 in edges:\n",
    "        linkage.draw(draw.Line(*nodes[id1].tolist(),*nodes[id2].tolist(),stroke='gray',stroke_width=edge_width))\n",
    "    for x,y in nodes[1:-1]:\n",
    "        linkage.draw(draw.Circle(x,y,node_radius,fill='green'))\n",
    "    x,y=nodes[0]\n",
    "    linkage.draw(draw.Circle(x,y,node_radius,fill='blue'))\n",
    "    x,y=nodes[-1]\n",
    "    linkage.draw(draw.Circle(x,y,node_radius,fill='orange'))\n",
    "\n",
    "def redraw_trajectory(drive_node=[],end_node=[]):\n",
    "    traj.children.clear()\n",
    "    for p0,p1 in zip(drive_node[:-1],drive_node[1:]):\n",
    "        traj.draw(draw.Line(*p0.tolist(),*p1.tolist(),stroke='blue',stroke_width=3))\n",
    "    for p0,p1 in zip(end_node[:-1],end_node[1:]):\n",
    "        traj.draw(draw.Line(*p0.tolist(),*p1.tolist(),stroke='orange',stroke_width=3))\n",
    "        \n"
   ]
  },
  {
   "cell_type": "code",
   "execution_count": 52,
   "id": "36a13d32",
   "metadata": {},
   "outputs": [],
   "source": [
    "# Linkage simulation code\n",
    "def simulate_linkage(nodes,edges,lengths):\n",
    "    nodes_new=torch.zeros_like(nodes)\n",
    "    nodes_new[0:2,:]=nodes[0:2,:]\n",
    "    for i in range(0,len(edges),2):\n",
    "        e02,e12 = edges[[i,i+1],:]\n",
    "        l02,l12 = lengths[[i,i+1]]\n",
    "        p0, p1 = nodes_new[[e02[0],e12[0]],:]\n",
    "        \n",
    "        if torch.norm(p1-p0) > l02 + l12:\n",
    "            p0 = p1 - (l02+l12)*(p1-p0) / torch.norm(p1 - p0)\n",
    "            nodes_new[e02[0],:] = p0\n",
    "        \n",
    "        p2 = simulate_triangle(p0,p1,l02,l12)\n",
    "        nodes_new[e02[1],:] = p2\n",
    "    return nodes_new"
   ]
  },
  {
   "cell_type": "code",
   "execution_count": null,
   "id": "4b8324f5",
   "metadata": {},
   "outputs": [],
   "source": [
    "def simulate_triangle(p0, p1, l02, l12):\n",
    "#     TODO: Implement the triangle calculation\n",
    "    return p2"
   ]
  },
  {
   "cell_type": "markdown",
   "id": "93174dbb",
   "metadata": {},
   "source": [
    "<details>\n",
    "  <summary></summary>\n",
    "------\n",
    "def simulate_triangle(p0, p1, l02, l12):\n",
    "    v01 = (p1-p0) / torch.norm(p1 - p0)\n",
    "    l01 = torch.norm(p1 - p0)\n",
    "    cos_v=(l01**2+l02**2-l12**2)/(2*l01*l02)\n",
    "    cos_phi=torch.max(torch.min(cos_v,torch.tensor([1])),torch.tensor([-1]))\n",
    "    sin_phi=torch.sqrt(1-cos_phi**2)\n",
    "    rotation_matrix=torch.reshape(torch.stack((cos_phi,-sin_phi,sin_phi,cos_phi)),(2,2))\n",
    "    p2=rotation_matrix@v01*l02+p0\n",
    "    return p2\n",
    "------\n",
    "</details>\n"
   ]
  },
  {
   "cell_type": "code",
   "execution_count": 53,
   "id": "6af4430d",
   "metadata": {},
   "outputs": [
    {
     "data": {
      "application/vnd.jupyter.widget-view+json": {
       "model_id": "efaf07ab26fd4005bb758076bd118644",
       "version_major": 2,
       "version_minor": 0
      },
      "text/plain": [
       "DrawingWidget()"
      ]
     },
     "metadata": {},
     "output_type": "display_data"
    }
   ],
   "source": [
    "# Visualizing the linkage motion\n",
    "drive_node=[]\n",
    "end_node=[]\n",
    "nodes_sim=nodes\n",
    "# Create interactive widget and register mouse events\n",
    "widget = DrawingWidget(d)\n",
    "@widget.mousedown\n",
    "def mousedown(widget, x, y, info):\n",
    "    drive_node.append(torch.tensor([x,y]))\n",
    "    if len(drive_node)>1:\n",
    "        for i in range(0,10):\n",
    "            nodes[0,:]=(1-i/10.0)*drive_node[-2]+(i/10.0)*drive_node[-1]\n",
    "            nodes_sim=simulate_linkage(nodes,edges,lengths)\n",
    "            end_node.append(nodes_sim[-1])\n",
    "    else:\n",
    "        nodes_sim=simulate_linkage(nodes,edges,lengths)\n",
    "        end_node.append(nodes_sim[-1])\n",
    "    print(f'drive node:{nodes_sim[0].tolist()}, end node: {nodes_sim[-1].tolist()}')\n",
    "    redraw_trajectory(drive_node,end_node)\n",
    "    redraw_linkage(nodes_sim,edges)\n",
    "    widget.refresh()\n",
    "@widget.mousemove\n",
    "def mousemove(widget, x, y, info):\n",
    "    nodes[0]=torch.tensor([x,y])\n",
    "    nodes_sim=simulate_linkage(nodes,edges,lengths)\n",
    "    redraw_trajectory(drive_node,end_node)\n",
    "    redraw_linkage(nodes_sim,edges)\n",
    "    widget.refresh()\n",
    "\n",
    "widget"
   ]
  },
  {
   "cell_type": "code",
   "execution_count": 54,
   "id": "7b3cf8ea",
   "metadata": {},
   "outputs": [
    {
     "name": "stdout",
     "output_type": "stream",
     "text": [
      "tensor([ 0.4815, -0.5488,  0.3513, -0.2459, -0.0656, -1.0634,  0.3123, -0.2748,\n",
      "         0.4600, -1.1257], dtype=torch.float64)\n"
     ]
    },
    {
     "data": {
      "text/plain": [
       "True"
      ]
     },
     "execution_count": 54,
     "metadata": {},
     "output_type": "execute_result"
    }
   ],
   "source": [
    "# Demonstrating the autodiff\n",
    "def approx(nodes,edges,lengths):\n",
    "    return torch.norm(simulate_linkage(nodes,edges,lengths)[-1]-target)**2\n",
    "nodes=torch.DoubleTensor([(-60,30),(0,0),(0,0),(0,0),(0,0),(0,0),(0,0)])\n",
    "edges=torch.IntTensor([(0,2),(1,2),(2,3),(1,3),(1,4),(0,4),(3,5),(4,5),(5,6),(4,6)])\n",
    "lengths=torch.tensor([100,100,100,100,100,150,100,100,150,100],dtype=torch.double,requires_grad=True)\n",
    "target=torch.tensor([45.,-195.])\n",
    "res=approx(nodes,edges,lengths)\n",
    "res.backward()\n",
    "print(lengths.grad)\n",
    "torch.autograd.gradcheck(approx,(nodes,edges,lengths),eps=1e-6, atol=1e-4)\n"
   ]
  },
  {
   "cell_type": "code",
   "execution_count": 63,
   "id": "7474a23f",
   "metadata": {},
   "outputs": [
    {
     "data": {
      "image/svg+xml": [
       "<?xml version=\"1.0\" encoding=\"UTF-8\"?>\n",
       "<svg xmlns=\"http://www.w3.org/2000/svg\" xmlns:xlink=\"http://www.w3.org/1999/xlink\"\n",
       "     width=\"600\" height=\"600\" viewBox=\"-300.0 -300.0 600 600\">\n",
       "<defs>\n",
       "</defs>\n",
       "<g>\n",
       "<circle cx=\"-50.0\" cy=\"150.0\" r=\"10.0\" fill=\"white\" stroke-width=\"2\" stroke=\"orange\" />\n",
       "</g>\n",
       "<g>\n",
       "<path d=\"M-60.0,-30.0 L12.130748865881799,-99.26149773176358\" stroke=\"gray\" stroke-width=\"5\" />\n",
       "<path d=\"M0.0,-0.0 L12.130748865881799,-99.26149773176358\" stroke=\"gray\" stroke-width=\"5\" />\n",
       "<path d=\"M12.130748865881799,-99.26149773176358 L92.02835308633962,-39.12521218109889\" stroke=\"gray\" stroke-width=\"5\" />\n",
       "<path d=\"M0.0,-0.0 L92.02835308633962,-39.12521218109889\" stroke=\"gray\" stroke-width=\"5\" />\n",
       "<path d=\"M0.0,-0.0 L17.432234619103316,98.46886409512673\" stroke=\"gray\" stroke-width=\"5\" />\n",
       "<path d=\"M-60.0,-30.0 L17.432234619103316,98.46886409512673\" stroke=\"gray\" stroke-width=\"5\" />\n",
       "<path d=\"M92.02835308633962,-39.12521218109889 L109.46058770544289,59.34365191402783\" stroke=\"gray\" stroke-width=\"5\" />\n",
       "<path d=\"M17.432234619103316,98.46886409512673 L109.46058770544289,59.34365191402783\" stroke=\"gray\" stroke-width=\"5\" />\n",
       "<path d=\"M109.46058770544289,59.34365191402783 L44.747033517244375,194.66606655525084\" stroke=\"gray\" stroke-width=\"5\" />\n",
       "<path d=\"M17.432234619103316,98.46886409512673 L44.747033517244375,194.66606655525084\" stroke=\"gray\" stroke-width=\"5\" />\n",
       "<circle cx=\"0.0\" cy=\"-0.0\" r=\"6\" fill=\"green\" />\n",
       "<circle cx=\"12.130748865881799\" cy=\"-99.26149773176358\" r=\"6\" fill=\"green\" />\n",
       "<circle cx=\"92.02835308633962\" cy=\"-39.12521218109889\" r=\"6\" fill=\"green\" />\n",
       "<circle cx=\"17.432234619103316\" cy=\"98.46886409512673\" r=\"6\" fill=\"green\" />\n",
       "<circle cx=\"109.46058770544289\" cy=\"59.34365191402783\" r=\"6\" fill=\"green\" />\n",
       "<circle cx=\"-60.0\" cy=\"-30.0\" r=\"6\" fill=\"blue\" />\n",
       "<circle cx=\"44.747033517244375\" cy=\"194.66606655525084\" r=\"6\" fill=\"orange\" />\n",
       "</g>\n",
       "<g></g>\n",
       "</svg>"
      ],
      "text/plain": [
       "<drawSvg.drawing.Drawing at 0x1dc51b74130>"
      ]
     },
     "metadata": {},
     "output_type": "display_data"
    }
   ],
   "source": [
    "# How to reach the target position\n",
    "nodes=torch.DoubleTensor([(-60,30),(0,0),(0,0),(0,0),(0,0),(0,0),(0,0)])\n",
    "edges=torch.IntTensor([(0,2),(1,2),(2,3),(1,3),(1,4),(0,4),(3,5),(4,5),(5,6),(4,6)])\n",
    "lengths=torch.DoubleTensor([100,100,100,100,100,150,100,100,150,100])\n",
    "target=torch.tensor([-50.,-150.])\n",
    "nodes_sim=simulate_linkage(nodes,edges,lengths)\n",
    "traj.children.clear()\n",
    "marker.children.clear()\n",
    "marker.append(draw.Circle(*target.tolist(),r=10.,fill='white',stroke_width=2, stroke='orange'))\n",
    "redraw_linkage(nodes_sim,edges)\n",
    "display(d)"
   ]
  },
  {
   "cell_type": "code",
   "execution_count": 57,
   "id": "f939d0b8",
   "metadata": {},
   "outputs": [
    {
     "name": "stdout",
     "output_type": "stream",
     "text": [
      "0 10972.057861835925\n",
      "100 195.6479489255146\n",
      "200 2.903306516674934\n",
      "300 0.025943188520983956\n",
      "400 0.00021679020189526848\n",
      "500 1.7995954642271844e-06\n",
      "tensor([108.7151,  89.9070, 106.3897,  95.4718,  93.6190, 142.6576, 105.4283,\n",
      "         93.1681, 159.3873,  84.8845], dtype=torch.float64, requires_grad=True)\n",
      "tensor([[ -60.0000,   30.0000],\n",
      "        [   0.0000,    0.0000],\n",
      "        [  35.0314,   82.8014],\n",
      "        [  95.3492,   -4.8372],\n",
      "        [  12.6772,  -92.7568],\n",
      "        [ 104.2566, -109.8886],\n",
      "        [ -50.0007, -150.0006]], dtype=torch.float64, grad_fn=<CopySlices>)\n"
     ]
    },
    {
     "data": {
      "image/svg+xml": [
       "<?xml version=\"1.0\" encoding=\"UTF-8\"?>\n",
       "<svg xmlns=\"http://www.w3.org/2000/svg\" xmlns:xlink=\"http://www.w3.org/1999/xlink\"\n",
       "     width=\"600\" height=\"600\" viewBox=\"-300.0 -300.0 600 600\">\n",
       "<defs>\n",
       "</defs>\n",
       "<g>\n",
       "<circle cx=\"-50.0\" cy=\"150.0\" r=\"10.0\" fill=\"white\" stroke-width=\"3\" stroke=\"orange\" />\n",
       "</g>\n",
       "<g>\n",
       "<path d=\"M-60.0,-30.0 L35.03143904013895,-82.80141685838484\" stroke=\"gray\" stroke-width=\"5\" />\n",
       "<path d=\"M0.0,-0.0 L35.03143904013895,-82.80141685838484\" stroke=\"gray\" stroke-width=\"5\" />\n",
       "<path d=\"M35.03143904013895,-82.80141685838484 L95.34921810122398,4.837224331007548\" stroke=\"gray\" stroke-width=\"5\" />\n",
       "<path d=\"M0.0,-0.0 L95.34921810122398,4.837224331007548\" stroke=\"gray\" stroke-width=\"5\" />\n",
       "<path d=\"M0.0,-0.0 L12.67716507137848,92.75675414129273\" stroke=\"gray\" stroke-width=\"5\" />\n",
       "<path d=\"M-60.0,-30.0 L12.67716507137848,92.75675414129273\" stroke=\"gray\" stroke-width=\"5\" />\n",
       "<path d=\"M95.34921810122398,4.837224331007548 L104.25658159570389,109.88855160645875\" stroke=\"gray\" stroke-width=\"5\" />\n",
       "<path d=\"M12.67716507137848,92.75675414129273 L104.25658159570389,109.88855160645875\" stroke=\"gray\" stroke-width=\"5\" />\n",
       "<path d=\"M104.25658159570389,109.88855160645875 L-50.00074693491396,150.00063821733292\" stroke=\"gray\" stroke-width=\"5\" />\n",
       "<path d=\"M12.67716507137848,92.75675414129273 L-50.00074693491396,150.00063821733292\" stroke=\"gray\" stroke-width=\"5\" />\n",
       "<circle cx=\"0.0\" cy=\"-0.0\" r=\"6\" fill=\"green\" />\n",
       "<circle cx=\"35.03143904013895\" cy=\"-82.80141685838484\" r=\"6\" fill=\"green\" />\n",
       "<circle cx=\"95.34921810122398\" cy=\"4.837224331007548\" r=\"6\" fill=\"green\" />\n",
       "<circle cx=\"12.67716507137848\" cy=\"92.75675414129273\" r=\"6\" fill=\"green\" />\n",
       "<circle cx=\"104.25658159570389\" cy=\"109.88855160645875\" r=\"6\" fill=\"green\" />\n",
       "<circle cx=\"-60.0\" cy=\"-30.0\" r=\"6\" fill=\"blue\" />\n",
       "<circle cx=\"-50.00074693491396\" cy=\"150.00063821733292\" r=\"6\" fill=\"orange\" />\n",
       "</g>\n",
       "<g></g>\n",
       "</svg>"
      ],
      "text/plain": [
       "<drawSvg.drawing.Drawing at 0x1dc51b74130>"
      ]
     },
     "execution_count": 57,
     "metadata": {},
     "output_type": "execute_result"
    }
   ],
   "source": [
    "# Optimizing the edge length labelings\n",
    "lengths=torch.tensor([100,100,100,100,100,150,100,100,150,100],dtype=torch.double,requires_grad=True)\n",
    "step=1e-3\n",
    "for t in range(2000):\n",
    "    target_pred=simulate_linkage(nodes,edges,lengths)[-1]\n",
    "    obj_func=torch.norm(target-target_pred)**2\n",
    "    if obj_func<1e-6:\n",
    "        break\n",
    "    if t % 100 == 0:\n",
    "        print(t, obj_func.item())\n",
    "    obj_func.backward()\n",
    "    with torch.no_grad():\n",
    "        lengths-=step*lengths.grad\n",
    "        lengths.grad=None\n",
    "print(lengths)    \n",
    "nodes_opt=simulate_linkage(nodes,edges,lengths)\n",
    "print(nodes_opt)\n",
    "redraw_linkage(nodes_opt,edges)\n",
    "d"
   ]
  },
  {
   "cell_type": "code",
   "execution_count": 58,
   "id": "e4f17b6d",
   "metadata": {},
   "outputs": [
    {
     "data": {
      "application/vnd.jupyter.widget-view+json": {
       "model_id": "db1a53edb9e549aea3ea252de1087a40",
       "version_major": 2,
       "version_minor": 0
      },
      "text/plain": [
       "interactive(children=(IntSlider(value=0, description='n', max=1), Output()), _dom_classes=('widget-interact',)…"
      ]
     },
     "metadata": {},
     "output_type": "display_data"
    },
    {
     "data": {
      "text/plain": [
       "<function __main__.redraw_multistable(n=0)>"
      ]
     },
     "execution_count": 58,
     "metadata": {},
     "output_type": "execute_result"
    }
   ],
   "source": [
    "# How about multiple stable positions\n",
    "from ipywidgets import interact, interactive, fixed, interact_manual\n",
    "import ipywidgets as widgets\n",
    "drive_pos=torch.DoubleTensor([[-60,30],[-100,-30]])\n",
    "target_pos=torch.DoubleTensor([[-50.,-150.],[90.,-200.]])\n",
    "lengths=torch.DoubleTensor([100,100,100,100,100,150,100,100,150,100])\n",
    "def redraw_multistable(n=0):\n",
    "    nodes[0]=drive_pos[n]\n",
    "    target=target_pos[n]\n",
    "    nodes_sim=simulate_linkage(nodes,edges,lengths)\n",
    "    traj.children.clear()\n",
    "    marker.children.clear()\n",
    "    marker.append(draw.Circle(*target.tolist(),r=10.,fill='white',stroke_width=3, stroke='orange'))\n",
    "    redraw_linkage(nodes_sim,edges)\n",
    "    display(d)\n",
    "interact(redraw_multistable,n=(0,len(drive_pos)-1))"
   ]
  },
  {
   "cell_type": "code",
   "execution_count": 59,
   "id": "81d8b946",
   "metadata": {},
   "outputs": [
    {
     "name": "stdout",
     "output_type": "stream",
     "text": [
      "0 18108.948907130063\n",
      "100 1499.0067251972296\n",
      "200 1003.0118592655489\n",
      "300 620.9148651180126\n",
      "400 379.1511146462733\n",
      "500 245.56279989126358\n",
      "600 170.19802781987588\n",
      "700 122.9729075065806\n",
      "800 90.60405544118298\n",
      "900 67.32125581089507\n",
      "1000 50.209107871206356\n",
      "1100 37.51402126291428\n",
      "1200 28.055065949184343\n",
      "1300 20.991750017120467\n",
      "1400 15.710865854397673\n",
      "1500 11.759820829567246\n",
      "1600 8.802554945136071\n",
      "1700 6.588666875092441\n",
      "1800 4.931176923672672\n",
      "1900 3.6902717186876415\n",
      "2000 2.7613165369311945\n",
      "2100 2.0659642970995686\n",
      "2200 1.5455358443731055\n",
      "2300 1.1560783980940101\n",
      "2400 0.8646702975672192\n",
      "2500 0.646654634000543\n",
      "2600 0.48356688866496816\n",
      "2700 0.3615819245005593\n",
      "2800 0.2703500216932275\n",
      "2900 0.20212450997791925\n",
      "3000 0.15110801775818047\n",
      "3100 0.11296263367665958\n",
      "3200 0.08444295599366106\n",
      "3300 0.06312125839120865\n",
      "3400 0.0471816917230333\n",
      "3500 0.035266212210777706\n",
      "3600 0.026359257328192356\n",
      "3700 0.019701440263081356\n",
      "3800 0.014724971799932604\n",
      "3900 0.011005346982195031\n",
      "4000 0.008225204938697425\n",
      "4100 0.006147297938009644\n",
      "4200 0.004594275823514926\n",
      "4300 0.003433568876788095\n",
      "4400 0.0025660842101370633\n",
      "4500 0.001917754284754687\n",
      "4600 0.0014332183111002196\n",
      "4700 0.0010710985253928173\n",
      "4800 0.0008004689526569998\n",
      "4900 0.0005982157300114282\n"
     ]
    },
    {
     "data": {
      "application/vnd.jupyter.widget-view+json": {
       "model_id": "0be5c83f3d234130ac4bddcc3134891b",
       "version_major": 2,
       "version_minor": 0
      },
      "text/plain": [
       "interactive(children=(IntSlider(value=0, description='n', max=1), Output()), _dom_classes=('widget-interact',)…"
      ]
     },
     "metadata": {},
     "output_type": "display_data"
    },
    {
     "data": {
      "text/plain": [
       "<function __main__.redraw_multistable(n=0)>"
      ]
     },
     "execution_count": 59,
     "metadata": {},
     "output_type": "execute_result"
    }
   ],
   "source": [
    "lengths=torch.tensor([100,100,100,100,100,150,100,100,150,100],dtype=torch.double,requires_grad=True)\n",
    "step=1e-3\n",
    "for t in range(5000):\n",
    "    obj_func=0\n",
    "    # TODO: implement the multiple target approximation objective function\n",
    "    if obj_func<1e-6:\n",
    "        break\n",
    "    if t % 100 == 0:\n",
    "        print(t, obj_func.item())\n",
    "    obj_func.backward()\n",
    "    with torch.no_grad():\n",
    "        lengths-=step*lengths.grad\n",
    "        lengths.grad=None\n",
    "interact(redraw_multistable,n=(0,len(drive_pos)-1))"
   ]
  },
  {
   "cell_type": "markdown",
   "id": "b75bcd57",
   "metadata": {},
   "source": [
    "<details>\n",
    "<summary></summary>\n",
    "---------\n",
    "for t in range(5000):\n",
    "    obj_func=0\n",
    "    for nodes[0],target in zip(drive_pos,target_pos):\n",
    "        target_pred=simulate_linkage(nodes,edges,lengths)[-1]\n",
    "        obj_func+=torch.norm(target-target_pred)**2\n",
    "    if obj_func<1e-6:\n",
    "        break\n",
    "    if t % 100 == 0:\n",
    "        print(t, obj_func.item())\n",
    "    obj_func.backward()\n",
    "    with torch.no_grad():\n",
    "        lengths-=step*lengths.grad\n",
    "        lengths.grad=None\n",
    "---------\n",
    "</details>"
   ]
  },
  {
   "cell_type": "code",
   "execution_count": null,
   "id": "2b8e2a99",
   "metadata": {},
   "outputs": [],
   "source": []
  }
 ],
 "metadata": {
  "@webio": {
   "lastCommId": null,
   "lastKernelId": null
  },
  "kernelspec": {
   "display_name": "Python 3 (ipykernel)",
   "language": "python",
   "name": "python3"
  },
  "language_info": {
   "codemirror_mode": {
    "name": "ipython",
    "version": 3
   },
   "file_extension": ".py",
   "mimetype": "text/x-python",
   "name": "python",
   "nbconvert_exporter": "python",
   "pygments_lexer": "ipython3",
   "version": "3.9.7"
  }
 },
 "nbformat": 4,
 "nbformat_minor": 5
}
