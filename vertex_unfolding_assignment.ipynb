{
 "cells": [
  {
   "cell_type": "code",
   "execution_count": 2,
   "id": "270699f3",
   "metadata": {},
   "outputs": [
    {
     "name": "stdout",
     "output_type": "stream",
     "text": [
      "[1. 2. 3. 2. 1. 4. 4. 2. 1. 3. 2. 1.]\n"
     ]
    },
    {
     "data": {
      "image/png": "[encoded data removed]",
      "text/plain": [
       "<Figure size 432x288 with 1 Axes>"
      ]
     },
     "metadata": {},
     "output_type": "display_data"
    }
   ],
   "source": [
    "import numpy as np\n",
    "import networkx as nx\n",
    "\n",
    "faces = [[21, 22, 23], \n",
    "         [22, 23, 24], \n",
    "         [22, 24, 27], \n",
    "         [22, 26, 27], \n",
    "         [22, 25, 26], \n",
    "         [24, 27, 28], \n",
    "         [24, 28, 31], \n",
    "         [28, 30, 31], \n",
    "         [28, 29, 30], \n",
    "         [24, 31, 32], \n",
    "         [31, 32, 34],\n",
    "         [32, 33, 34]]\n",
    "\n",
    "\n",
    "spanning_tree = nx.Graph()\n",
    "spanning_tree.add_edges_from([(0, 1), (1, 2), (2, 3), (3, 4), (2, 5), (5, 6), (6, 7), (7, 8), (6, 9), (9, 10), (10, 11)])\n",
    "\n",
    "\n",
    "tree_0 = spanning_tree.copy()\n",
    "tree_1 = spanning_tree.copy()\n",
    "\n",
    "level_array = np.zeros(len(faces))\n",
    "\n",
    "\n",
    "iteration_no = 1\n",
    "while tree_1.number_of_nodes() >= 1:\n",
    "    for node_id in list(tree_0.nodes):\n",
    "        if level_array[node_id] == 0 and tree_0.degree[node_id] == 1:\n",
    "            tree_1.remove_node(node_id)\n",
    "            level_array[node_id] = iteration_no\n",
    "    tree_0 = tree_1.copy()\n",
    "    iteration_no = iteration_no + 1\n",
    "\n",
    "print(level_array)\n",
    "\n",
    "\n",
    "facet_graph = nx.Graph()\n",
    "even_iterator = 2\n",
    "\n",
    "for even_iterator in range (2, int(max(level_array))+1, 2):\n",
    "    for face_id in range (len(level_array)):\n",
    "        if level_array[face_id] == even_iterator:\n",
    "            neighbour_faces = list(spanning_tree.adj[face_id])\n",
    "            for adj_face in neighbour_faces:\n",
    "                if level_array[adj_face] == even_iterator - 1:\n",
    "                    common_vertices = np.intersect1d(faces[face_id], faces[adj_face])\n",
    "                    facet_graph.add_edge(face_id, common_vertices[0])\n",
    "                    facet_graph.add_edge(face_id, common_vertices[1])\n",
    "                    facet_graph.add_edge(adj_face, common_vertices[0])\n",
    "                    facet_graph.add_edge(adj_face, common_vertices[1])\n",
    "\n",
    "\n",
    "# iterate through faces in the original spanning_tree\n",
    "#looking at adjacent faces and compare if path exists between them in facet_graph\n",
    "#use: nx.has_path(facet_graph, face, adj_face)” \n",
    "\n",
    "#if no path exists, then find the common vertices between the two faces\n",
    "#use: np.intersect1d(face_1, face_2)\n",
    "#and switch the existing edges\n",
    "\n",
    "#use: facet_graph.remove_edge(face, common_vertex)  \n",
    "#and facet_graph.add_edge(face, other_common_vertex)\n",
    "\n",
    "\n",
    "\n",
    "\n",
    "\n",
    "nx.draw(facet_graph, with_labels=True)\n",
    "\n",
    "#print(list(nx.eulerian_circuit(facet_graph)))\n",
    "\n",
    "\n"
   ]
  },
  {
   "cell_type": "code",
   "execution_count": null,
   "id": "8d863ada",
   "metadata": {},
   "outputs": [],
   "source": []
  }
 ],
 "metadata": {
  "kernelspec": {
   "display_name": "Python 3 (ipykernel)",
   "language": "python",
   "name": "python3"
  },
  "language_info": {
   "codemirror_mode": {
    "name": "ipython",
    "version": 3
   },
   "file_extension": ".py",
   "mimetype": "text/x-python",
   "name": "python",
   "nbconvert_exporter": "python",
   "pygments_lexer": "ipython3",
   "version": "3.9.5"
  }
 },
 "nbformat": 4,
 "nbformat_minor": 5
}
