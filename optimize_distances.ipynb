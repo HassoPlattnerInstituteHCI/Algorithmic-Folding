{
 "cells": [
  {
   "cell_type": "code",
   "execution_count": 5,
   "id": "absolute-holiday",
   "metadata": {},
   "outputs": [
    {
     "name": "stdout",
     "output_type": "stream",
     "text": [
      "[('x', 2.696961488012553), ('y', 14.561948006781602), ('w', 9.629454747397077), ('z', 6.6294547473970775), ('s', 29.258909494794153)]\n"
     ]
    }
   ],
   "source": [
    "import numpy as np\n",
    "from scipy.optimize import fsolve\n",
    "\n",
    "def myFunction(o):\n",
    "    x = o[0]\n",
    "    y = o[1]\n",
    "    w = o[2]\n",
    "    z = o[3]\n",
    "    s = o[4]\n",
    "\n",
    "    F = np.empty((5))\n",
    "    F[0] = x**2+w**2-100\n",
    "    F[1] = y**2+z**2-256\n",
    "    F[2] = z+8-s/2\n",
    "    F[3] = x + y -s +12\n",
    "    F[4] = w + 5-s/2\n",
    "    return F\n",
    "\n",
    "oGuess = np.array([10,10,10,10,10])\n",
    "o = fsolve(myFunction,oGuess)\n",
    "print(list(zip([\"x\",\"y\",\"w\",\"z\",\"s\"],o)))"
   ]
  },
  {
   "cell_type": "code",
   "execution_count": null,
   "id": "superior-forum",
   "metadata": {},
   "outputs": [],
   "source": []
  }
 ],
 "metadata": {
  "kernelspec": {
   "display_name": "Python 3",
   "language": "python",
   "name": "python3"
  },
  "language_info": {
   "codemirror_mode": {
    "name": "ipython",
    "version": 3
   },
   "file_extension": ".py",
   "mimetype": "text/x-python",
   "name": "python",
   "nbconvert_exporter": "python",
   "pygments_lexer": "ipython3",
   "version": "3.8.5"
  }
 },
 "nbformat": 4,
 "nbformat_minor": 5
}
