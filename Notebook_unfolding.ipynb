{
 "cells": [
  {
   "cell_type": "code",
   "execution_count": 25,
   "metadata": {},
   "outputs": [],
   "source": [
    "import igl\n",
    "import numpy as np\n",
    "import networkx as nx\n",
    "import drawSvg as draw\n",
    "import meshplot as mp\n",
    "mp.jupyter()\n",
    "\n",
    "def add_edges_from_mesh(graph, faces):\n",
    "    face_adjacency_matrix, _ = igl.triangle_triangle_adjacency(faces)\n",
    "    for face_id, _ in enumerate(faces):\n",
    "        for ajd_face_id in face_adjacency_matrix[face_id]:\n",
    "            graph.add_edge(face_id,ajd_face_id)\n",
    "\n",
    "# adds nodes to graph G for every face in mesh\n",
    "def add_nodes_from_mesh(graph, faces): [graph.add_node(face_id) for face_id, face in enumerate(faces)]\n",
    "\n",
    "# create networkx graph from given mesh\n",
    "def graph_from_mesh(faces):\n",
    "    graph = nx.Graph()\n",
    "    add_nodes_from_mesh(graph, faces)\n",
    "    add_edges_from_mesh(graph, faces)\n",
    "    return graph\n",
    "\n",
    "# returns a rotation matrix from a (unnormalized) axis and an angle\n",
    "def get_rotation_matrix(axis, angle):\n",
    "    from scipy.spatial.transform import Rotation\n",
    "    return Rotation.from_rotvec(axis/np.linalg.norm(axis) * angle).as_matrix()\n",
    "\n",
    "# returns a matrix that maps 3D space onto a 2D plane (the orientation of which is specified by 'face_normal').\n",
    "def get_2d_projection(face_normal):\n",
    "    xy_plane_normal = np.array([0,0,1])  # aka 'the z-axis'\n",
    "    rotation_axis = np.cross(face_normal, xy_plane_normal)\n",
    "    angle = np.arccos(np.clip(np.dot(xy_plane_normal, face_normal), -1.0, 1.0))\n",
    "\n",
    "    discard_z_matrix = np.array([\n",
    "        [1, 0, 0],\n",
    "        [0, 1, 0]\n",
    "    ])\n",
    "\n",
    "    rotation_matrix = get_rotation_matrix(rotation_axis, angle)\n",
    "    return discard_z_matrix.dot(rotation_matrix)\n",
    "\n",
    "\n",
    "def draw_polygons(polygons):\n",
    "    # generate svg visualization\n",
    "    drawing = None\n",
    "    drawing = draw.Drawing(1000, 1000, origin='center')\n",
    "    for polygon in polygons:\n",
    "        # polygon = [coords[0:2] for coords in polygon]\n",
    "        drawing.append(draw.Lines(*np.array(polygon).flatten()*50,\n",
    "                                  close=True, fill='#eeee00', stroke='#000', stroke_width=.1))\n",
    "\n",
    "    drawing.rasterize()\n",
    "    return drawing\n"
   ]
  },
  {
   "cell_type": "code",
   "execution_count": 15,
   "metadata": {},
   "outputs": [],
   "source": [
    "# load mesh\n",
    "raw_vertices, raw_faces = igl.read_triangle_mesh(\"cube.stl\")\n",
    "vertices, faces, _ = igl.remove_duplicates(raw_vertices, raw_faces, 0.00001)\n"
   ]
  },
  {
   "cell_type": "code",
   "execution_count": 12,
   "metadata": {},
   "outputs": [
    {
     "data": {
      "image/svg+xml": "<?xml version=\"1.0\" encoding=\"UTF-8\"?>\n<svg xmlns=\"http://www.w3.org/2000/svg\" xmlns:xlink=\"http://www.w3.org/1999/xlink\"\n     width=\"1000\" height=\"1000\" viewBox=\"-500.0 -500.0 1000 1000\">\n<defs>\n</defs>\n<path d=\"M-50.000000000000014,150.0 L49.999999999999986,50.0 L-50.000000000000014,50.0 Z\" fill=\"#eeee00\" stroke=\"#000\" stroke-width=\"0.1\" />\n<path d=\"M-50.000000000000014,150.0 L49.999999999999986,150.0 L49.999999999999986,50.0 Z\" fill=\"#eeee00\" stroke=\"#000\" stroke-width=\"0.1\" />\n<path d=\"M-50.000000000000014,250.0 L49.999999999999986,150.0 L-50.000000000000014,150.0 Z\" fill=\"#eeee00\" stroke=\"#000\" stroke-width=\"0.1\" />\n<path d=\"M-50.000000000000014,250.0 L49.999999999999986,250.0 L49.999999999999986,150.0 Z\" fill=\"#eeee00\" stroke=\"#000\" stroke-width=\"0.1\" />\n<path d=\"M-50.000000000000014,350.0 L49.999999999999986,250.0 L-50.000000000000014,250.0 Z\" fill=\"#eeee00\" stroke=\"#000\" stroke-width=\"0.1\" />\n<path d=\"M-50.000000000000014,350.0 L49.999999999999986,350.0 L49.999999999999986,250.0 Z\" fill=\"#eeee00\" stroke=\"#000\" stroke-width=\"0.1\" />\n<path d=\"M-50.000000000000014,450.0 L49.999999999999986,350.0 L-50.000000000000014,350.0 Z\" fill=\"#eeee00\" stroke=\"#000\" stroke-width=\"0.1\" />\n<path d=\"M-50.000000000000014,350.0 L-150.0,450.0 L-50.000000000000014,450.0 Z\" fill=\"#eeee00\" stroke=\"#000\" stroke-width=\"0.1\" />\n<path d=\"M-50.000000000000014,350.0 L-150.0,350.0 L-150.0,450.0 Z\" fill=\"#eeee00\" stroke=\"#000\" stroke-width=\"0.1\" />\n<path d=\"M49.999999999999986,250.0 L49.999999999999986,350.0 L150.0,350.0 Z\" fill=\"#eeee00\" stroke=\"#000\" stroke-width=\"0.1\" />\n<path d=\"M49.999999999999986,250.0 L150.0,350.0 L150.0,250.0 Z\" fill=\"#eeee00\" stroke=\"#000\" stroke-width=\"0.1\" />\n<path d=\"M-50.000000000000014,50.0 L49.999999999999986,50.0 L49.999999999999986,-50.0 Z\" fill=\"#eeee00\" stroke=\"#000\" stroke-width=\"0.1\" />\n</svg>",
      "text/plain": "<drawSvg.drawing.Drawing at 0x7f4267ce6100>"
     },
     "execution_count": 12,
     "metadata": {},
     "output_type": "execute_result"
    }
   ],
   "source": [
    "# find commone edge of two adjacent faces\n",
    "def find_common_edge(faces, face_id_a, face_id_b):\n",
    "    # make sure that the resulting vertex ids are clockwise wrt. source face\n",
    "    face_vertex_array_a = faces[face_id_a]\n",
    "    face_vertex_array_b = faces[face_id_b]\n",
    "\n",
    "    for i in range(3):\n",
    "        if face_vertex_array_a[i] in face_vertex_array_b and face_vertex_array_a[(i+1) % 3] in face_vertex_array_b:\n",
    "            return (face_vertex_array_a[i], face_vertex_array_a[(i+1) % 3])\n",
    "\n",
    "    return None\n",
    "\n",
    "def get_face_normal(vertices, faces, face_id):\n",
    "    face_normals = igl.per_face_normals(vertices, faces, np.ones((1, 3)))\n",
    "    return face_normals[face_id]\n",
    "\n",
    "# get angle between the normals of two faces\n",
    "def dihedral_angle(vertices, faces, face_a_id, face_b_id):\n",
    "    face_normals = igl.per_face_normals(vertices, faces, np.ones((1, 3)))\n",
    "    return np.arccos(np.clip(np.dot(face_normals[face_a_id], face_normals[face_b_id]), -1.0, 1.0))\n",
    "\n",
    "def unfold(vertices, faces):\n",
    "    polygons = []  # resulting polygons, represented as lists of 2D coordinates\n",
    "\n",
    "    source_face_id = 0\n",
    "    parent_dict = nx.dfs_predecessors(graph_from_mesh(faces), source=source_face_id)  # format { node_id: parent_id, ... }\n",
    "    parent_dict[source_face_id] = None  # add the source face, as networkX is not doing this by default\n",
    "\n",
    "    for face_id, parent_face_id in parent_dict.items():\n",
    "        # retrieve the coordinates of current face\n",
    "        face_coordinates = [vertices[vertex_id] for vertex_id in faces[face_id]]\n",
    "        \n",
    "        # iterate over all parents and apply unfolding rotations accordingly\n",
    "        selected_face_id = face_id\n",
    "        selected_parent_face_id = parent_face_id\n",
    "\n",
    "        while selected_face_id != source_face_id:\n",
    "            # get edge between selected face and parent as tuple of two vertex_ids\n",
    "            hinge_edge = find_common_edge(faces, selected_parent_face_id, selected_face_id)\n",
    "            \n",
    "            # apply unfolding transformation:\n",
    "            # - all face_coordinates are offset such that the hinge_edge aligns with the origin\n",
    "            # - then, the rotation around the hinge_edge is performed, such that the selected face\n",
    "            #   and the parent lay in the same plane\n",
    "            # - finally, we reverse the offset, such that the face ends up in its original position \n",
    "            offset = vertices[hinge_edge[0]]\n",
    "            rotation_angle = dihedral_angle(\n",
    "                vertices, faces, selected_face_id, selected_parent_face_id)\n",
    "            rotation_axis = vertices[hinge_edge[0]] - vertices[hinge_edge[1]]\n",
    "            rotation_matrix = get_rotation_matrix(rotation_axis, rotation_angle)\n",
    "\n",
    "            for i in range(3):\n",
    "                face_coordinates[i] = rotation_matrix.dot(face_coordinates[i] - offset) + offset\n",
    "\n",
    "            # climbing up the tree\n",
    "            selected_face_id = selected_parent_face_id\n",
    "            selected_parent_face_id = parent_dict[selected_parent_face_id]\n",
    "\n",
    "        # project 3D coordinates into the 2D plane that \n",
    "        for i in range(3):\n",
    "            face_coordinates[i] = get_2d_projection(get_face_normal(vertices, faces, source_face_id)).dot(face_coordinates[i])\n",
    "            \n",
    "        polygons.append(face_coordinates)\n",
    "\n",
    "    return polygons\n",
    "\n",
    "\n",
    "draw_polygons(unfold(vertices, faces))\n"
   ]
  },
  {
   "cell_type": "code",
   "execution_count": 31,
   "metadata": {},
   "outputs": [
    {
     "data": {
      "application/vnd.jupyter.widget-view+json": {
       "model_id": "6845b53a6bce43a2854c3eedba6c6bb9",
       "version_major": 2,
       "version_minor": 0
      },
      "text/plain": "Renderer(camera=PerspectiveCamera(children=(DirectionalLight(color='white', intensity=0.6, position=(0.0, 0.0,…"
     },
     "metadata": {},
     "output_type": "display_data"
    },
    {
     "data": {
      "text/plain": "<meshplot.Viewer.Viewer at 0x7f4267caf220>"
     },
     "execution_count": 31,
     "metadata": {},
     "output_type": "execute_result"
    }
   ],
   "source": [
    "mp.plot(vertices, faces)\n"
   ]
  }
 ],
 "metadata": {
  "kernelspec": {
   "display_name": "Python 3.9.10 64-bit ('af': conda)",
   "name": "conda_af"
  },
  "language_info": {
   "codemirror_mode": {
    "name": "ipython",
    "version": 3
   },
   "file_extension": ".py",
   "mimetype": "text/x-python",
   "name": "python",
   "nbconvert_exporter": "python",
   "pygments_lexer": "ipython3",
   "version": "3.9.10"
  }
 },
 "nbformat": 4,
 "nbformat_minor": 5
}