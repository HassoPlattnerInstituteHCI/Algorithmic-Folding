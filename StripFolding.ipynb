{
 "cells": [
  {
   "cell_type": "code",
   "execution_count": 1,
   "id": "considerable-multiple",
   "metadata": {},
   "outputs": [],
   "source": [
    "import drawSvg as draw\n",
    "from enum import Enum\n",
    "import math\n",
    "strip =[]\n",
    "stripwidth = 10\n",
    "striplength=0\n",
    "def render (strip, striplength, stripwidth):\n",
    "    d = draw.Drawing(1000,stripwidth)\n",
    "    for element in strip:\n",
    "        if type(element) is Plain:\n",
    "            striplength += element.length\n",
    "    d.append(draw.Rectangle(0, 0, striplength, stripwidth,stroke='red', fill='none'))        \n",
    "    d.saveSvg('test.svg')\n",
    "    d.rasterize()\n",
    "    return d"
   ]
  },
  {
   "cell_type": "code",
   "execution_count": 2,
   "id": "through-member",
   "metadata": {},
   "outputs": [
    {
     "data": {
      "image/svg+xml": [
       "<?xml version=\"1.0\" encoding=\"UTF-8\"?>\n",
       "<svg xmlns=\"http://www.w3.org/2000/svg\" xmlns:xlink=\"http://www.w3.org/1999/xlink\"\n",
       "     width=\"1000\" height=\"10\" viewBox=\"0 -10 1000 10\">\n",
       "<defs>\n",
       "</defs>\n",
       "<rect x=\"0\" y=\"-10\" width=\"100\" height=\"10\" stroke=\"red\" fill=\"none\" />\n",
       "</svg>"
      ],
      "text/plain": [
       "<drawSvg.drawing.Drawing at 0x7ff752e70790>"
      ]
     },
     "execution_count": 2,
     "metadata": {},
     "output_type": "execute_result"
    }
   ],
   "source": [
    "class Plain:\n",
    "    def __init__(self, length):\n",
    "        self.length = length\n",
    "def addPlain(strip,len):\n",
    "    strip.append(Plain(len))\n",
    "    return strip\n",
    "\n",
    "strip = addPlain(strip,100)\n",
    "render (strip, striplength, stripwidth)"
   ]
  },
  {
   "cell_type": "code",
   "execution_count": 3,
   "id": "agricultural-simple",
   "metadata": {},
   "outputs": [
    {
     "data": {
      "image/svg+xml": [
       "<?xml version=\"1.0\" encoding=\"UTF-8\"?>\n",
       "<svg xmlns=\"http://www.w3.org/2000/svg\" xmlns:xlink=\"http://www.w3.org/1999/xlink\"\n",
       "     width=\"1000\" height=\"10\" viewBox=\"0 -10 1000 10\">\n",
       "<defs>\n",
       "</defs>\n",
       "<path d=\"M110.0,0 L100,-10\" stroke=\"red\" fill=\"none\" />\n",
       "<path d=\"M110.0,0 L120.0,-10\" stroke=\"red\" fill=\"none\" />\n",
       "<path d=\"M237.3205080756888,0 L220.0,-10\" stroke=\"blue\" fill=\"none\" />\n",
       "<rect x=\"0\" y=\"-10\" width=\"237.3205080756888\" height=\"10\" stroke=\"red\" fill=\"none\" />\n",
       "</svg>"
      ],
      "text/plain": [
       "<drawSvg.drawing.Drawing at 0x7ff753cc1eb0>"
      ]
     },
     "execution_count": 3,
     "metadata": {},
     "output_type": "execute_result"
    }
   ],
   "source": [
    "class Fold:\n",
    "    def __init__(self, mv, angle):\n",
    "        self.mv = mv\n",
    "        self.angle = angle\n",
    "    def getLength(self,stripwidth):\n",
    "        return stripwidth*math.tan(math.radians(90-self.angle))\n",
    "class MV(Enum):\n",
    "    MOUNTAIN=0\n",
    "    VALLEY=1 \n",
    "def addFold(strip,mv,angle):\n",
    "    strip.append(Fold(mv,angle))\n",
    "    return strip\n",
    " \n",
    "def render (strip, striplength, stripwidth):\n",
    "    d = draw.Drawing(1000,stripwidth)\n",
    "    for element in strip:\n",
    "        if type(element) is Plain:\n",
    "            striplength += element.length\n",
    "        if type(element) is Fold:\n",
    "            l = element.getLength(stripwidth)\n",
    "            x1 = striplength \n",
    "            x2 = striplength+abs(l) \n",
    "            if l <0: x1,x2 = x2,x1\n",
    "            d.append(draw.Line(x1,0,x2,stripwidth,stroke='red' if element.mv is MV.MOUNTAIN else 'blue', fill='none'))    \n",
    "            striplength += abs(l)\n",
    "    d.append(draw.Rectangle(0, 0, striplength, stripwidth,stroke='red', fill='none'))        \n",
    "    d.saveSvg('test.svg')\n",
    "    d.rasterize()\n",
    "    return d\n",
    "\n",
    "strip = addFold(strip,MV.MOUNTAIN, -45)\n",
    "strip = addFold(strip,MV.MOUNTAIN, 45)\n",
    "strip = addPlain(strip,100)\n",
    "strip = addFold(strip,MV.VALLEY, -30)\n",
    "\n",
    "render (strip, striplength, stripwidth)"
   ]
  },
  {
   "cell_type": "code",
   "execution_count": 4,
   "id": "convertible-scheduling",
   "metadata": {},
   "outputs": [
    {
     "data": {
      "image/svg+xml": [
       "<?xml version=\"1.0\" encoding=\"UTF-8\"?>\n",
       "<svg xmlns=\"http://www.w3.org/2000/svg\" xmlns:xlink=\"http://www.w3.org/1999/xlink\"\n",
       "     width=\"1000\" height=\"10\" viewBox=\"0 -10 1000 10\">\n",
       "<defs>\n",
       "</defs>\n",
       "<path d=\"M110.0,0 L100,-10\" stroke=\"red\" fill=\"none\" />\n",
       "<path d=\"M110.0,0 L120.0,-10\" stroke=\"red\" fill=\"none\" />\n",
       "<path d=\"M237.3205080756888,0 L220.0,-10\" stroke=\"blue\" fill=\"none\" />\n",
       "<path d=\"M237.3205080756888,0 L247.3205080756888,-10\" stroke=\"red\" fill=\"none\" />\n",
       "<path d=\"M257.3205080756888,0 L247.3205080756888,-10\" stroke=\"red\" fill=\"none\" />\n",
       "<rect x=\"0\" y=\"-10\" width=\"257.3205080756888\" height=\"10\" stroke=\"red\" fill=\"none\" />\n",
       "</svg>"
      ],
      "text/plain": [
       "<drawSvg.drawing.Drawing at 0x7ff753c90ee0>"
      ]
     },
     "execution_count": 4,
     "metadata": {},
     "output_type": "execute_result"
    }
   ],
   "source": [
    "def addCornerGadget (strip,mv):\n",
    "    strip = addFold(strip,mv,45)\n",
    "    strip = addFold(strip,mv,-45)\n",
    "    return strip\n",
    "strip = addCornerGadget(strip,MV.MOUNTAIN)\n",
    "render (strip, striplength, stripwidth)"
   ]
  },
  {
   "cell_type": "code",
   "execution_count": null,
   "id": "hawaiian-effects",
   "metadata": {},
   "outputs": [],
   "source": []
  },
  {
   "cell_type": "code",
   "execution_count": null,
   "id": "clinical-relay",
   "metadata": {},
   "outputs": [],
   "source": []
  },
  {
   "cell_type": "code",
   "execution_count": null,
   "id": "municipal-roulette",
   "metadata": {},
   "outputs": [],
   "source": []
  }
 ],
 "metadata": {
  "kernelspec": {
   "display_name": "Python 3",
   "language": "python",
   "name": "python3"
  },
  "language_info": {
   "codemirror_mode": {
    "name": "ipython",
    "version": 3
   },
   "file_extension": ".py",
   "mimetype": "text/x-python",
   "name": "python",
   "nbconvert_exporter": "python",
   "pygments_lexer": "ipython3",
   "version": "3.8.5"
  }
 },
 "nbformat": 4,
 "nbformat_minor": 5
}
