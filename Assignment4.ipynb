{
 "cells": [
  {
   "cell_type": "code",
   "execution_count": 12,
   "id": "printable-insured",
   "metadata": {},
   "outputs": [
    {
     "name": "stdout",
     "output_type": "stream",
     "text": [
      "⎡0  0  0  0  0   0   0    0 ⎤\n",
      "⎢                           ⎥\n",
      "⎢0  0  0  0  5   2   0    0 ⎥\n",
      "⎢                           ⎥\n",
      "⎢0  0  0  0  0   0   -5  -10⎥\n",
      "⎢                           ⎥\n",
      "⎢0  0  0  0  -5  2   0    0 ⎥\n",
      "⎢                           ⎥\n",
      "⎢0  0  0  0  0   0   5   -10⎥\n",
      "⎢                           ⎥\n",
      "⎣0  0  0  0  0   -8  0    8 ⎦\n",
      "the tensegrity is rigid\n"
     ]
    }
   ],
   "source": [
    "import networkx as nx\n",
    "from scipy.optimize import linprog\n",
    "from sympy import Matrix, pprint, floor, Point, zeros\n",
    "from linkages import *\n",
    "\n",
    "def graph_to_matrix(G, pins={}):\n",
    "    if type(pins) is Point: pins = {pins}\n",
    "    M = Matrix()\n",
    "    for edge in G.edges.data():\n",
    "        edge_from, edge_to, edge_att = edge\n",
    "        row = []\n",
    "        t = -1 if edge_att[TYPE] == \"strut\" else 1\n",
    "        delta_x,delta_y = t*(edge_from.x - edge_to.x), t*(edge_from.y - edge_to.y)\n",
    "        for vertex in G.nodes:\n",
    "            if vertex == edge_from and vertex not in pins:\n",
    "                row.extend([delta_x,delta_y])\n",
    "            elif vertex == edge_to and vertex not in pins:\n",
    "                row.extend([-delta_x,-delta_y])\n",
    "            else:\n",
    "                row.extend([0,0])\n",
    "        M = Matrix([M,row])\n",
    "        if edge_att[TYPE] == \"bar\": M = Matrix([M,M.row(-1)*-1])\n",
    "    return M\n",
    "\n",
    "def set_edge_type(G,edge,val):\n",
    "    a,b = edge\n",
    "    graph[list(G.nodes)[a]][list(G.nodes)[b]][TYPE] = val\n",
    "    \n",
    "def check_rigidity(A): \n",
    "    b = zeros(A.rows,1)\n",
    "    for i in range(0,A.cols):\n",
    "        if A.col(i) == b: continue\n",
    "        c = zeros(1,A.cols)\n",
    "        c[i] = -1\n",
    "        res = linprog(c, A_ub=A,b_ub=b, method=\"simplex\")\n",
    "        # if res[‘status] is 0 the optimization converged\n",
    "        # look through the results in res[‘x’]\n",
    "        # if any value is larger than 0 return “inf motion of value”\n",
    "        # if status is 3 return “equation unbound—motion possible”\n",
    "    # if nothing returned so far, no motion return “rigid”    \n",
    "    \n",
    "graph = parallel_4_bar(True) \n",
    "set_edge_type(graph,(0,2),\"cable\")\n",
    "set_edge_type(graph,(1,3),\"cable\")\n",
    "\n",
    "nodes = list(graph.nodes)\n",
    "A = graph_to_matrix(graph, {nodes[0], nodes[1]})\n",
    "pprint(A)\n",
    "print(check_rigidity(A))\n"
   ]
  },
  {
   "cell_type": "code",
   "execution_count": null,
   "id": "delayed-support",
   "metadata": {},
   "outputs": [],
   "source": []
  }
 ],
 "metadata": {
  "kernelspec": {
   "display_name": "Python 3",
   "language": "python",
   "name": "python3"
  },
  "language_info": {
   "codemirror_mode": {
    "name": "ipython",
    "version": 3
   },
   "file_extension": ".py",
   "mimetype": "text/x-python",
   "name": "python",
   "nbconvert_exporter": "python",
   "pygments_lexer": "ipython3",
   "version": "3.8.5"
  }
 },
 "nbformat": 4,
 "nbformat_minor": 5
}
