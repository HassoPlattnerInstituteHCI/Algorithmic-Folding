{
 "cells": [
  {
   "cell_type": "code",
   "execution_count": 20,
   "id": "patent-major",
   "metadata": {},
   "outputs": [
    {
     "name": "stdout",
     "output_type": "stream",
     "text": [
      "[[array([ 5., -2., 10.]), array([5.        , 4.66666667, 6.66666667]), array([ 5., -2., 20.])], [array([ 5., -2., 20.]), array([-1.66666667, -2.        , 13.33333333]), array([ 5., -2., 10.])], [array([-5., -2., 20.]), array([-1.66666667, -2.        , 13.33333333]), array([ 5., -2., 20.])], [array([-15.,  -2.,  20.]), array([-1.66666667, -2.        , 13.33333333]), array([-5., -2., 20.])], [array([-5., -2., 10.]), array([-1.66666667, -2.        , 13.33333333]), array([-15.,  -2.,  20.])], [array([ 5., -2.,  0.]), array([-1.66666667, -2.        , 13.33333333]), array([-5., -2., 10.])], [array([ 5., -2., 10.]), array([-1.66666667, -2.        , 13.33333333]), array([ 5., -2.,  0.])], [array([ 5., -2.,  0.]), array([5.        , 4.66666667, 6.66666667]), array([ 5., -2., 10.])], [array([5., 8., 0.]), array([5.        , 4.66666667, 6.66666667]), array([ 5., -2.,  0.])], [array([ 5., -2.,  0.]), array([-1.66666667, 11.33333333,  0.        ]), array([5., 8., 0.])], [array([-5.,  8.,  0.]), array([-1.66666667, 11.33333333,  0.        ]), array([ 5., -2.,  0.])], [array([-15.,  18.,   0.]), array([-1.66666667, 11.33333333,  0.        ]), array([-5.,  8.,  0.])], [array([-5., 18.,  0.]), array([-1.66666667, 11.33333333,  0.        ]), array([-15.,  18.,   0.])], [array([ 5., 18.,  0.]), array([-1.66666667, 11.33333333,  0.        ]), array([-5., 18.,  0.])], [array([5., 8., 0.]), array([-1.66666667, 11.33333333,  0.        ]), array([ 5., 18.,  0.])], [array([ 5., 18.,  0.]), array([5.        , 4.66666667, 6.66666667]), array([5., 8., 0.])], [array([ 5.,  8., 10.]), array([5.        , 4.66666667, 6.66666667]), array([ 5., 18.,  0.])], [array([ 5., 18.,  0.]), array([ 5.        , 11.33333333, 13.33333333]), array([ 5.,  8., 10.])], [array([ 5., 18., 10.]), array([ 5.        , 11.33333333, 13.33333333]), array([ 5., 18.,  0.])], [array([ 5., 18.,  0.]), array([-1.66666667, 18.        ,  6.66666667]), array([ 5., 18., 10.])], [array([-5., 18.,  0.]), array([-1.66666667, 18.        ,  6.66666667]), array([ 5., 18.,  0.])], [array([-15.,  18.,   0.]), array([-1.66666667, 18.        ,  6.66666667]), array([-5., 18.,  0.])], [array([-5., 18., 10.]), array([-1.66666667, 18.        ,  6.66666667]), array([-15.,  18.,   0.])], [array([ 5., 18., 20.]), array([-1.66666667, 18.        ,  6.66666667]), array([-5., 18., 10.])], [array([ 5., 18., 10.]), array([-1.66666667, 18.        ,  6.66666667]), array([ 5., 18., 20.])], [array([ 5., 18., 20.]), array([ 5.        , 11.33333333, 13.33333333]), array([ 5., 18., 10.])], [array([ 5.,  8., 20.]), array([ 5.        , 11.33333333, 13.33333333]), array([ 5., 18., 20.])], [array([ 5., 18., 20.]), array([-1.66666667,  4.66666667, 20.        ]), array([ 5.,  8., 20.])], [array([-5.,  8., 20.]), array([-1.66666667,  4.66666667, 20.        ]), array([ 5., 18., 20.])], [array([ 5., 18., 20.]), array([-8.33333333, 11.33333333, 20.        ]), array([-5.,  8., 20.])], [array([-5., 18., 20.]), array([-8.33333333, 11.33333333, 20.        ]), array([ 5., 18., 20.])], [array([-15.,  18.,  20.]), array([-8.33333333, 11.33333333, 20.        ]), array([-5., 18., 20.])], [array([-15.,   8.,  20.]), array([-8.33333333, 11.33333333, 20.        ]), array([-15.,  18.,  20.])], [array([-15.,  18.,  20.]), array([-15.        ,   4.66666667,  13.33333333]), array([-15.,   8.,  20.])], [array([-15.,   8.,  10.]), array([-15.        ,   4.66666667,  13.33333333]), array([-15.,  18.,  20.])], [array([-15.,  18.,  20.]), array([-15.        ,  11.33333333,   6.66666667]), array([-15.,   8.,  10.])], [array([-15.,  18.,  10.]), array([-15.        ,  11.33333333,   6.66666667]), array([-15.,  18.,  20.])], [array([-15.,  18.,  20.]), array([-8.33333333, 18.        , 13.33333333]), array([-15.,  18.,  10.])], [array([-5., 18., 20.]), array([-8.33333333, 18.        , 13.33333333]), array([-15.,  18.,  20.])], [array([ 5., 18., 20.]), array([-8.33333333, 18.        , 13.33333333]), array([-5., 18., 20.])], [array([-5., 18., 10.]), array([-8.33333333, 18.        , 13.33333333]), array([ 5., 18., 20.])], [array([-15.,  18.,   0.]), array([-8.33333333, 18.        , 13.33333333]), array([-5., 18., 10.])], [array([-15.,  18.,  10.]), array([-8.33333333, 18.        , 13.33333333]), array([-15.,  18.,   0.])], [array([-15.,  18.,   0.]), array([-15.        ,  11.33333333,   6.66666667]), array([-15.,  18.,  10.])], [array([-15.,   8.,   0.]), array([-15.        ,  11.33333333,   6.66666667]), array([-15.,  18.,   0.])], [array([-15.,  18.,   0.]), array([-8.33333333,  4.66666667,  0.        ]), array([-15.,   8.,   0.])], [array([-5.,  8.,  0.]), array([-8.33333333,  4.66666667,  0.        ]), array([-15.,  18.,   0.])], [array([ 5., -2.,  0.]), array([-8.33333333,  4.66666667,  0.        ]), array([-5.,  8.,  0.])], [array([-5., -2.,  0.]), array([-8.33333333,  4.66666667,  0.        ]), array([ 5., -2.,  0.])], [array([-15.,  -2.,   0.]), array([-8.33333333,  4.66666667,  0.        ]), array([-5., -2.,  0.])], [array([-15.,   8.,   0.]), array([-8.33333333,  4.66666667,  0.        ]), array([-15.,  -2.,   0.])], [array([-15.,  -2.,   0.]), array([-15.        ,  11.33333333,   6.66666667]), array([-15.,   8.,   0.])], [array([-15.,   8.,  10.]), array([-15.        ,  11.33333333,   6.66666667]), array([-15.,  -2.,   0.])], [array([-15.,  -2.,   0.]), array([-15.        ,   4.66666667,  13.33333333]), array([-15.,   8.,  10.])], [array([-15.,  -2.,  10.]), array([-15.        ,   4.66666667,  13.33333333]), array([-15.,  -2.,   0.])], [array([-15.,  -2.,   0.]), array([-8.33333333, -2.        ,  6.66666667]), array([-15.,  -2.,  10.])], [array([-5., -2.,  0.]), array([-8.33333333, -2.        ,  6.66666667]), array([-15.,  -2.,   0.])], [array([ 5., -2.,  0.]), array([-8.33333333, -2.        ,  6.66666667]), array([-5., -2.,  0.])], [array([-5., -2., 10.]), array([-8.33333333, -2.        ,  6.66666667]), array([ 5., -2.,  0.])], [array([-15.,  -2.,  20.]), array([-8.33333333, -2.        ,  6.66666667]), array([-5., -2., 10.])], [array([-15.,  -2.,  10.]), array([-8.33333333, -2.        ,  6.66666667]), array([-15.,  -2.,  20.])], [array([-15.,  -2.,  20.]), array([-15.        ,   4.66666667,  13.33333333]), array([-15.,  -2.,  10.])], [array([-15.,   8.,  20.]), array([-15.        ,   4.66666667,  13.33333333]), array([-15.,  -2.,  20.])], [array([-15.,  -2.,  20.]), array([-8.33333333, 11.33333333, 20.        ]), array([-15.,   8.,  20.])], [array([-5.,  8., 20.]), array([-8.33333333, 11.33333333, 20.        ]), array([-15.,  -2.,  20.])], [array([-15.,  -2.,  20.]), array([-1.66666667,  4.66666667, 20.        ]), array([-5.,  8., 20.])], [array([-5., -2., 20.]), array([-1.66666667,  4.66666667, 20.        ]), array([-15.,  -2.,  20.])], [array([ 5., -2., 20.]), array([-1.66666667,  4.66666667, 20.        ]), array([-5., -2., 20.])], [array([ 5.,  8., 20.]), array([-1.66666667,  4.66666667, 20.        ]), array([ 5., -2., 20.])], [array([ 5., -2., 20.]), array([ 5.        , 11.33333333, 13.33333333]), array([ 5.,  8., 20.])], [array([ 5.,  8., 10.]), array([ 5.        , 11.33333333, 13.33333333]), array([ 5., -2., 20.])], [array([ 5., -2., 20.]), array([5.        , 4.66666667, 6.66666667]), array([ 5.,  8., 10.])]]\n"
     ]
    }
   ],
   "source": [
    "import openmesh as om\n",
    "import networkx as nx\n",
    "import numpy\n",
    "\n",
    "# returns the midpoints of the edges of a triangle t\n",
    "def calc_edge_midpoints(t): return (t[0] + t[1])/2, (t[1] + t[2])/2, (t[2] + t[0])/2\n",
    "# returns the center of a triangle t as vertex to mesh m\n",
    "def add_center_vertex(m,t): return [m.add_vertex(numpy.mean(t,0))]\n",
    "# adds a list of vertices to a mesh and returns the vertex handles\n",
    "def add_vertices_from_face(m,face): return [m.add_vertex(v) for v in face] \n",
    "# returns duplicate vertices of a list if they exist on a mesh\n",
    "def get_duplicate_vertices (m,l): return [find_duplicate_vertex(m,v) for v in l]\n",
    "# if there exists a vertex v in mesh m, it returns that handle, otherwise it returns the handle of the vertex itself \n",
    "def find_duplicate_vertex(m,v): return next((m.vertex_handle(i) for i,point in enumerate(m.points()) if all(point == m.point(v)) and v.idx() != i),m.vertex_handle(v.idx()))\n",
    "# returns a face handle from three elements of a list of vertices\n",
    "def face_from_list(m,l,a,b,c): return [m.add_face(l[a],l[b],l[c])]\n",
    "# returns the points of the vertices a face f\n",
    "def face_to_points(m,f): return [(m.point(v)) for v in m.fv(f)]\n",
    "#triangulates the mesh where every triangle is turned into 6 smaller triangles\n",
    "def clean_mesh (m):\n",
    "    m.delete_isolated_vertices() \n",
    "    m.garbage_collection()\n",
    "# returns the node that contains the current face\n",
    "def get_node_of_face (f,nodes,graph_map): return next(node for node in nodes if f in graph_map[node])\n",
    "# returns the adjacent nodes to node n in tree T         \n",
    "def get_adjacent_nodes(T,n): return nx.descendants_at_distance(T,n,1)\n",
    "# returns the faces that map to the nodes \n",
    "def get_faces_on_nodes(graph_map,nodes): return [graph_map[n] for n in nodes]\n",
    "# returns the id of faces in mesh m that are adjacent to face f\n",
    "def get_adjacent_faces(m,f): return [face.idx() for face in m.ff(m.face_handle(f))]\n",
    "# sets face f on mesh m to visited\n",
    "def set_visited(m,f): return m.set_face_property(\"visited\", m.face_handle(f), True)\n",
    "# checks if face f on mesh m is visited\n",
    "def is_visited (m,f): return m.face_property(\"visited\", m.face_handle(f))    \n",
    "# adds nodes to graph G for every face in mesh m\n",
    "def add_nodes_from_mesh(G,m): [G.add_node(f.idx()) for f in m.faces()]\n",
    "# adds edges to graph G for every face in mesh m adjacent to another face\n",
    "def add_edges_from_mesh(G,m): [[G.add_edge(face,ajd_face) for ajd_face in get_adjacent_faces(m,face)] for face,fh in enumerate(m.faces())]  \n",
    "# get the ids of a list of openMesh handles\n",
    "def get_ids(l): return [e.idx() for e in l]\n",
    "# create spanning tree from mesh m using networkx\n",
    "def spanning_tree_from_mesh(m): return nx.minimum_spanning_tree(graph_from_mesh(m))\n",
    "# get the triangle representation of a list of faces\n",
    "def faces_to_triangles (m,faces): return [face_to_triangle(m,face) for face in faces]\n",
    "# get the triangle representation of a facehandle\n",
    "def face_to_triangle (m,face):return [(m.point(vertex)) for vertex in m.fv(m.face_handle(face))]\n",
    "# flatten a nested list to individual elements\n",
    "def flatten_list (l): return [item for sublist in l for item in sublist]\n",
    "# returns the face from adj_faces that lies on the node returns False if there is no such face\n",
    "def get_adjacent_face_on_node(m,adj_faces,faces_on_node): return next((face for face in adj_faces if is_visited(m,face) != True and face in faces_on_node), False)\n",
    "# returns a graph based on mesh data\n",
    "def graph_from_mesh(m):\n",
    "    G = nx.Graph()\n",
    "    add_nodes_from_mesh(G,m)\n",
    "    add_edges_from_mesh(G,m)\n",
    "    return G\n",
    "# returns the triangulated mesh and a dictionary to map the original mesh's triangles to their triangulated counterparts\n",
    "def triangulate_mesh (original_mesh):\n",
    "    triangulated_mesh = om.TriMesh()\n",
    "    tri_dict = {}\n",
    "    #TODO: Triangulate each face into six new triangles around the centerpoint\n",
    "    return triangulated_mesh, tri_dict\n",
    "\n",
    "# traversal function. l = list of triangles, m = mesh, T = spanning Tree, graph_map a dictionary of triangles to triangulated triangles\n",
    "def traverse(m,T, graph_map, node, face,l=[]):\n",
    "    #TODO: recursively traverse the graph \n",
    "    return traverse(m,T, graph_map, get_node_of_face(face,adj_nodes|{node}, graph_map), face,l)\n",
    "\n",
    "# the main algorithm: converts a mesh to a foldable list of triangles\n",
    "def hamiltonian_refinement(original_mesh):\n",
    "    #TODO: 1. triangulate the mesh\n",
    "    #TODO: 2. find the spanning tree from the mesh\n",
    "    #TODO: 3. use that to traverse the mesh to get a list of triangles \n",
    "    return \n",
    "    \n",
    "mesh = om.TriMesh()\n",
    "mesh = om.read_trimesh(\"cube.stl\")\n",
    "#TODO: call the hamiltonian_refinement function and use the strip folding code from class to export an SVG"
   ]
  },
  {
   "cell_type": "code",
   "execution_count": null,
   "id": "forbidden-greene",
   "metadata": {},
   "outputs": [],
   "source": []
  }
 ],
 "metadata": {
  "kernelspec": {
   "display_name": "Python 3",
   "language": "python",
   "name": "python3"
  },
  "language_info": {
   "codemirror_mode": {
    "name": "ipython",
    "version": 3
   },
   "file_extension": ".py",
   "mimetype": "text/x-python",
   "name": "python",
   "nbconvert_exporter": "python",
   "pygments_lexer": "ipython3",
   "version": "3.8.5"
  }
 },
 "nbformat": 4,
 "nbformat_minor": 5
}
