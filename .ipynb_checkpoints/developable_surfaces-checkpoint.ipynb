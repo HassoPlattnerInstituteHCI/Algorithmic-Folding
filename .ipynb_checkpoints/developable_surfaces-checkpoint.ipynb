{
 "cells": [
  {
   "cell_type": "code",
   "execution_count": 1,
   "id": "western-tooth",
   "metadata": {},
   "outputs": [],
   "source": [
    "import igl\n",
    "import meshplot as mp\n",
    "import numpy as np"
   ]
  },
  {
   "cell_type": "markdown",
   "id": "phantom-italy",
   "metadata": {},
   "source": [
    "# Hello world"
   ]
  },
  {
   "cell_type": "code",
   "execution_count": 3,
   "id": "dominican-entrepreneur",
   "metadata": {},
   "outputs": [
    {
     "data": {
      "application/vnd.jupyter.widget-view+json": {
       "model_id": "fda612bdf079427d9773cf617cee3db3",
       "version_major": 2,
       "version_minor": 0
      },
      "text/plain": [
       "Renderer(camera=PerspectiveCamera(children=(DirectionalLight(color='white', intensity=0.6, position=(0.0002189…"
      ]
     },
     "metadata": {},
     "output_type": "display_data"
    },
    {
     "data": {
      "text/plain": [
       "<meshplot.Viewer.Viewer at 0x1fc59c50760>"
      ]
     },
     "execution_count": 3,
     "metadata": {},
     "output_type": "execute_result"
    }
   ],
   "source": [
    "v, f = igl.read_triangle_mesh(\"data/bunny.obj\")\n",
    "mp.plot(v, f, v[:, 0])"
   ]
  },
  {
   "cell_type": "markdown",
   "id": "complicated-revolution",
   "metadata": {},
   "source": [
    "# Data Representation\n",
    "Meshes are represented by a numpy array of vertex coordinates (nx3) and a numpy array of face indices (mx3) and can be loaded from 3D file formats"
   ]
  },
  {
   "cell_type": "code",
   "execution_count": 4,
   "id": "ambient-friendly",
   "metadata": {},
   "outputs": [
    {
     "name": "stdout",
     "output_type": "stream",
     "text": [
      "[[ 0.579785 -0.556431  0.335583]\n",
      " [ 0.566629 -0.530296  0.334038]\n",
      " [ 0.533192 -0.543823  0.342491]\n",
      " ...\n",
      " [-0.521482  0.641195 -0.549294]\n",
      " [-0.555727  0.655425 -0.519703]\n",
      " [-0.534968  0.676574 -0.551021]]\n",
      "[[   0    1    2]\n",
      " [   0    3    1]\n",
      " [   1    4    2]\n",
      " ...\n",
      " [3296 3298 3300]\n",
      " [3299 3300 3298]\n",
      " [3299 3295 3300]]\n"
     ]
    }
   ],
   "source": [
    "v: np.array # Array of vertex coordinates (nx3)\n",
    "f: np.array # Array of face indices (mx3)\n",
    "v, f = igl.read_triangle_mesh(\"data/bunny.obj\")\n",
    "print(v)\n",
    "print(f)"
   ]
  },
  {
   "cell_type": "markdown",
   "id": "convenient-milan",
   "metadata": {},
   "source": [
    "# Visualizing Surfaces and Pointclouds"
   ]
  },
  {
   "cell_type": "code",
   "execution_count": 5,
   "id": "honest-graph",
   "metadata": {},
   "outputs": [
    {
     "data": {
      "application/vnd.jupyter.widget-view+json": {
       "model_id": "3298eb9a2f0146b69e28829a4ae06197",
       "version_major": 2,
       "version_minor": 0
      },
      "text/plain": [
       "Renderer(camera=PerspectiveCamera(children=(DirectionalLight(color='white', intensity=0.6, position=(0.0002189…"
      ]
     },
     "metadata": {},
     "output_type": "display_data"
    },
    {
     "data": {
      "application/vnd.jupyter.widget-view+json": {
       "model_id": "23f4be205a8f4eff90dd0ffb5f18afeb",
       "version_major": 2,
       "version_minor": 0
      },
      "text/plain": [
       "Renderer(camera=PerspectiveCamera(children=(DirectionalLight(color='white', intensity=0.6, position=(0.0002189…"
      ]
     },
     "metadata": {},
     "output_type": "display_data"
    },
    {
     "data": {
      "text/plain": [
       "<meshplot.Viewer.Viewer at 0x1fc5c7e6790>"
      ]
     },
     "execution_count": 5,
     "metadata": {},
     "output_type": "execute_result"
    }
   ],
   "source": [
    "mp.plot(v, f, c=v[:, 0])\n",
    "mp.plot(v, c=v[:, 0],shading={\"point_size\":0.3})"
   ]
  },
  {
   "cell_type": "markdown",
   "id": "varied-authority",
   "metadata": {},
   "source": [
    "# Gauss map of the input mesh"
   ]
  },
  {
   "cell_type": "code",
   "execution_count": 17,
   "id": "cubic-chocolate",
   "metadata": {},
   "outputs": [
    {
     "data": {
      "application/vnd.jupyter.widget-view+json": {
       "model_id": "d4a599dfb68a49cd8b5b2e8fc76d3761",
       "version_major": 2,
       "version_minor": 0
      },
      "text/plain": [
       "HBox(children=(Output(), Output()))"
      ]
     },
     "metadata": {},
     "output_type": "display_data"
    },
    {
     "data": {
      "application/vnd.jupyter.widget-view+json": {
       "model_id": "b8785cea57894d288507dcada3f4e16a",
       "version_major": 2,
       "version_minor": 0
      },
      "text/plain": [
       "HBox(children=(Output(), Output()))"
      ]
     },
     "metadata": {},
     "output_type": "display_data"
    },
    {
     "data": {
      "text/plain": [
       "1"
      ]
     },
     "execution_count": 17,
     "metadata": {},
     "output_type": "execute_result"
    }
   ],
   "source": [
    "v, f = igl.read_triangle_mesh(\"data/sphere.obj\")\n",
    "# v,f=igl.upsample(v,f,2)\n",
    "vs, fs = igl.read_triangle_mesh(\"data/unit_sphere.obj\")\n",
    "# Calculating properties of the mesh\n",
    "nf = igl.per_face_normals(v, f, np.array([0.0, 0.0, 0.0]))\n",
    "nfv = np.linalg.norm(nf * 0.5 + 0.5, axis=1)\n",
    "nv = igl.per_vertex_normals(v, f)\n",
    "avg = igl.avg_edge_length(v, f)\n",
    "\n",
    "v1, v2, k1, k2 = igl.principal_curvature(v, f)\n",
    "mean_curv = 0.5 * (k1 + k2)\n",
    "gaussian_curv=k1*k2\n",
    "\n",
    "# Face normals\n",
    "d = mp.subplot(v, f, c=nfv, s=[2, 2, 0])\n",
    "\n",
    "\n",
    "# Vertex normals as lines\n",
    "mp.subplot(v,f, c=nv, s=[2, 2, 1], data=d)\n",
    "d.rows[0][1].add_lines(v, v + nv * avg)\n",
    "\n",
    "# Gaussian curvature + directions\n",
    "mp.subplot(v, f, c=gaussian_curv, s=[2, 2, 2], data=d)\n",
    "d.rows[1][0].add_lines(v + v1 * avg/3, v - v1 * avg/3, shading={\"line_color\": \"red\"})\n",
    "d.rows[1][0].add_lines(v + v2 * avg/3, v - v2 * avg/3, shading={\"line_color\": \"green\"})\n",
    "\n",
    "# Gauss map\n",
    "\n",
    "mp.subplot(vs, fs, s=[2, 2, 3], shading={\"flat\":False}, data=d)\n",
    "d.rows[1][1].add_points(nv,shading={\"point_size\":0.1})"
   ]
  },
  {
   "cell_type": "code",
   "execution_count": null,
   "id": "spread-mortality",
   "metadata": {},
   "outputs": [],
   "source": []
  }
 ],
 "metadata": {
  "kernelspec": {
   "display_name": "Python 3 (ipykernel)",
   "language": "python",
   "name": "python3"
  },
  "language_info": {
   "codemirror_mode": {
    "name": "ipython",
    "version": 3
   },
   "file_extension": ".py",
   "mimetype": "text/x-python",
   "name": "python",
   "nbconvert_exporter": "python",
   "pygments_lexer": "ipython3",
   "version": "3.9.7"
  }
 },
 "nbformat": 4,
 "nbformat_minor": 5
}
