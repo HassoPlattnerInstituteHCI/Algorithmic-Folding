{
 "cells": [
  {
   "cell_type": "code",
   "execution_count": null,
   "id": "ea4f28e6-e709-4482-a1c1-c79322baa01b",
   "metadata": {},
   "outputs": [],
   "source": [
    "import openmesh as om\n",
    "# OpenMesh docs are here\n",
    "# https://openmesh-python.readthedocs.io/en/latest/iterators.html\n",
    "\n",
    "import numpy as np\n",
    "from numpy.linalg import inv\n",
    "\n",
    "from math import sqrt, pi\n",
    "from collections import defaultdict\n",
    "\n",
    "import drawSvg as draw\n",
    "\n",
    "def set_visited(mesh, face): mesh.set_face_property(\"visited\", face, True)\n",
    "\n",
    "def is_visited(mesh, face): return mesh.face_property(\"visited\", face) == True\n",
    "\n",
    "def clear_visited(mesh):\n",
    "    for face in mesh.faces():\n",
    "        mesh.set_face_property(\"visited\", face, False)\n",
    "\n",
    "# making it easier to read the OpenMesh API\n",
    "def get_adjacent_faces(mesh, face): return mesh.ff(face)\n",
    "def get_vertecies_by_face(mesh, face): return list(mesh.fv(face))\n",
    "\n",
    "def get_coordinate_from_vertex_handle(mesh, vertex_handle): return mesh.point(vertex_handle)\n",
    "def get_first_vertex_handle(mesh, halfedge_handle): return mesh.from_vertex_handle(halfedge_handle)\n",
    "def get_face_normal(mesh, face): return mesh.normal(face)\n",
    "\n",
    "def get_edge_between_faces(mesh, face_a, face_b):\n",
    "    for face_a_halfedge in mesh.fh(face_a):\n",
    "        if mesh.face_handle(mesh.opposite_halfedge_handle(face_a_halfedge)).idx() == face_b.idx():\n",
    "            return face_a_halfedge\n",
    "    raise Error(\"there is no edge between these two faces\")\n",
    "\n",
    "def get_rotation_matrix(axis, angle):\n",
    "    from scipy.spatial.transform import Rotation\n",
    "    return Rotation.from_rotvec(axis/np.linalg.norm(axis) * angle).as_matrix()\n"
   ]
  },
  {
   "cell_type": "code",
   "execution_count": null,
   "id": "c09f3e33-2c91-4411-99ef-864fc7606d18",
   "metadata": {},
   "outputs": [],
   "source": [
    "class Tree:\n",
    "    adjacency_lists = defaultdict(list)\n",
    "\n",
    "    def get_root(self):\n",
    "        return self.adjacency_lists[-1]\n",
    "\n",
    "    def set_root(self, node_id):\n",
    "        self.adjacency_lists[-1] = node_id\n",
    "\n",
    "    def insert(self, node_id, parent_id):\n",
    "        self.adjacency_lists[parent_id].append(node_id)\n",
    "\n",
    "    def get_children(self, node_id):\n",
    "        return self.adjacency_lists[node_id]"
   ]
  },
  {
   "cell_type": "code",
   "execution_count": null,
   "id": "c65b0286-15dd-4066-b2e8-bab81e991987",
   "metadata": {},
   "outputs": [],
   "source": [
    "def bfs(mesh, start_face):\n",
    "    spanning_tree = Tree()\n",
    "    clear_visited(mesh)\n",
    "    \n",
    "    # START HERE\n",
    "\n",
    "    return spanning_tree"
   ]
  },
  {
   "cell_type": "code",
   "execution_count": null,
   "id": "4d1e95bc-8ca9-45a3-b824-5dcc3384d502",
   "metadata": {},
   "outputs": [],
   "source": [
    "# Use this cell to run\n",
    "mesh = om.read_polymesh('cube.stl')\n",
    "mesh.update_normals()\n",
    "\n",
    "spanning_tree = bfs(mesh, mesh.face_handle(0))\n",
    "\n",
    "print(spanning_tree.adjacency_lists)"
   ]
  }
 ],
 "metadata": {
  "kernelspec": {
   "display_name": "mainForReal",
   "language": "python",
   "name": "mainforreal"
  },
  "language_info": {
   "name": ""
  }
 },
 "nbformat": 4,
 "nbformat_minor": 5
}
