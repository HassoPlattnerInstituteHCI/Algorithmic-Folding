{
 "cells": [
  {
   "cell_type": "code",
   "execution_count": 2,
   "id": "31593657",
   "metadata": {},
   "outputs": [],
   "source": [
    "import numpy as np\n",
    "from unfolding_helper import *\n",
    "\n",
    "#helper function to see if to faces are normal to eachother\n",
    "is_normal = lambda s1, s2 : sum([abs(c1) != abs(c2) for c1, c2 in zip(s1, s2)]) != 0\n",
    "\n",
    "def strip_n_wings(face_normals, mesh):\n",
    "    all_normals = list(mesh.face_normals())\n",
    "    \n",
    "    #Every face normal to inputted face is strip\n",
    "    strip = [f.idx() for f in mesh.faces() if is_normal(face_normals, all_normals[f.idx()])]\n",
    "    \n",
    "    #Every face that is not strip must be wing\n",
    "    wings = [f.idx() for f in mesh.faces() if f.idx() not in strip]\n",
    "    \n",
    "    return (strip, wings)"
   ]
  },
  {
   "cell_type": "code",
   "execution_count": 3,
   "id": "e09742e2",
   "metadata": {},
   "outputs": [],
   "source": [
    "def get_best_snw(mesh):    \n",
    "    #List of (strip, wings) tuples from normals\n",
    "    #TODO: Deal with non orthoganal objects\n",
    "    snw_list = [strip_n_wings(f, mesh) for f in [[0, 0, 1], [0, 1, 0], [1, 0, 0]]]\n",
    "    \n",
    "    #Rating strips based on size by sorting them\n",
    "    snw_list.sort(key=lambda snw : len(snw[0]))\n",
    "    \n",
    "    return snw_list[-1]"
   ]
  },
  {
   "cell_type": "code",
   "execution_count": 1,
   "id": "5a9bb50e",
   "metadata": {},
   "outputs": [],
   "source": [
    "def strip_2_tree(mesh, strip):\n",
    "    #Create Rootnode for spanning tree out of first face in strip\n",
    "    root = node(strip.pop(0))                                                                                                                                                                                                                                                           \n",
    "    while strip:\n",
    "        pass\n",
    "        #Tipp: \n",
    "        #    node.add_child_node adds a child node to the given node\n",
    "        #    mesh.get_adjacent_faces_idx(face_id) gives back all face_ids of adjacent faces\n",
    "        \n",
    "        #Add nodes to the spanning tree and remove them out of strip\n",
    "        #start here\n",
    "    \n",
    "    return root "
   ]
  },
  {
   "cell_type": "code",
   "execution_count": null,
   "id": "c575325c",
   "metadata": {},
   "outputs": [],
   "source": [
    "#mesh = Mesh('../Models/cube.obj')\n",
    "#strip, wings = get_best_snw(mesh)\n",
    "#tree = strip_2_tree(mesh, strip)\n",
    "#unfolding = tree.unfold(mesh)\n",
    "\n",
    "#print(is_unfolding_overlapping(unfolding))\n",
    "#draw_svg(unfolding, 'SimpleCube.svg')"
   ]
  }
 ],
 "metadata": {
  "kernelspec": {
   "display_name": "Python 3 (ipykernel)",
   "language": "python",
   "name": "python3"
  },
  "language_info": {
   "codemirror_mode": {
    "name": "ipython",
    "version": 3
   },
   "file_extension": ".py",
   "mimetype": "text/x-python",
   "name": "python",
   "nbconvert_exporter": "python",
   "pygments_lexer": "ipython3",
   "version": "3.9.7"
  }
 },
 "nbformat": 4,
 "nbformat_minor": 5
}
