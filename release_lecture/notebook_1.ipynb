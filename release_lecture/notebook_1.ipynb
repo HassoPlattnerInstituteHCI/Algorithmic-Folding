{
 "cells": [
  {
   "cell_type": "code",
   "execution_count": 1,
   "id": "263c2fad",
   "metadata": {},
   "outputs": [],
   "source": [
    "from unfolding_helper import *\n",
    "\n",
    "def get_unfolding(mesh, cutted_faces):\n",
    "    tree = node(cutted_faces[0])\n",
    "    tree.add_child(cutted_faces[1])\n",
    "    return tree.unfold(mesh)"
   ]
  },
  {
   "cell_type": "code",
   "execution_count": 11,
   "id": "c35d40af",
   "metadata": {},
   "outputs": [
    {
     "name": "stdout",
     "output_type": "stream",
     "text": [
      "Cutted Edges: [1, 6, 7, 8, 5, 11, 9]\n",
      "Shortest path in 2d will start at [0.5 0.5] and end at [0. 2.]\n"
     ]
    }
   ],
   "source": [
    "mesh = Mesh('cube.obj')\n",
    "    \n",
    "#list of faces on the shortest path\n",
    "cutted_faces = [5, 2]\n",
    "    \n",
    "end_point_id = 2\n",
    "starting_point_3d = (.5, .5, .1)\n",
    "    \n",
    "#unfold the faces from cutted_faces as shown in the previous lectures\n",
    "unfold = get_unfolding(mesh, cutted_faces)\n",
    "    \n",
    "#list of edge_ids that possibly are being cut by the shortest path\n",
    "cutted_edges = get_cutted_edges(mesh, cutted_faces)\n",
    "print('Cutted Edges:', cutted_edges)\n",
    "    \n",
    "#create a Hashmap that maps vertex_id to 2d coordinates\n",
    "points_2d = map_id_2d_points(mesh, unfold, cutted_faces)\n",
    "    \n",
    "#now we can get the 2d projection of the end point\n",
    "end_point_2d = points_2d[end_point_id]\n",
    "    \n",
    "#project starting point from 3d to 2d space using the first Matrix Multiplication in the unfold function\n",
    "starting_point_2d = starting_point_3d_2_2d(mesh, cutted_faces[0], starting_point_3d)\n",
    "    \n",
    "print('Shortest path in 2d will start at', starting_point_2d, 'and end at', end_point_2d)"
   ]
  },
  {
   "cell_type": "code",
   "execution_count": null,
   "id": "0ac79712",
   "metadata": {},
   "outputs": [],
   "source": []
  }
 ],
 "metadata": {
  "kernelspec": {
   "display_name": "Python 3 (ipykernel)",
   "language": "python",
   "name": "python3"
  },
  "language_info": {
   "codemirror_mode": {
    "name": "ipython",
    "version": 3
   },
   "file_extension": ".py",
   "mimetype": "text/x-python",
   "name": "python",
   "nbconvert_exporter": "python",
   "pygments_lexer": "ipython3",
   "version": "3.9.9"
  }
 },
 "nbformat": 4,
 "nbformat_minor": 5
}
