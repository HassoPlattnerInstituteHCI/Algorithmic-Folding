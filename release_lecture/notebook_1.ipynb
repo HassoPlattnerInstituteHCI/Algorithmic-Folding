{
 "cells": [
  {
   "cell_type": "code",
   "execution_count": 1,
   "id": "c6d950ba",
   "metadata": {},
   "outputs": [],
   "source": [
    "import numpy as np\n",
    "from unfolding_helper import *"
   ]
  },
  {
   "cell_type": "code",
   "execution_count": 2,
   "id": "417b501a",
   "metadata": {},
   "outputs": [],
   "source": [
    "#Function to create strip and wings\n",
    "def strip_n_wings(face_normals, mesh):\n",
    "    all_normals = list(mesh.face_normals())\n",
    "    \n",
    "    # Start here\n",
    "    # Tipp: \"mesh.faces()\" to get all face_handles\n",
    "    \n",
    "    return (strip, face)"
   ]
  },
  {
   "cell_type": "code",
   "execution_count": null,
   "id": "2782927b",
   "metadata": {},
   "outputs": [],
   "source": []
  }
 ],
 "metadata": {
  "kernelspec": {
   "display_name": "Python 3 (ipykernel)",
   "language": "python",
   "name": "python3"
  },
  "language_info": {
   "codemirror_mode": {
    "name": "ipython",
    "version": 3
   },
   "file_extension": ".py",
   "mimetype": "text/x-python",
   "name": "python",
   "nbconvert_exporter": "python",
   "pygments_lexer": "ipython3",
   "version": "3.9.7"
  }
 },
 "nbformat": 4,
 "nbformat_minor": 5
}
