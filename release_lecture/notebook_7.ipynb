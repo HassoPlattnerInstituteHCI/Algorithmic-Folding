{
 "cells": [
  {
   "cell_type": "code",
   "execution_count": 12,
   "id": "31593657",
   "metadata": {},
   "outputs": [],
   "source": [
    "import numpy as np\n",
    "from unfolding_helper import *\n",
    "\n",
    "#helper function to see if to faces are normal to eachother\n",
    "is_normal = lambda s1, s2 : sum([abs(c1) != abs(c2) for c1, c2 in zip(s1, s2)]) != 0\n",
    "\n",
    "def strip_n_wings(face_normals, mesh):\n",
    "    all_normals = list(mesh.face_normals())\n",
    "    \n",
    "    #Every face normal to inputted face is strip\n",
    "    strip = [f.idx() for f in mesh.faces() if is_normal(face_normals, all_normals[f.idx()])]\n",
    "    \n",
    "    #Every face that is not strip must be wing\n",
    "    wings = [f.idx() for f in mesh.faces() if f.idx() not in strip]\n",
    "    \n",
    "    return (strip, wings)"
   ]
  },
  {
   "cell_type": "code",
   "execution_count": 13,
   "id": "e09742e2",
   "metadata": {},
   "outputs": [],
   "source": [
    "def get_best_snw(mesh):    \n",
    "    #List of (strip, wings) tuples from normals\n",
    "    #TODO: Deal with non orthoganal objects\n",
    "    snw_list = [strip_n_wings(f, mesh) for f in [[0, 0, 1], [0, 1, 0], [1, 0, 0]]]\n",
    "    \n",
    "    #Rating strips based on size by sorting them\n",
    "    snw_list.sort(key=lambda snw : len(snw[0]))\n",
    "    \n",
    "    return snw_list[-1]\n",
    "    "
   ]
  },
  {
   "cell_type": "code",
   "execution_count": 14,
   "id": "5a9bb50e",
   "metadata": {},
   "outputs": [],
   "source": [
    "def strip_2_tree(mesh, strip, trees = []):\n",
    "    #Create Rootnode for spanning tree out of first face in strip\n",
    "    root = node(strip.pop(0))\n",
    "    curr = root\n",
    "    \n",
    "    #small list to store faces which cause errors\n",
    "    remaining_strip = []\n",
    "    \n",
    "    while strip:\n",
    "        \n",
    "        #find all adjacent_faces to current face curr                                                                                               \n",
    "        children = [f for f in strip if f in mesh.get_adjacent_faces_idx(curr.val)]\n",
    "        \n",
    "        #break if there are no adjecent faces to the current face left in the strip                                                     \n",
    "        if not children:                                                                                                                \n",
    "            break\n",
    "            \n",
    "        #choose a child out of possible children, in this case just the first one possible\n",
    "        child_id = children[0]                                                                                                    \n",
    "        \n",
    "        #remove that child from strip and add it to the tree\n",
    "        strip.remove(child_id)                                                                                                                      \n",
    "        child_node = node(child_id)                                                                                                                 \n",
    "        curr.add_child_node(child_node)\n",
    "        \n",
    "        #Check if child_node causes overlaps\n",
    "        if is_unfolding_overlapping(root.unfold(mesh)):\n",
    "            #if so put child in remaining strip and remove it from tree\n",
    "            remaining_strip.append(child_node.val)                                                                                      \n",
    "            root.rem_child_node(child_node)\n",
    "        else:\n",
    "            #set curr to the freshly added node\n",
    "            curr = child_node\n",
    "    \n",
    "    #add rest of strip to remaining strip and call strip_2_tree() on it if needed\n",
    "    if len(strip) > 0 or len(remaining_strip) > 0:                                                                                      \n",
    "        remaining_strip += strip                                                                                                        \n",
    "        trees = strip_2_tree(mesh, remaining_strip, trees)                                                                              \n",
    "    \n",
    "    #add root (= the current tree) to the trees list\n",
    "    trees.append(root)\n",
    "    \n",
    "    return trees"
   ]
  },
  {
   "cell_type": "code",
   "execution_count": 15,
   "id": "4202b763",
   "metadata": {},
   "outputs": [],
   "source": [
    "def attach_wings(mesh, trees, wings): \n",
    "    \n",
    "    #list to store wings which cause errors\n",
    "    remaining_wings = []                                                                                                                   \n",
    "    def attach_wing(trees, wing):\n",
    "        \n",
    "        #we have to check all trees for all the possible parent faces\n",
    "        \n",
    "        #heuristic can be added here to determine best tree\n",
    "        for tree in trees:\n",
    "            \n",
    "            #Check every adjacent face to the wing if it could be a parent\n",
    "            #heuristic can be added here to determine best parent_face\n",
    "            for parent_face in mesh.get_adjacent_faces_idx(wing):         \n",
    "                #if it is: insert it and return\n",
    "                if tree.has(parent_face):                                                                                                               \n",
    "                    tree.insert_child(parent_face, node(wing))\n",
    "                    #check if it causes overlaps\n",
    "                    if is_unfolding_overlapping(tree.unfold(mesh)):\n",
    "                        #if so remove it\n",
    "                        tree.rem_child(wing)\n",
    "                    else:\n",
    "                        #otherwise return because wing is stable in tree\n",
    "                        return\n",
    "        #if wing can't be attached to any tree append it to remaining_wings\n",
    "        remaining_wings.append(wing)\n",
    "        \n",
    "                        \n",
    "    #attach all wings\n",
    "    for wing in wings:                                                                                                                              \n",
    "        attach_wing(trees, wing)\n",
    "    \n",
    "    #treat remaining wings like strips and build seperate trees out of them\n",
    "    if remaining_wings:\n",
    "        trees = strip_2_tree(mesh, remaining_wings, trees)\n",
    "    return trees"
   ]
  },
  {
   "cell_type": "code",
   "execution_count": 16,
   "id": "91e72f13",
   "metadata": {
    "scrolled": true
   },
   "outputs": [
    {
     "name": "stdout",
     "output_type": "stream",
     "text": [
      "False\n"
     ]
    },
    {
     "name": "stderr",
     "output_type": "stream",
     "text": [
      "  Warning! Material file 'Models/L2.mtl' not found!\n",
      "Warning! Material 'L2_wire_061135006' not defined in material file.\n"
     ]
    }
   ],
   "source": [
    "mesh = Mesh('Models/L2.obj')\n",
    "strip, wings = get_best_snw(mesh)\n",
    "trees = strip_2_tree(mesh, strip)\n",
    "trees = attach_wings(mesh, trees, wings)\n",
    "\n",
    "# ATTENTION: global trees list will not be emptied after cell evaluates... can cause confusion --- this is Jupyter Notebook specific\n",
    "#    -> clear cache\n",
    "for i, tree in enumerate(trees):\n",
    "    unfolding = tree.unfold(mesh)\n",
    "    print(is_unfolding_overlapping(unfolding))\n",
    "    draw_svg(unfolding, 'Unfolded_SVGs/example' + str(i) + '.svg')\n",
    "    \n",
    "#TODO:\n",
    "#    Add a heuristic to determine root node of the tree (biggest face)\n",
    "#    Add a heuristic to determine parent face when adding wings (longest edge)"
   ]
  },
  {
   "cell_type": "code",
   "execution_count": null,
   "id": "1b9cdf87",
   "metadata": {},
   "outputs": [],
   "source": []
  },
  {
   "cell_type": "code",
   "execution_count": null,
   "id": "7e54c594",
   "metadata": {},
   "outputs": [],
   "source": []
  },
  {
   "cell_type": "code",
   "execution_count": null,
   "id": "37ff4104",
   "metadata": {},
   "outputs": [],
   "source": []
  }
 ],
 "metadata": {
  "kernelspec": {
   "display_name": "Python 3 (ipykernel)",
   "language": "python",
   "name": "python3"
  },
  "language_info": {
   "codemirror_mode": {
    "name": "ipython",
    "version": 3
   },
   "file_extension": ".py",
   "mimetype": "text/x-python",
   "name": "python",
   "nbconvert_exporter": "python",
   "pygments_lexer": "ipython3",
   "version": "3.9.7"
  }
 },
 "nbformat": 4,
 "nbformat_minor": 5
}
