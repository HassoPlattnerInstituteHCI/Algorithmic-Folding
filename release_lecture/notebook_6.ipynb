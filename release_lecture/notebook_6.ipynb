{
 "cells": [
  {
   "cell_type": "code",
   "execution_count": 28,
   "id": "263c2fad",
   "metadata": {},
   "outputs": [],
   "source": [
    "from unfolding_helper import *\n",
    "from shapely.geometry import *\n",
    "\n",
    "def get_unfolding(mesh, cutted_faces):\n",
    "    tree = node(cutted_faces[0])\n",
    "    tree.add_child(cutted_faces[1])\n",
    "    return tree.unfold(mesh)"
   ]
  },
  {
   "cell_type": "code",
   "execution_count": 29,
   "id": "c35d40af",
   "metadata": {},
   "outputs": [],
   "source": [
    "mesh = Mesh('cube.obj')\n",
    "    \n",
    "#list of faces on the shortest path\n",
    "cutted_faces = [5, 2]\n",
    "    \n",
    "end_point_id = 2\n",
    "starting_point_3d = (.5, .5, .1)\n",
    "    \n",
    "#unfold the faces from cutted_faces as shown in the previous lectures\n",
    "unfold = get_unfolding(mesh, cutted_faces)\n",
    "    \n",
    "#list of edge_ids that possibly are being cut by the shortest path\n",
    "cutted_edges = get_cutted_edges(mesh, cutted_faces)\n",
    "    \n",
    "#create a Hashmap that maps vertex_id to 2d coordinates\n",
    "points_2d = map_id_2d_points(mesh, unfold, cutted_faces)\n",
    "    \n",
    "#now we can get the 2d projection of the end point\n",
    "end_point_2d = points_2d[end_point_id]\n",
    "    \n",
    "#project starting point from 3d to 2d space using the first Matrix Multiplication in the unfold function\n",
    "starting_point_2d = starting_point_3d_2_2d(mesh, cutted_faces[0], starting_point_3d)\n",
    "\n",
    "#List of edges represented as vertex_ids\n",
    "#Example: [(0, 1), (1, 2), (2, 3), (3, 0), (0, 4), (4, 5), (5, 1), (5, 6), (6, 2), (6, 7), (7, 3), (7, 4)]\n",
    "#now we can get the vertecies of an edge by edges_as_vertex_ids[edge_id]\n",
    "edges_as_vertex_ids = [tuple(e) for e in mesh.edge_vertex_indices()]\n",
    "\n",
    "\n",
    "#list to store generated lines\n",
    "lines = []\n",
    "\n",
    "#for each edge_id we get the right vertex_ids \n",
    "for e in cutted_edges:\n",
    "    vertex_ids = edges_as_vertex_ids[e]\n",
    "    \n",
    "    #Create a LineString out of 2d coordinates of these verticies\n",
    "    nl = LineString((points_2d[vertex_ids[0]], points_2d[vertex_ids[1]]))\n",
    "    \n",
    "    #Append this line to lines\n",
    "    lines.append(nl)\n",
    "\n",
    "# Create a LineString out of the 2d starting and the 2d end point\n",
    "main_line = LineString((starting_point_2d, end_point_2d))"
   ]
  },
  {
   "cell_type": "code",
   "execution_count": 30,
   "id": "0ac79712",
   "metadata": {},
   "outputs": [],
   "source": [
    "# Simple Vector Class\n",
    "class Vec:\n",
    "    def __init__(self, x, y, z):\n",
    "        self.x = x\n",
    "        self.y = y\n",
    "        self.z = z\n",
    "\n",
    "    def len(self):\n",
    "        return sqrt(self.x**2 + self.y**2 + self.z**2)\n",
    "\n",
    "    def normalize(self):\n",
    "        l = self.len()\n",
    "        return Vec(self.x/l, self.y/l, self.z/l)\n",
    "\n",
    "    def __add__(self, v):\n",
    "        return Vec(self.x + v.x, self.y + v.y, self.z + v.z)\n",
    "\n",
    "    def __mul__(self, s):\n",
    "        return Vec(self.x * s, self.y * s, self.z * s)\n",
    "\n",
    "    def __sub__(self, v):\n",
    "        return Vec(self.x - v.x, self.y - v.y, self.z - v.z)"
   ]
  },
  {
   "cell_type": "code",
   "execution_count": 31,
   "id": "dcfcb7bc",
   "metadata": {},
   "outputs": [],
   "source": [
    "class Intersection_Vertex:\n",
    "    def __init__(self, edge_id, distance):\n",
    "        self.edge_id = edge_id\n",
    "        self.distance = distance\n",
    "    \n",
    "    def calc_3d_coordinates(self, edge):\n",
    "        #expecting the edge to already be in Vector form\n",
    "        return (edge[1] - edge[0]).normalize() * (self.distance) + edge[0]"
   ]
  },
  {
   "cell_type": "code",
   "execution_count": 32,
   "id": "a3c9963e",
   "metadata": {},
   "outputs": [],
   "source": [
    "new_vertices = []\n",
    "for edge_id, l in enumerate(lines):   \n",
    "    #intersect mainline with current line l\n",
    "    p = main_line.intersection(l)  \n",
    "    \n",
    "    #if there is an intersection get the coordinates of p and store them\n",
    "    if p: \n",
    "        #turn p into a vector\n",
    "        p = tuple(p.coords)[0]\n",
    "        p = Vec(p[0], p[1], 0)\n",
    "        \n",
    "        #turn the first point in the line into a vector\n",
    "        A = tuple(l.coords)[0]\n",
    "        A = Vec(A[0], A[1], 0)\n",
    "        \n",
    "        #calculate the distance betwenn p and A\n",
    "        dist = (p - A).len()\n",
    "        \n",
    "        #turn p into an Intersection_Vertex\n",
    "        p = Intersection_Vertex(edge_id, dist)\n",
    "        new_vertices.append(p)"
   ]
  },
  {
   "cell_type": "code",
   "execution_count": 33,
   "id": "d7258fbe",
   "metadata": {},
   "outputs": [],
   "source": [
    "#List of 3d Coordinates for every vertex in the mesh\n",
    "# use \"points_3d[vertex_id]\" to get the coordinates of a certain point\n",
    "\n",
    "points_3d = [tuple(p) for p in mesh.points()]\n",
    "# TODO: Calculate the 3d position for every Intersection_Vertex in new_vertices\n",
    "#     -> use \"edge_as_vertex_ids\" to get the corresponing vertex_ids to any given edge_id\n",
    "#     -> use \"Intersection_Vertex.calc_3d_coordinates(edge)\" \n"
   ]
  },
  {
   "cell_type": "code",
   "execution_count": null,
   "id": "126be39f",
   "metadata": {},
   "outputs": [],
   "source": []
  }
 ],
 "metadata": {
  "kernelspec": {
   "display_name": "Python 3 (ipykernel)",
   "language": "python",
   "name": "python3"
  },
  "language_info": {
   "codemirror_mode": {
    "name": "ipython",
    "version": 3
   },
   "file_extension": ".py",
   "mimetype": "text/x-python",
   "name": "python",
   "nbconvert_exporter": "python",
   "pygments_lexer": "ipython3",
   "version": "3.9.9"
  }
 },
 "nbformat": 4,
 "nbformat_minor": 5
}
