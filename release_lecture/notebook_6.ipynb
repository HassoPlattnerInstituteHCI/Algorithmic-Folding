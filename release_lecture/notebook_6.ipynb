{
 "cells": [
  {
   "cell_type": "code",
   "execution_count": 3,
   "id": "31593657",
   "metadata": {},
   "outputs": [],
   "source": [
    "import numpy as np\n",
    "from unfolding_helper import *\n",
    "\n",
    "#helper function to see if to faces are normal to eachother\n",
    "is_normal = lambda s1, s2 : sum([abs(c1) != abs(c2) for c1, c2 in zip(s1, s2)]) != 0\n",
    "\n",
    "def strip_n_wings(face, mesh):\n",
    "    all_normals = list(mesh.face_normals())\n",
    "    face_normals = all_normals[face.idx()]\n",
    "    \n",
    "    #Every face normal to inputted face is strip\n",
    "    strip = [f.idx() for f in mesh.faces() if is_normal(face_normals, all_normals[f.idx()])]\n",
    "    \n",
    "    #Every face that is not strip must be wing\n",
    "    wings = [f.idx() for f in mesh.faces() if f.idx() not in strip]\n",
    "    \n",
    "    return (strip, wings)"
   ]
  },
  {
   "cell_type": "code",
   "execution_count": 4,
   "id": "e09742e2",
   "metadata": {},
   "outputs": [],
   "source": [
    "def get_best_snw(mesh):\n",
    "    \n",
    "    #helper function to select three different faces which are normal to eachother\n",
    "    def three_normal(mesh):\n",
    "        all_normals = list(mesh.face_normals())\n",
    "        faces = []\n",
    "        \n",
    "        for f in mesh.faces():\n",
    "            \n",
    "            #if current face is not not normal to every face in faces append current face to faces\n",
    "            if not sum([not is_normal(all_normals[f.idx()], all_normals[ff.idx()]) for ff in faces]):\n",
    "                faces.append(f)\n",
    "            \n",
    "            #if we found three normal faces return them\n",
    "            if len(faces) == 3:\n",
    "                return faces\n",
    "        \n",
    "        return faces\n",
    "    \n",
    "    #List of (strip, wings) tuples from faces out of three_normal()\n",
    "    snw_list = [strip_n_wings(f, mesh) for f in three_normal(mesh)]\n",
    "    \n",
    "    #Rating strips based on size by sorting them\n",
    "    snw_list.sort(key=lambda snw : len(snw[0]))\n",
    "    \n",
    "    return snw_list[-1]\n",
    "    "
   ]
  },
  {
   "cell_type": "code",
   "execution_count": 5,
   "id": "5a9bb50e",
   "metadata": {},
   "outputs": [],
   "source": [
    "#start here: modify code to deal with different kinds of errors:\n",
    "#    what happens if child array is empty but strip isn't?\n",
    "#    what happens when the unfolded strip overlaps somewhere?\n",
    "#    --> put every face which causes an error in sperate strip and call strip_2_tree on that strip\n",
    "#    --> create multiple trees by this, return type is list of trees\n",
    "\n",
    "#Tipp: you can remove child by id: tree.rem_child(child_id), or by reference tree.rem_child_node(child_node)\n",
    "#      tree.unfold(mesh) to unfold the mesh according to the spanning tree\n",
    "#      is_unfolding_overlapping(tree.unfold(mesh)) for the overlap check\n",
    "def strip_2_tree(mesh, strip):\n",
    "    #Create Rootnode for spanning tree out of first face in strip\n",
    "    root = node(strip.pop(0))\n",
    "    curr = root\n",
    "    while strip:\n",
    "        \n",
    "        #find all adjacent_faces to current face curr                                                                                               \n",
    "        children = [f for f in strip if f in mesh.get_adjacent_faces_idx(curr.val)]\n",
    "        \n",
    "        #choose a child out of possible children, in this case just the first one possible\n",
    "        child_id = children[0]                                                                                                    \n",
    "        \n",
    "        #remove that child from strip and add it to the tree\n",
    "        strip.remove(child_id)                                                                                                                      \n",
    "        child_node = node(child_id)                                                                                                                 \n",
    "        curr.add_child_node(child_node)\n",
    "        \n",
    "        #set curr to the freshly added node\n",
    "        curr = child_node\n",
    "    \n",
    "    return root "
   ]
  },
  {
   "cell_type": "code",
   "execution_count": 6,
   "id": "4202b763",
   "metadata": {},
   "outputs": [],
   "source": [
    "#start here: modify this code to deal with a list of trees\n",
    "#    deal with overlaps\n",
    "#\n",
    "#Tipp: you can remove child by id: tree.rem_child(child_id), or by reference tree.rem_child_node(child_node)\n",
    "#      tree.unfold(mesh) to unfold the mesh according to the spanning tree\n",
    "#      is_unfolding_overlapping(tree.unfold(mesh)) for the overlap check\n",
    "def attach_wings(mesh, tree, wings):                                                                                                               \n",
    "                                                                                                                            \n",
    "    def attach_wing(tree, wing):\n",
    "        #Check every adjacent face to the wing if it could be a parent\n",
    "        for parent_face in mesh.get_adjacent_faces_idx(wing):         \n",
    "            \n",
    "            #if it is: insert it and return\n",
    "            if tree.has(parent_face):                                                                                                               \n",
    "                tree.insert_child(parent_face, node(wing))                                                                                          \n",
    "                return\n",
    "                        \n",
    "    #attach all wings\n",
    "    for wing in wings:                                                                                                                              \n",
    "        attach_wing(tree, wing)                                                                                                                                                                                                                                                                                                                         \n",
    "    return tree"
   ]
  },
  {
   "cell_type": "code",
   "execution_count": 11,
   "id": "91e72f13",
   "metadata": {
    "scrolled": true
   },
   "outputs": [
    {
     "name": "stdout",
     "output_type": "stream",
     "text": [
      "True\n"
     ]
    },
    {
     "name": "stderr",
     "output_type": "stream",
     "text": [
      "  Warning! Material file 'Models/L2.mtl' not found!\n",
      "Warning! Material 'L2_wire_061135006' not defined in material file.\n"
     ]
    }
   ],
   "source": [
    "mesh = Mesh('Models/L2.obj')\n",
    "strip, wings = get_best_snw(mesh)\n",
    "tree = strip_2_tree(mesh, strip)\n",
    "tree = attach_wings(mesh, tree, wings)\n",
    "unfolding = tree.unfold(mesh)\n",
    "\n",
    "print(is_unfolding_overlapping(unfolding))\n",
    "draw_svg(unfolding, 'Unfolded_SVGs/L2.svg')"
   ]
  },
  {
   "cell_type": "code",
   "execution_count": null,
   "id": "605d08e9",
   "metadata": {},
   "outputs": [],
   "source": []
  }
 ],
 "metadata": {
  "kernelspec": {
   "display_name": "Python 3 (ipykernel)",
   "language": "python",
   "name": "python3"
  },
  "language_info": {
   "codemirror_mode": {
    "name": "ipython",
    "version": 3
   },
   "file_extension": ".py",
   "mimetype": "text/x-python",
   "name": "python",
   "nbconvert_exporter": "python",
   "pygments_lexer": "ipython3",
   "version": "3.9.7"
  }
 },
 "nbformat": 4,
 "nbformat_minor": 5
}
