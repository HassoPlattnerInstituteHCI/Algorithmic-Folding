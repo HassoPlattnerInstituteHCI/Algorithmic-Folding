{
 "cells": [
  {
   "cell_type": "code",
   "execution_count": 1,
   "id": "a456e2e7",
   "metadata": {},
   "outputs": [],
   "source": [
    "import numpy as np\n",
    "from unfolding_helper import *\n",
    "\n",
    "#helper function to see if to faces are normal to eachother\n",
    "is_normal = lambda s1, s2 : sum([abs(c1) != abs(c2) for c1, c2 in zip(s1, s2)]) != 0\n",
    "\n",
    "def strip_n_wings(face_normals, mesh):\n",
    "    all_normals = list(mesh.face_normals())\n",
    "    \n",
    "    #Every face normal to inputted face is strip\n",
    "    strip = [f.idx() for f in mesh.faces() if is_normal(face_normals, all_normals[f.idx()])]\n",
    "    \n",
    "    #Every face that is not strip must be wing\n",
    "    wings = [f.idx() for f in mesh.faces() if f.idx() not in strip]\n",
    "    \n",
    "    return (strip, wings)"
   ]
  },
  {
   "cell_type": "code",
   "execution_count": 2,
   "id": "b5178aec",
   "metadata": {},
   "outputs": [],
   "source": [
    "def get_best_snw(mesh):\n",
    "    \n",
    "    #List of (strip, wings) tuples from faces out of three normals\n",
    "    #start here\n",
    "    \n",
    "    #Rating strips based on size\n",
    "    #start here\n",
    "    \n",
    "    #return best list"
   ]
  },
  {
   "cell_type": "code",
   "execution_count": null,
   "id": "37fe8b16",
   "metadata": {},
   "outputs": [],
   "source": []
  }
 ],
 "metadata": {
  "kernelspec": {
   "display_name": "Python 3 (ipykernel)",
   "language": "python",
   "name": "python3"
  },
  "language_info": {
   "codemirror_mode": {
    "name": "ipython",
    "version": 3
   },
   "file_extension": ".py",
   "mimetype": "text/x-python",
   "name": "python",
   "nbconvert_exporter": "python",
   "pygments_lexer": "ipython3",
   "version": "3.9.7"
  }
 },
 "nbformat": 4,
 "nbformat_minor": 5
}
