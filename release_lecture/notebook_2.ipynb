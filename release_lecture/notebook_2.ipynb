{
 "cells": [
  {
   "cell_type": "code",
   "execution_count": 2,
   "id": "263c2fad",
   "metadata": {},
   "outputs": [],
   "source": [
    "from unfolding_helper import *\n",
    "\n",
    "def get_unfolding(mesh, cutted_faces):\n",
    "    tree = node(cutted_faces[0])\n",
    "    tree.add_child(cutted_faces[1])\n",
    "    return tree.unfold(mesh)"
   ]
  },
  {
   "cell_type": "code",
   "execution_count": 6,
   "id": "c35d40af",
   "metadata": {},
   "outputs": [],
   "source": [
    "mesh = Mesh('cube.obj')\n",
    "    \n",
    "#list of faces on the shortest path\n",
    "cutted_faces = [5, 2]\n",
    "    \n",
    "end_point_id = 2\n",
    "starting_point_3d = (.5, .5, .1)\n",
    "    \n",
    "#unfold the faces from cutted_faces as shown in the previous lectures\n",
    "unfold = get_unfolding(mesh, cutted_faces)\n",
    "    \n",
    "#list of edge_ids that possibly are being cut by the shortest path\n",
    "cutted_edges = get_cutted_edges(mesh, cutted_faces)\n",
    "    \n",
    "#create a Hashmap that maps vertex_id to 2d coordinates\n",
    "points_2d = map_id_2d_points(mesh, unfold, cutted_faces)\n",
    "    \n",
    "#now we can get the 2d projection of the end point\n",
    "end_point_2d = points_2d[end_point_id]\n",
    "    \n",
    "#project starting point from 3d to 2d space using the first Matrix Multiplication in the unfold function\n",
    "starting_point_2d = starting_point_3d_2_2d(mesh, cutted_faces[0], starting_point_3d)\n",
    "\n",
    "#List of edges represented as vertex_ids\n",
    "#Example: [(0, 1), (1, 2), (2, 3), (3, 0), (0, 4), (4, 5), (5, 1), (5, 6), (6, 2), (6, 7), (7, 3), (7, 4)]\n",
    "#now we can get the vertecies of an edge by edges_as_vertex_ids[edge_id]\n",
    "edges_as_vertex_ids = [tuple(e) for e in mesh.edge_vertex_indices()]\n",
    "\n",
    "\n",
    "# TODO: create a list of shapely LineString Objects out of the 2d points \n",
    "#     -> use \"LineString(((x_1, y_1), (x_2, y_2)))\" to create a LineString Object\n",
    "#     -> get the coordinates of a 2d point by \"points_2d[vertex_id]\"\n",
    "\n",
    "# TODO: create the main_line as a LineString Object out of the starting_point_2d and the end_point_2d"
   ]
  },
  {
   "cell_type": "code",
   "execution_count": null,
   "id": "0ac79712",
   "metadata": {},
   "outputs": [],
   "source": []
  }
 ],
 "metadata": {
  "kernelspec": {
   "display_name": "Python 3 (ipykernel)",
   "language": "python",
   "name": "python3"
  },
  "language_info": {
   "codemirror_mode": {
    "name": "ipython",
    "version": 3
   },
   "file_extension": ".py",
   "mimetype": "text/x-python",
   "name": "python",
   "nbconvert_exporter": "python",
   "pygments_lexer": "ipython3",
   "version": "3.9.9"
  }
 },
 "nbformat": 4,
 "nbformat_minor": 5
}
