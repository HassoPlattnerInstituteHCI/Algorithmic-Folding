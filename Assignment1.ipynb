{
 "cells": [
  {
   "cell_type": "code",
   "execution_count": 33,
   "id": "sized-commander",
   "metadata": {},
   "outputs": [
    {
     "name": "stdout",
     "output_type": "stream",
     "text": [
      "⎡0  0  5   0   0  0  0   0 ⎤\n",
      "⎢                          ⎥\n",
      "⎢0  0  0   0   0  0  0   5 ⎥\n",
      "⎢                          ⎥\n",
      "⎢0  0  0   0   0  0  0   0 ⎥\n",
      "⎢                          ⎥\n",
      "⎢0  0  0   -5  0  0  0   0 ⎥\n",
      "⎢                          ⎥\n",
      "⎢0  0  -5  5   0  0  5   -5⎥\n",
      "⎢                          ⎥\n",
      "⎣0  0  0   0   0  0  -5  0 ⎦\n",
      "the tensegrity is rigid\n"
     ]
    }
   ],
   "source": [
    "import networkx as nx\n",
    "from scipy.optimize import linprog\n",
    "from sympy import Matrix, pprint, floor, Point, zeros\n",
    "from linkages import *\n",
    "\n",
    "def graph_to_matrix(G, pins={}):\n",
    "    if type(pins) is Point: pins = {pins}\n",
    "    M = Matrix()\n",
    "    for edge in G.edges.data():\n",
    "        edge_from, edge_to, edge_att = edge\n",
    "        row = []\n",
    "        t = -1 if edge_att[TYPE] == \"strut\" else 1\n",
    "        for vertex in G.nodes:\n",
    "            if vertex == edge_from and edge_from not in pins:\n",
    "                row.extend([t*(edge_from.x-edge_to.x),t*(edge_from.y-edge_to.y)])\n",
    "            elif vertex == edge_to and edge_to not in pins:\n",
    "                row.extend([t*(edge_to.x-edge_from.x),t*(edge_to.y-edge_from.y)])\n",
    "            else:\n",
    "                row.extend([0,0])\n",
    "        M = Matrix([M,row])\n",
    "        if edge_att[TYPE] == \"bar\": M = Matrix([M,M.row(-1)*-1])\n",
    "    return M\n",
    "\n",
    "def change_edge(G,edge,val):\n",
    "    a,b = edge\n",
    "    graph[list(G.nodes)[a]][list(G.nodes)[b]][TYPE] = val\n",
    "    \n",
    "def check_rigidity(A): \n",
    "    b = zeros(A.rows,1)\n",
    "    for i in range(0,A.cols):\n",
    "        if A.col(i) == zeros(A.rows,1): continue\n",
    "        c = zeros(1,A.cols)\n",
    "        c[i] = -1\n",
    "        res = linprog(c, A_ub=A,b_ub=b, method=\"simplex\")\n",
    "        if res['status'] == 0:\n",
    "            for value in res['x']:\n",
    "                if value > 0:\n",
    "                    return \"infinitesimal motion of:\", value\n",
    "        elif res['status'] == 3:\n",
    "            return \"inequalities are unbound--motion possible\"\n",
    "    return \"the tensegrity is rigid\"\n",
    "    \n",
    "graph = parallel_4_bar(True)\n",
    "nx.set_edge_attributes(graph,\"cable\",TYPE)\n",
    "\n",
    "change_edge(graph,(0,2),\"strut\")\n",
    "change_edge(graph,(1,3),\"strut\")\n",
    "\n",
    "A = graph_to_matrix(graph, {Point(0,0),Point(5,5)})\n",
    "pprint(A)\n",
    "\n",
    "print (check_rigidity(A))\n"
   ]
  },
  {
   "cell_type": "code",
   "execution_count": null,
   "id": "perceived-state",
   "metadata": {},
   "outputs": [],
   "source": []
  }
 ],
 "metadata": {
  "kernelspec": {
   "display_name": "Python 3",
   "language": "python",
   "name": "python3"
  },
  "language_info": {
   "codemirror_mode": {
    "name": "ipython",
    "version": 3
   },
   "file_extension": ".py",
   "mimetype": "text/x-python",
   "name": "python",
   "nbconvert_exporter": "python",
   "pygments_lexer": "ipython3",
   "version": "3.8.5"
  }
 },
 "nbformat": 4,
 "nbformat_minor": 5
}
