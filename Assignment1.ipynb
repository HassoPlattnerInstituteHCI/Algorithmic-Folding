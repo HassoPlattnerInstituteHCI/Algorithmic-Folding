{
 "cells": [
  {
   "cell_type": "code",
   "execution_count": 1,
   "id": "infectious-lesson",
   "metadata": {},
   "outputs": [
    {
     "name": "stdout",
     "output_type": "stream",
     "text": [
      "⎡-4  -4  4   4  0  0   0   0   0   0   0   0   0   0 ⎤\n",
      "⎢                                                    ⎥\n",
      "⎢-1  3   0   0  0  0   0   0   0   0   1   -3  0   0 ⎥\n",
      "⎢                                                    ⎥\n",
      "⎢-4  0   0   0  0  0   0   0   0   0   0   0   4   0 ⎥\n",
      "⎢                                                    ⎥\n",
      "⎢0   0   -5  4  5  -4  0   0   0   0   0   0   0   0 ⎥\n",
      "⎢                                                    ⎥\n",
      "⎢0   0   0   4  0  0   0   0   0   0   0   0   0   -4⎥\n",
      "⎢                                                    ⎥\n",
      "⎢0   0   0   0  4  3   -4  -3  0   0   0   0   0   0 ⎥\n",
      "⎢                                                    ⎥\n",
      "⎢0   0   0   0  0  0   2   3   -2  -3  0   0   0   0 ⎥\n",
      "⎢                                                    ⎥\n",
      "⎢0   0   0   0  0  0   4   0   0   0   -4  0   0   0 ⎥\n",
      "⎢                                                    ⎥\n",
      "⎢0   0   0   0  0  0   1   -3  0   0   0   0   -1  3 ⎥\n",
      "⎢                                                    ⎥\n",
      "⎣0   0   0   0  0  0   0   0   2   -3  -2  3   0   0 ⎦\n",
      "the linkage is infinitesimally flexible\n",
      "-1*v2x depends on 1*v2y, and -15/31*v3x, and 51/31*v3y, and 1*v4y, and 3/4*v5x, and 1/2*v5y, and 1*v7y\n",
      "\n"
     ]
    }
   ],
   "source": [
    "import networkx as nx\n",
    "from sympy import Matrix, pprint, floor\n",
    "from linkages import *\n",
    "\n",
    "def graph_to_matrix(G):\n",
    "    M = Matrix()\n",
    "    for edge in G.edges:\n",
    "        row = []\n",
    "        dx,dy = edge[0].x-edge[1].x, edge[0].y-edge[1].y\n",
    "        for vertex in G.nodes:\n",
    "            if vertex == edge[0]  : row.extend([dx,dy])\n",
    "            elif vertex == edge[1]: row.extend([-dx,-dy])\n",
    "            else:                   row.extend([0,0])\n",
    "        M=Matrix([M,row])\n",
    "    return M\n",
    "\n",
    "def set_pinning(pins, M):\n",
    "    N = M.nullspace()\n",
    "    if type(pins) is int: pins = [pins]\n",
    "    [[vector.fill(0) for vector in N if vector[2*(p-1)] != 0 or vector[2*(p-1)+1] != 0] for p in pins]\n",
    "    return N\n",
    "\n",
    "# helper function to convert nullspace to a list of motions \n",
    "def getMotions(N):\n",
    "    if type(N) is Matrix: N = N.nullspace()\n",
    "    return [[str(val) + \"*v\" + str(floor(i/2)+1) + (\"x\" if (i%2 == 0) else \"y\") for i,val in enumerate(vector) if val != 0] for vector in N]\n",
    "\n",
    "#just a cute function to convert detected motions into a human readible string\n",
    "def motions_to_string(motions):\n",
    "    string = \"\"\n",
    "    for v in motions:\n",
    "        if len(v) !=0:\n",
    "            for val in v:\n",
    "                if val == v[0] and len(v)>1: word = \" depends on \"\n",
    "                elif val != v[len(v)-1]    : word = \", and \"\n",
    "                elif len(v) == 1           : word = \" is free\\n\"\n",
    "                else                       : word =\"\\n\"\n",
    "                string += val + word\n",
    "    return string\n",
    "\n",
    "def check_rigidity(M): return M.rank() == M.cols-3\n",
    "graph = jansen_walker(True)\n",
    "\n",
    "A = graph_to_matrix(graph)\n",
    "pprint(A)\n",
    "print (\"the linkage is infinitesimally rigid!\" if check_rigidity(A) else \"the linkage is infinitesimally flexible\")\n",
    "A = set_pinning(1,A)\n",
    "print(motions_to_string((getMotions(A))))"
   ]
  },
  {
   "cell_type": "code",
   "execution_count": null,
   "id": "closed-camel",
   "metadata": {},
   "outputs": [],
   "source": []
  }
 ],
 "metadata": {
  "kernelspec": {
   "display_name": "Python 3",
   "language": "python",
   "name": "python3"
  },
  "language_info": {
   "codemirror_mode": {
    "name": "ipython",
    "version": 3
   },
   "file_extension": ".py",
   "mimetype": "text/x-python",
   "name": "python",
   "nbconvert_exporter": "python",
   "pygments_lexer": "ipython3",
   "version": "3.8.5"
  }
 },
 "nbformat": 4,
 "nbformat_minor": 5
}
