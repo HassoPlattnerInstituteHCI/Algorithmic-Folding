{
 "cells": [
  {
   "cell_type": "code",
   "execution_count": 1,
   "id": "nominated-hazard",
   "metadata": {},
   "outputs": [
    {
     "name": "stdout",
     "output_type": "stream",
     "text": [
      "⎡0  0  0  0  0   0   0   0⎤\n",
      "⎢                         ⎥\n",
      "⎢0  0  0  0  0   0   0   5⎥\n",
      "⎢                         ⎥\n",
      "⎢0  0  0  0  -5  -5  0   0⎥\n",
      "⎢                         ⎥\n",
      "⎢0  0  0  0  0   -5  0   0⎥\n",
      "⎢                         ⎥\n",
      "⎢0  0  0  0  0   0   -5  5⎥\n",
      "⎢                         ⎥\n",
      "⎣0  0  0  0  -5  0   5   0⎦\n"
     ]
    },
    {
     "ename": "NameError",
     "evalue": "name 'c' is not defined",
     "output_type": "error",
     "traceback": [
      "\u001b[0;31m---------------------------------------------------------------------------\u001b[0m",
      "\u001b[0;31mNameError\u001b[0m                                 Traceback (most recent call last)",
      "\u001b[0;32m<ipython-input-1-875cb77bf3cb>\u001b[0m in \u001b[0;36m<module>\u001b[0;34m\u001b[0m\n\u001b[1;32m     43\u001b[0m \u001b[0mA\u001b[0m \u001b[0;34m=\u001b[0m \u001b[0mgraph_to_matrix\u001b[0m\u001b[0;34m(\u001b[0m\u001b[0mgraph\u001b[0m\u001b[0;34m,\u001b[0m \u001b[0;34m{\u001b[0m\u001b[0mnodes\u001b[0m\u001b[0;34m[\u001b[0m\u001b[0;36m0\u001b[0m\u001b[0;34m]\u001b[0m\u001b[0;34m,\u001b[0m \u001b[0mnodes\u001b[0m\u001b[0;34m[\u001b[0m\u001b[0;36m1\u001b[0m\u001b[0;34m]\u001b[0m\u001b[0;34m}\u001b[0m\u001b[0;34m)\u001b[0m\u001b[0;34m\u001b[0m\u001b[0;34m\u001b[0m\u001b[0m\n\u001b[1;32m     44\u001b[0m \u001b[0mpprint\u001b[0m\u001b[0;34m(\u001b[0m\u001b[0mA\u001b[0m\u001b[0;34m)\u001b[0m\u001b[0;34m\u001b[0m\u001b[0;34m\u001b[0m\u001b[0m\n\u001b[0;32m---> 45\u001b[0;31m \u001b[0mcheck_rigidity\u001b[0m\u001b[0;34m(\u001b[0m\u001b[0mA\u001b[0m\u001b[0;34m)\u001b[0m\u001b[0;34m\u001b[0m\u001b[0;34m\u001b[0m\u001b[0m\n\u001b[0m",
      "\u001b[0;32m<ipython-input-1-875cb77bf3cb>\u001b[0m in \u001b[0;36mcheck_rigidity\u001b[0;34m(A)\u001b[0m\n\u001b[1;32m     33\u001b[0m         \u001b[0;31m# skip iteration if the current column equals b (nullvector)\u001b[0m\u001b[0;34m\u001b[0m\u001b[0;34m\u001b[0m\u001b[0;34m\u001b[0m\u001b[0m\n\u001b[1;32m     34\u001b[0m         \u001b[0;31m# create vector c of 1xA.cols with a -1 for the current column\u001b[0m\u001b[0;34m\u001b[0m\u001b[0;34m\u001b[0m\u001b[0;34m\u001b[0m\u001b[0m\n\u001b[0;32m---> 35\u001b[0;31m         \u001b[0mres\u001b[0m \u001b[0;34m=\u001b[0m \u001b[0mlinprog\u001b[0m\u001b[0;34m(\u001b[0m\u001b[0mc\u001b[0m\u001b[0;34m,\u001b[0m \u001b[0mA_ub\u001b[0m\u001b[0;34m=\u001b[0m\u001b[0mA\u001b[0m\u001b[0;34m,\u001b[0m\u001b[0mb_ub\u001b[0m\u001b[0;34m=\u001b[0m\u001b[0mb\u001b[0m\u001b[0;34m,\u001b[0m \u001b[0mmethod\u001b[0m\u001b[0;34m=\u001b[0m\u001b[0;34m\"simplex\"\u001b[0m\u001b[0;34m)\u001b[0m\u001b[0;34m\u001b[0m\u001b[0;34m\u001b[0m\u001b[0m\n\u001b[0m\u001b[1;32m     36\u001b[0m         \u001b[0mprint\u001b[0m\u001b[0;34m(\u001b[0m\u001b[0mres\u001b[0m\u001b[0;34m)\u001b[0m\u001b[0;34m\u001b[0m\u001b[0;34m\u001b[0m\u001b[0m\n\u001b[1;32m     37\u001b[0m \u001b[0;34m\u001b[0m\u001b[0m\n",
      "\u001b[0;31mNameError\u001b[0m: name 'c' is not defined"
     ]
    }
   ],
   "source": [
    "import networkx as nx\n",
    "from scipy.optimize import linprog\n",
    "from sympy import Matrix, pprint, floor, Point, zeros\n",
    "from linkages import *\n",
    "\n",
    "def graph_to_matrix(G, pins={}):\n",
    "    if type(pins) is Point: pins = {pins}\n",
    "    M = Matrix()\n",
    "    for edge in G.edges.data():\n",
    "        edge_from, edge_to, edge_att = edge\n",
    "        row = []\n",
    "        t = -1 if edge_att[TYPE] == \"strut\" else 1\n",
    "        delta_x,delta_y = t*(edge_from.x - edge_to.x), t*(edge_from.y - edge_to.y)\n",
    "        for vertex in G.nodes:\n",
    "            if vertex == edge_from and vertex not in pins:\n",
    "                row.extend([delta_x,delta_y])\n",
    "            elif vertex == edge_to and vertex not in pins:\n",
    "                row.extend([-delta_x,-delta_y])\n",
    "            else:\n",
    "                row.extend([0,0])\n",
    "        M = Matrix([M,row])\n",
    "        if edge_att[TYPE] == \"bar\": M = Matrix([M,M.row(-1)*-1])\n",
    "    return M\n",
    "\n",
    "def set_edge_type(G,edge,val):\n",
    "    a,b = edge\n",
    "    graph[list(G.nodes)[a]][list(G.nodes)[b]][TYPE] = val\n",
    "    \n",
    "# zeros(a,b) creates a nullmatrix of a*b\n",
    "def check_rigidity(A): \n",
    "    # create a zero vector called b of A.rows x 1\n",
    "    # iterate over each of the columns of A\n",
    "        # skip iteration if the current column equals b (nullvector)\n",
    "        # create vector c of 1xA.cols with a -1 for the current column\n",
    "        res = linprog(c, A_ub=A,b_ub=b, method=\"simplex\")\n",
    "        print(res)\n",
    "        \n",
    "graph = parallel_4_bar(True) \n",
    "set_edge_type(graph,(0,2),\"cable\")\n",
    "set_edge_type(graph,(1,3),\"cable\")\n",
    "\n",
    "nodes = list(graph.nodes)\n",
    "A = graph_to_matrix(graph, {nodes[0], nodes[1]})\n",
    "pprint(A)\n",
    "check_rigidity(A)"
   ]
  },
  {
   "cell_type": "code",
   "execution_count": null,
   "id": "knowing-booking",
   "metadata": {},
   "outputs": [],
   "source": []
  }
 ],
 "metadata": {
  "kernelspec": {
   "display_name": "Python 3",
   "language": "python",
   "name": "python3"
  },
  "language_info": {
   "codemirror_mode": {
    "name": "ipython",
    "version": 3
   },
   "file_extension": ".py",
   "mimetype": "text/x-python",
   "name": "python",
   "nbconvert_exporter": "python",
   "pygments_lexer": "ipython3",
   "version": "3.8.5"
  }
 },
 "nbformat": 4,
 "nbformat_minor": 5
}
