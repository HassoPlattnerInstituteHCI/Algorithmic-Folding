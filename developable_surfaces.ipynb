{
 "cells": [
  {
   "cell_type": "code",
   "execution_count": 196,
   "id": "western-tooth",
   "metadata": {},
   "outputs": [],
   "source": [
    "import igl\n",
    "import meshplot as mp\n",
    "import numpy as np"
   ]
  },
  {
   "cell_type": "markdown",
   "id": "phantom-italy",
   "metadata": {},
   "source": [
    "# Hello world"
   ]
  },
  {
   "cell_type": "code",
   "execution_count": 197,
   "id": "dominican-entrepreneur",
   "metadata": {},
   "outputs": [
    {
     "data": {
      "application/vnd.jupyter.widget-view+json": {
       "model_id": "3d55e13f49584e7f891a2ad432663888",
       "version_major": 2,
       "version_minor": 0
      },
      "text/plain": [
       "Renderer(camera=PerspectiveCamera(children=(DirectionalLight(color='white', intensity=0.6, position=(0.0002189…"
      ]
     },
     "metadata": {},
     "output_type": "display_data"
    },
    {
     "data": {
      "text/plain": [
       "<meshplot.Viewer.Viewer at 0x1fc60015f40>"
      ]
     },
     "execution_count": 197,
     "metadata": {},
     "output_type": "execute_result"
    }
   ],
   "source": [
    "v, f = igl.read_triangle_mesh(\"data/bunny.obj\")\n",
    "mp.plot(v, f, v[:, 0])"
   ]
  },
  {
   "cell_type": "markdown",
   "id": "complicated-revolution",
   "metadata": {},
   "source": [
    "# Data Representation\n",
    "Meshes are represented by a numpy array of vertex coordinates (nx3) and a numpy array of face indices (mx3) and can be loaded from 3D file formats"
   ]
  },
  {
   "cell_type": "code",
   "execution_count": 198,
   "id": "ambient-friendly",
   "metadata": {},
   "outputs": [
    {
     "name": "stdout",
     "output_type": "stream",
     "text": [
      "[[ 0.579785 -0.556431  0.335583]\n",
      " [ 0.566629 -0.530296  0.334038]\n",
      " [ 0.533192 -0.543823  0.342491]\n",
      " ...\n",
      " [-0.521482  0.641195 -0.549294]\n",
      " [-0.555727  0.655425 -0.519703]\n",
      " [-0.534968  0.676574 -0.551021]]\n",
      "[[   0    1    2]\n",
      " [   0    3    1]\n",
      " [   1    4    2]\n",
      " ...\n",
      " [3296 3298 3300]\n",
      " [3299 3300 3298]\n",
      " [3299 3295 3300]]\n"
     ]
    }
   ],
   "source": [
    "v: np.array # Array of vertex coordinates (nx3)\n",
    "f: np.array # Array of face indices (mx3)\n",
    "v, f = igl.read_triangle_mesh(\"data/bunny.obj\")\n",
    "print(v)\n",
    "print(f)"
   ]
  },
  {
   "cell_type": "markdown",
   "id": "convenient-milan",
   "metadata": {},
   "source": [
    "# Visualizing Surfaces and Pointclouds"
   ]
  },
  {
   "cell_type": "code",
   "execution_count": 199,
   "id": "honest-graph",
   "metadata": {},
   "outputs": [
    {
     "data": {
      "application/vnd.jupyter.widget-view+json": {
       "model_id": "0710ba9326574baab4b7fc8ee1413b72",
       "version_major": 2,
       "version_minor": 0
      },
      "text/plain": [
       "Renderer(camera=PerspectiveCamera(children=(DirectionalLight(color='white', intensity=0.6, position=(0.0002189…"
      ]
     },
     "metadata": {},
     "output_type": "display_data"
    },
    {
     "data": {
      "application/vnd.jupyter.widget-view+json": {
       "model_id": "6a44a17835b6487492eae991bdf13193",
       "version_major": 2,
       "version_minor": 0
      },
      "text/plain": [
       "Renderer(camera=PerspectiveCamera(children=(DirectionalLight(color='white', intensity=0.6, position=(0.0002189…"
      ]
     },
     "metadata": {},
     "output_type": "display_data"
    },
    {
     "data": {
      "text/plain": [
       "<meshplot.Viewer.Viewer at 0x1fc5fff8970>"
      ]
     },
     "execution_count": 199,
     "metadata": {},
     "output_type": "execute_result"
    }
   ],
   "source": [
    "mp.plot(v, f, c=v[:, 0])\n",
    "mp.plot(v, c=v[:, 0],shading={\"point_size\":0.3})"
   ]
  },
  {
   "cell_type": "markdown",
   "id": "varied-authority",
   "metadata": {},
   "source": [
    "# Gauss map of the input mesh"
   ]
  },
  {
   "cell_type": "code",
   "execution_count": 247,
   "id": "35569d99",
   "metadata": {},
   "outputs": [
    {
     "data": {
      "application/vnd.jupyter.widget-view+json": {
       "model_id": "e2de9b13c623484295ed1e9d9a8f80c2",
       "version_major": 2,
       "version_minor": 0
      },
      "text/plain": [
       "Renderer(camera=PerspectiveCamera(children=(DirectionalLight(color='white', intensity=0.6, position=(-0.000430…"
      ]
     },
     "metadata": {},
     "output_type": "display_data"
    },
    {
     "data": {
      "text/plain": [
       "<meshplot.Viewer.Viewer at 0x1fc62291a90>"
      ]
     },
     "execution_count": 247,
     "metadata": {},
     "output_type": "execute_result"
    }
   ],
   "source": [
    "# Loading the mesh\n",
    "v, f = igl.read_triangle_mesh(\"data/sphere.obj\")\n",
    "# v, f = igl.read_triangle_mesh(\"data/CrumpledDevelopable.obj\")\n",
    "# v, f = igl.read_triangle_mesh(\"data/cylinder.obj\")\n",
    "# v, f = igl.read_triangle_mesh(\"data/bunny.obj\")\n",
    "# v, f = igl.read_triangle_mesh(\"data/face.off\")\n",
    "mp.plot(v,f,c=v[:,0])"
   ]
  },
  {
   "cell_type": "code",
   "execution_count": 248,
   "id": "3f65c483",
   "metadata": {},
   "outputs": [
    {
     "data": {
      "application/vnd.jupyter.widget-view+json": {
       "model_id": "2fadd5ec7ee4422997eab5f79aea545e",
       "version_major": 2,
       "version_minor": 0
      },
      "text/plain": [
       "Renderer(camera=PerspectiveCamera(children=(DirectionalLight(color='white', intensity=0.6, position=(-0.000430…"
      ]
     },
     "metadata": {},
     "output_type": "display_data"
    },
    {
     "data": {
      "text/plain": [
       "<meshplot.Viewer.Viewer at 0x1fc62291cd0>"
      ]
     },
     "execution_count": 248,
     "metadata": {},
     "output_type": "execute_result"
    }
   ],
   "source": [
    "# Calculating per face normals\n",
    "nf = igl.per_face_normals(v, f, np.array([0.0, 0.0, 0.0]))\n",
    "# Plotting face normals\n",
    "mp.plot(v,f,c=nf)"
   ]
  },
  {
   "cell_type": "code",
   "execution_count": 249,
   "id": "31adf766",
   "metadata": {},
   "outputs": [
    {
     "data": {
      "application/vnd.jupyter.widget-view+json": {
       "model_id": "595297e3749544909ca512801fd35cc3",
       "version_major": 2,
       "version_minor": 0
      },
      "text/plain": [
       "Renderer(camera=PerspectiveCamera(children=(DirectionalLight(color='white', intensity=0.6, position=(-0.000430…"
      ]
     },
     "metadata": {},
     "output_type": "display_data"
    },
    {
     "data": {
      "text/plain": [
       "1"
      ]
     },
     "execution_count": 249,
     "metadata": {},
     "output_type": "execute_result"
    }
   ],
   "source": [
    "# Calculating per vertex normals\n",
    "nv = igl.per_vertex_normals(v, f)\n",
    "avg = igl.avg_edge_length(v, f)\n",
    "# Plotting vertex normals as lines\n",
    "pv=mp.plot(v,f, c=nv)\n",
    "pv.add_lines(v, v + nv*avg)"
   ]
  },
  {
   "cell_type": "code",
   "execution_count": 250,
   "id": "cubic-chocolate",
   "metadata": {},
   "outputs": [
    {
     "data": {
      "application/vnd.jupyter.widget-view+json": {
       "model_id": "8682daeee8ae4eedb646c01b9b47e2ac",
       "version_major": 2,
       "version_minor": 0
      },
      "text/plain": [
       "Renderer(camera=PerspectiveCamera(children=(DirectionalLight(color='white', intensity=0.6, position=(-0.000430…"
      ]
     },
     "metadata": {},
     "output_type": "display_data"
    },
    {
     "data": {
      "text/plain": [
       "2"
      ]
     },
     "execution_count": 250,
     "metadata": {},
     "output_type": "execute_result"
    }
   ],
   "source": [
    "# Calculating the principal curvature, mean curvature and gassian curvature.\n",
    "v1, v2, k1, k2 = igl.principal_curvature(v, f)\n",
    "mean_curv = 0.5 * (k1 + k2)\n",
    "gaussian_curv=k1*k2\n",
    "avg = igl.avg_edge_length(v, f)\n",
    "\n",
    "# Plotting gaussian curvature + directions\n",
    "pgc=mp.plot(v, f, c=gaussian_curv)\n",
    "pgc.add_lines(v + v1 * avg/3, v - v1 * avg/3, shading={\"line_color\": \"red\"})\n",
    "pgc.add_lines(v + v2 * avg/3, v - v2 * avg/3, shading={\"line_color\": \"green\"})\n",
    "\n"
   ]
  },
  {
   "cell_type": "code",
   "execution_count": 251,
   "id": "spread-mortality",
   "metadata": {},
   "outputs": [
    {
     "data": {
      "application/vnd.jupyter.widget-view+json": {
       "model_id": "66f06876dd53405796592df2c4279c2a",
       "version_major": 2,
       "version_minor": 0
      },
      "text/plain": [
       "Renderer(camera=PerspectiveCamera(children=(DirectionalLight(color='white', intensity=0.6, position=(4.7683715…"
      ]
     },
     "metadata": {},
     "output_type": "display_data"
    },
    {
     "data": {
      "text/plain": [
       "2"
      ]
     },
     "execution_count": 251,
     "metadata": {},
     "output_type": "execute_result"
    }
   ],
   "source": [
    "# Plotting the gauss map\n",
    "vs, fs = igl.read_triangle_mesh(\"data/unit_sphere.obj\")\n",
    "vs=vs*0.95\n",
    "pgm=mp.plot(vs, fs,shading={\"flat\":False})\n",
    "pgm.add_points(nf,shading={\"point_size\":0.2})\n",
    "ev, fe, ef = igl.edge_topology(v, f)\n",
    "ef = ef[np.all(ef != -1, axis=1)]\n",
    "pgm.add_lines(nf[ef[:,0]],nf[ef[:,1]],shading={\"line_color\": \"red\"})"
   ]
  },
  {
   "cell_type": "markdown",
   "id": "5e9f5f20",
   "metadata": {},
   "source": [
    "# How to calculate the developability on the surface?"
   ]
  },
  {
   "cell_type": "code",
   "execution_count": 252,
   "id": "3406268e",
   "metadata": {},
   "outputs": [],
   "source": [
    "vf,ni=igl.vertex_triangle_adjacency(f,v.shape[0])"
   ]
  },
  {
   "cell_type": "code",
   "execution_count": 253,
   "id": "cb32fc99",
   "metadata": {},
   "outputs": [
    {
     "data": {
      "application/vnd.jupyter.widget-view+json": {
       "model_id": "94b4c8975e9f4b68b4d1b924b33e2e6e",
       "version_major": 2,
       "version_minor": 0
      },
      "text/plain": [
       "Renderer(camera=PerspectiveCamera(children=(DirectionalLight(color='white', intensity=0.6, position=(-0.000430…"
      ]
     },
     "metadata": {},
     "output_type": "display_data"
    }
   ],
   "source": [
    "developability=np.zeros(v.shape[0])\n",
    "for i in range(0,v.shape[0]):\n",
    "    dmat=nf[vf[ni[i]:ni[i+1]]]\n",
    "    developability[i]=min(np.linalg.eigvals(np.dot(dmat.T,dmat)))\n",
    "pd=mp.plot(v,f, c=developability,shading={\"point_size\":0.3})"
   ]
  },
  {
   "cell_type": "code",
   "execution_count": null,
   "id": "8c47c307",
   "metadata": {},
   "outputs": [],
   "source": []
  }
 ],
 "metadata": {
  "kernelspec": {
   "display_name": "Python 3 (ipykernel)",
   "language": "python",
   "name": "python3"
  },
  "language_info": {
   "codemirror_mode": {
    "name": "ipython",
    "version": 3
   },
   "file_extension": ".py",
   "mimetype": "text/x-python",
   "name": "python",
   "nbconvert_exporter": "python",
   "pygments_lexer": "ipython3",
   "version": "3.9.7"
  }
 },
 "nbformat": 4,
 "nbformat_minor": 5
}
