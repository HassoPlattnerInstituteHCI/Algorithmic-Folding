{
 "cells": [
  {
   "cell_type": "code",
   "execution_count": 196,
   "id": "western-tooth",
   "metadata": {},
   "outputs": [],
   "source": [
    "import igl\n",
    "import meshplot as mp\n",
    "import numpy as np"
   ]
  },
  {
   "cell_type": "markdown",
   "id": "phantom-italy",
   "metadata": {},
   "source": [
    "# Hello world"
   ]
  },
  {
   "cell_type": "code",
   "execution_count": 197,
   "id": "dominican-entrepreneur",
   "metadata": {},
   "outputs": [
    {
     "data": {
      "application/vnd.jupyter.widget-view+json": {
       "model_id": "3d55e13f49584e7f891a2ad432663888",
       "version_major": 2,
       "version_minor": 0
      },
      "text/plain": [
       "Renderer(camera=PerspectiveCamera(children=(DirectionalLight(color='white', intensity=0.6, position=(0.0002189…"
      ]
     },
     "metadata": {},
     "output_type": "display_data"
    },
    {
     "data": {
      "text/plain": [
       "<meshplot.Viewer.Viewer at 0x1fc60015f40>"
      ]
     },
     "execution_count": 197,
     "metadata": {},
     "output_type": "execute_result"
    }
   ],
   "source": [
    "v, f = igl.read_triangle_mesh(\"data/bunny.obj\")\n",
    "mp.plot(v, f, v[:, 0])"
   ]
  },
  {
   "cell_type": "markdown",
   "id": "complicated-revolution",
   "metadata": {},
   "source": [
    "# Data Representation\n",
    "Meshes are represented by a numpy array of vertex coordinates (nx3) and a numpy array of face indices (mx3) and can be loaded from 3D file formats"
   ]
  },
  {
   "cell_type": "code",
   "execution_count": 198,
   "id": "ambient-friendly",
   "metadata": {},
   "outputs": [
    {
     "name": "stdout",
     "output_type": "stream",
     "text": [
      "[[ 0.579785 -0.556431  0.335583]\n",
      " [ 0.566629 -0.530296  0.334038]\n",
      " [ 0.533192 -0.543823  0.342491]\n",
      " ...\n",
      " [-0.521482  0.641195 -0.549294]\n",
      " [-0.555727  0.655425 -0.519703]\n",
      " [-0.534968  0.676574 -0.551021]]\n",
      "[[   0    1    2]\n",
      " [   0    3    1]\n",
      " [   1    4    2]\n",
      " ...\n",
      " [3296 3298 3300]\n",
      " [3299 3300 3298]\n",
      " [3299 3295 3300]]\n"
     ]
    }
   ],
   "source": [
    "v: np.array # Array of vertex coordinates (nx3)\n",
    "f: np.array # Array of face indices (mx3)\n",
    "v, f = igl.read_triangle_mesh(\"data/bunny.obj\")\n",
    "print(v)\n",
    "print(f)"
   ]
  },
  {
   "cell_type": "markdown",
   "id": "convenient-milan",
   "metadata": {},
   "source": [
    "# Visualizing Surfaces and Pointclouds"
   ]
  },
  {
   "cell_type": "code",
   "execution_count": 199,
   "id": "honest-graph",
   "metadata": {},
   "outputs": [
    {
     "data": {
      "application/vnd.jupyter.widget-view+json": {
       "model_id": "0710ba9326574baab4b7fc8ee1413b72",
       "version_major": 2,
       "version_minor": 0
      },
      "text/plain": [
       "Renderer(camera=PerspectiveCamera(children=(DirectionalLight(color='white', intensity=0.6, position=(0.0002189…"
      ]
     },
     "metadata": {},
     "output_type": "display_data"
    },
    {
     "data": {
      "application/vnd.jupyter.widget-view+json": {
       "model_id": "6a44a17835b6487492eae991bdf13193",
       "version_major": 2,
       "version_minor": 0
      },
      "text/plain": [
       "Renderer(camera=PerspectiveCamera(children=(DirectionalLight(color='white', intensity=0.6, position=(0.0002189…"
      ]
     },
     "metadata": {},
     "output_type": "display_data"
    },
    {
     "data": {
      "text/plain": [
       "<meshplot.Viewer.Viewer at 0x1fc5fff8970>"
      ]
     },
     "execution_count": 199,
     "metadata": {},
     "output_type": "execute_result"
    }
   ],
   "source": [
    "mp.plot(v, f, c=v[:, 0])\n",
    "mp.plot(v, c=v[:, 0],shading={\"point_size\":0.3})"
   ]
  },
  {
   "cell_type": "markdown",
   "id": "varied-authority",
   "metadata": {},
   "source": [
    "# Gauss map of the input mesh"
   ]
  },
  {
   "cell_type": "code",
   "execution_count": 200,
   "id": "0541f2df",
   "metadata": {},
   "outputs": [
    {
     "data": {
      "application/vnd.jupyter.widget-view+json": {
       "model_id": "5ff5eacebc9f474cac535b9586f02248",
       "version_major": 2,
       "version_minor": 0
      },
      "text/plain": [
       "Renderer(camera=PerspectiveCamera(children=(DirectionalLight(color='white', intensity=0.6, position=(0.0, 0.0,…"
      ]
     },
     "metadata": {},
     "output_type": "display_data"
    },
    {
     "data": {
      "text/plain": [
       "<meshplot.Viewer.Viewer at 0x1fc60b5bcd0>"
      ]
     },
     "execution_count": 200,
     "metadata": {},
     "output_type": "execute_result"
    }
   ],
   "source": [
    "# Loading the mesh\n",
    "v, f = igl.read_triangle_mesh(\"data/sphere.obj\")\n",
    "# v, f = igl.read_triangle_mesh(\"data/cylinder.obj\")\n",
    "# v, f = igl.read_triangle_mesh(\"data/bunny.obj\")\n",
    "mp.plot(v,f,c=v[:,0])"
   ]
  },
  {
   "cell_type": "code",
   "execution_count": 201,
   "id": "83b89914",
   "metadata": {},
   "outputs": [
    {
     "data": {
      "application/vnd.jupyter.widget-view+json": {
       "model_id": "c508037ddf86446597b45b846f65ba0f",
       "version_major": 2,
       "version_minor": 0
      },
      "text/plain": [
       "Renderer(camera=PerspectiveCamera(children=(DirectionalLight(color='white', intensity=0.6, position=(0.0, 0.0,…"
      ]
     },
     "metadata": {},
     "output_type": "display_data"
    },
    {
     "data": {
      "text/plain": [
       "<meshplot.Viewer.Viewer at 0x1fc60232a90>"
      ]
     },
     "execution_count": 201,
     "metadata": {},
     "output_type": "execute_result"
    }
   ],
   "source": [
    "# Calculating per face normals\n",
    "nf = igl.per_face_normals(v, f, np.array([0.0, 0.0, 0.0]))\n",
    "# Plotting face normals\n",
    "mp.plot(v,f,c=nf)"
   ]
  },
  {
   "cell_type": "code",
   "execution_count": 202,
   "id": "39f7469c",
   "metadata": {},
   "outputs": [
    {
     "data": {
      "application/vnd.jupyter.widget-view+json": {
       "model_id": "3d66141544524ac8aad9d482a373e023",
       "version_major": 2,
       "version_minor": 0
      },
      "text/plain": [
       "Renderer(camera=PerspectiveCamera(children=(DirectionalLight(color='white', intensity=0.6, position=(0.0, 0.0,…"
      ]
     },
     "metadata": {},
     "output_type": "display_data"
    },
    {
     "data": {
      "text/plain": [
       "1"
      ]
     },
     "execution_count": 202,
     "metadata": {},
     "output_type": "execute_result"
    }
   ],
   "source": [
    "# Calculating per vertex normals\n",
    "nv = igl.per_vertex_normals(v, f)\n",
    "avg = igl.avg_edge_length(v, f)\n",
    "# Plotting vertex normals as lines\n",
    "pv=mp.plot(v,f, c=nv)\n",
    "pv.add_lines(v, v + nv*avg)"
   ]
  },
  {
   "cell_type": "code",
   "execution_count": 203,
   "id": "cubic-chocolate",
   "metadata": {},
   "outputs": [
    {
     "data": {
      "application/vnd.jupyter.widget-view+json": {
       "model_id": "b8e23f5fd27248729c56ed1bf7dc8271",
       "version_major": 2,
       "version_minor": 0
      },
      "text/plain": [
       "Renderer(camera=PerspectiveCamera(children=(DirectionalLight(color='white', intensity=0.6, position=(0.0, 0.0,…"
      ]
     },
     "metadata": {},
     "output_type": "display_data"
    },
    {
     "data": {
      "text/plain": [
       "2"
      ]
     },
     "execution_count": 203,
     "metadata": {},
     "output_type": "execute_result"
    }
   ],
   "source": [
    "# Calculating the principal curvature, mean curvature and gassian curvature.\n",
    "v1, v2, k1, k2 = igl.principal_curvature(v, f)\n",
    "mean_curv = 0.5 * (k1 + k2)\n",
    "gaussian_curv=k1*k2\n",
    "avg = igl.avg_edge_length(v, f)\n",
    "\n",
    "# Plotting gaussian curvature + directions\n",
    "pgc=mp.plot(v, f, c=gaussian_curv)\n",
    "pgc.add_lines(v + v1 * avg/3, v - v1 * avg/3, shading={\"line_color\": \"red\"})\n",
    "pgc.add_lines(v + v2 * avg/3, v - v2 * avg/3, shading={\"line_color\": \"green\"})\n",
    "\n"
   ]
  },
  {
   "cell_type": "code",
   "execution_count": 204,
   "id": "spread-mortality",
   "metadata": {},
   "outputs": [
    {
     "data": {
      "application/vnd.jupyter.widget-view+json": {
       "model_id": "f3b4fa9cb44f4561afb0c9c5e8619abe",
       "version_major": 2,
       "version_minor": 0
      },
      "text/plain": [
       "Renderer(camera=PerspectiveCamera(children=(DirectionalLight(color='white', intensity=0.6, position=(4.7683715…"
      ]
     },
     "metadata": {},
     "output_type": "display_data"
    },
    {
     "data": {
      "text/plain": [
       "2"
      ]
     },
     "execution_count": 204,
     "metadata": {},
     "output_type": "execute_result"
    }
   ],
   "source": [
    "# Plotting the gauss map\n",
    "vs, fs = igl.read_triangle_mesh(\"data/unit_sphere.obj\")\n",
    "vs=vs*0.95\n",
    "pgm=mp.plot(vs, fs,shading={\"flat\":False})\n",
    "pgm.add_points(nf,shading={\"point_size\":0.2})\n",
    "ev, fe, ef = igl.edge_topology(v, f)\n",
    "ef = ef[np.all(ef != -1, axis=1)]\n",
    "pgm.add_lines(nf[ef[:,0]],nf[ef[:,1]],shading={\"line_color\": \"red\"})"
   ]
  },
  {
   "cell_type": "markdown",
   "id": "108f288c",
   "metadata": {},
   "source": [
    "# How to calculate the developabi"
   ]
  },
  {
   "cell_type": "code",
   "execution_count": 205,
   "id": "4e29e7d3",
   "metadata": {},
   "outputs": [],
   "source": [
    "vf,ni=igl.vertex_triangle_adjacency(f,v.shape[0])"
   ]
  },
  {
   "cell_type": "code",
   "execution_count": 206,
   "id": "3873f66a",
   "metadata": {},
   "outputs": [
    {
     "data": {
      "application/vnd.jupyter.widget-view+json": {
       "model_id": "15b3dbe30ae6410087231df7141732d7",
       "version_major": 2,
       "version_minor": 0
      },
      "text/plain": [
       "Renderer(camera=PerspectiveCamera(children=(DirectionalLight(color='white', intensity=0.6, position=(0.0, 0.0,…"
      ]
     },
     "metadata": {},
     "output_type": "display_data"
    }
   ],
   "source": [
    "developability=np.zeros(v.shape[0])\n",
    "for i in range(0,v.shape[0]):\n",
    "    dmat=nf[vf[ni[i]:ni[i+1]]]\n",
    "    developability[i]=min(np.linalg.eigvals(np.dot(dmat.T,dmat)))\n",
    "pd=mp.plot(v,f, c=developability,shading={\"point_size\":0.3})"
   ]
  }
 ],
 "metadata": {
  "kernelspec": {
   "display_name": "Python 3 (ipykernel)",
   "language": "python",
   "name": "python3"
  },
  "language_info": {
   "codemirror_mode": {
    "name": "ipython",
    "version": 3
   },
   "file_extension": ".py",
   "mimetype": "text/x-python",
   "name": "python",
   "nbconvert_exporter": "python",
   "pygments_lexer": "ipython3",
   "version": "3.9.7"
  }
 },
 "nbformat": 4,
 "nbformat_minor": 5
}
