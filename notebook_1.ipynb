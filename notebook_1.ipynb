{
 "cells": [
  {
   "cell_type": "code",
   "execution_count": 13,
   "id": "9d3c25b5",
   "metadata": {},
   "outputs": [],
   "source": [
    "from unfolding_helper import *\n",
    "from shapely.geometry import *\n",
    "\n",
    "def get_unfolding(mesh, cutted_faces):\n",
    "    tree = node(cutted_faces[0])\n",
    "    tree.add_child(cutted_faces[1])\n",
    "    return tree.unfold(mesh)\n",
    "\n",
    "def starting_point_3d_2_2d(mesh, face_id, starting_point_3d):\n",
    "    # TODO\n",
    "    #     -> mesh.get_2d_projection(...) to get a rotation Matrix\n",
    "    #     -> rotate the point by calculating the dot_product of point with this rotation Matrix\n",
    "    #        by rotation_matrix.dot(starting_point_3d)\n",
    "    pass\n",
    "\n",
    "# Simple Vector Class\n",
    "class Vec:\n",
    "    def __init__(self, x, y, z):\n",
    "        self.x = x\n",
    "        self.y = y\n",
    "        self.z = z\n",
    "\n",
    "    def len(self):\n",
    "        return sqrt(self.x**2 + self.y**2 + self.z**2)\n",
    "\n",
    "    def normalize(self):\n",
    "        l = self.len()\n",
    "        return Vec(self.x/l, self.y/l, self.z/l)\n",
    "\n",
    "    def __add__(self, v):\n",
    "        return Vec(self.x + v.x, self.y + v.y, self.z + v.z)\n",
    "\n",
    "    def __mul__(self, s):\n",
    "        return Vec(self.x * s, self.y * s, self.z * s)\n",
    "\n",
    "    def __sub__(self, v):\n",
    "        return Vec(self.x - v.x, self.y - v.y, self.z - v.z)"
   ]
  },
  {
   "cell_type": "code",
   "execution_count": 14,
   "id": "3b78d438",
   "metadata": {},
   "outputs": [
    {
     "name": "stdout",
     "output_type": "stream",
     "text": [
      "Cutted Edges: [1, 6, 7, 8, 5, 11, 9]\n",
      "Shortest path in 2d will start at None and end at [0. 2.]\n"
     ]
    }
   ],
   "source": [
    "mesh = Mesh('cube.obj')\n",
    "    \n",
    "#list of faces on the shortest path\n",
    "cutted_faces = [5, 2]\n",
    "    \n",
    "end_point_id = 2\n",
    "starting_point_3d = (.5, .5, .1)\n",
    "    \n",
    "#unfold the faces from cutted_faces as shown in the previous lectures\n",
    "unfold = get_unfolding(mesh, cutted_faces)\n",
    "    \n",
    "#list of edge_ids that possibly are being cut by the shortest path\n",
    "cutted_edges = get_cutted_edges(mesh, cutted_faces)\n",
    "print('Cutted Edges:', cutted_edges)\n",
    "    \n",
    "#create a Hashmap that maps vertex_id to 2d coordinates\n",
    "points_2d = get_2d_points(mesh, unfold, cutted_faces)\n",
    "    \n",
    "#now we can get the 2d projection of the end point\n",
    "end_point_2d = points_2d[end_point_id]\n",
    "    \n",
    "#project starting point from 3d to 2d space using the first Matrix Multiplication in the unfold function\n",
    "starting_point_2d = starting_point_3d_2_2d(mesh, cutted_faces[0], starting_point_3d)\n",
    "    \n",
    "print('Shortest path in 2d will start at', starting_point_2d, 'and end at', end_point_2d)"
   ]
  },
  {
   "cell_type": "code",
   "execution_count": 15,
   "id": "57b3d80a",
   "metadata": {},
   "outputs": [],
   "source": [
    "# TODO: create a list of shapely LineString Objects out of the 2d points \n",
    "#     -> use \"LineString(((x_1, y_1), (x_2, y_2)))\" to create a LineString Object\n",
    "#     -> get the coordinates of a 2d point by \"points_2d[vertex_id]\"\n",
    "\n"
   ]
  },
  {
   "cell_type": "code",
   "execution_count": 16,
   "id": "03a88f0d",
   "metadata": {},
   "outputs": [],
   "source": [
    "# TODO: create the main_line as a LineString Object out of the starting_point_2d and the end_point_2d\n",
    "\n"
   ]
  },
  {
   "cell_type": "code",
   "execution_count": 17,
   "id": "c5ddddec",
   "metadata": {},
   "outputs": [],
   "source": [
    "# TODO: create the main_line as a LineString Object out of the starting_point_2d and the end_point_2d\n",
    "\n"
   ]
  },
  {
   "cell_type": "code",
   "execution_count": 18,
   "id": "d4630979",
   "metadata": {},
   "outputs": [],
   "source": [
    "# TODO: Cut the main_line by each line in the lines list and store the intersection coordinates\n",
    "#     -> use \"main_line.intersection(some_line)\" to get either a Shapely Point or None\n",
    "#     -> if it is a shapely point you can get the coordinates by \"tuple(Point.coords)[0]\"\n",
    "\n"
   ]
  },
  {
   "cell_type": "code",
   "execution_count": 19,
   "id": "00862e95",
   "metadata": {},
   "outputs": [],
   "source": [
    "# TODO: Calculate the 3d position for every Intersection_Vertex in new_vertices\n",
    "#     -> use \"edge_as_vertex_ids\" to get the corresponing vertex_ids to any given edge_id\n",
    "#     -> use \"Intersection_Vertex.calc_3d_coordinates(edge)\" "
   ]
  },
  {
   "cell_type": "code",
   "execution_count": null,
   "id": "b0bf43f6",
   "metadata": {},
   "outputs": [],
   "source": []
  }
 ],
 "metadata": {
  "kernelspec": {
   "display_name": "Python 3 (ipykernel)",
   "language": "python",
   "name": "python3"
  },
  "language_info": {
   "codemirror_mode": {
    "name": "ipython",
    "version": 3
   },
   "file_extension": ".py",
   "mimetype": "text/x-python",
   "name": "python",
   "nbconvert_exporter": "python",
   "pygments_lexer": "ipython3",
   "version": "3.9.9"
  }
 },
 "nbformat": 4,
 "nbformat_minor": 5
}
