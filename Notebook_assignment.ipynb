{
 "cells": [
  {
   "cell_type": "code",
   "execution_count": 79,
   "id": "ea4f28e6-e709-4482-a1c1-c79322baa01b",
   "metadata": {},
   "outputs": [],
   "source": [
    "import openmesh as om\n",
    "# OpenMesh docs are here\n",
    "# https://openmesh-python.readthedocs.io/en/latest/iterators.html\n",
    "\n",
    "import numpy as np\n",
    "from numpy.linalg import inv\n",
    "\n",
    "from math import sqrt, pi\n",
    "from queue import SimpleQueue, LifoQueue\n",
    "from collections import defaultdict\n",
    "\n",
    "import drawSvg as draw\n",
    "\n",
    "def set_visited(mesh, face): mesh.set_face_property(\"visited\", face, True)\n",
    "\n",
    "def is_visited(mesh, face): return mesh.face_property(\"visited\", face) == True\n",
    "\n",
    "def clear_visited(mesh):\n",
    "    for face in mesh.faces():\n",
    "        mesh.set_face_property(\"visited\", face, False)\n",
    "\n",
    "# making it easier to read the OpenMesh API\n",
    "def get_adjacent_faces(mesh, face): return mesh.ff(face)\n",
    "def get_vertecies_by_face(mesh, face): return list(mesh.fv(face))\n",
    "\n",
    "def get_coordinate_from_vertex_handle(mesh, vertex_handle): return mesh.point(vertex_handle)\n",
    "def get_first_vertex_handle(mesh, halfedge_handle): return mesh.from_vertex_handle(halfedge_handle)\n",
    "def get_face_normal(mesh, face): return mesh.normal(face)\n",
    "\n",
    "def get_edge_between_faces(mesh, face_a, face_b):\n",
    "    for face_a_halfedge in mesh.fh(face_a):\n",
    "        if mesh.face_handle(mesh.opposite_halfedge_handle(face_a_halfedge)).idx() == face_b.idx():\n",
    "            return face_a_halfedge\n",
    "    raise Exception(\"there is no edge between these two faces\")\n",
    "\n",
    "def get_rotation_matrix(axis, angle):\n",
    "    from scipy.spatial.transform import Rotation\n",
    "    return Rotation.from_rotvec(axis/np.linalg.norm(axis) * angle).as_matrix()\n"
   ]
  },
  {
   "cell_type": "code",
   "execution_count": 80,
   "id": "c09f3e33-2c91-4411-99ef-864fc7606d18",
   "metadata": {},
   "outputs": [],
   "source": [
    "class Tree:\n",
    "    def __init__(self):\n",
    "        self.adjacency_lists = defaultdict(list)\n",
    "\n",
    "    def get_root(self):\n",
    "        return self.adjacency_lists[-1]\n",
    "\n",
    "    def set_root(self, node_id):\n",
    "        self.adjacency_lists[-1] = node_id\n",
    "\n",
    "    def insert(self, node_id, parent_id):\n",
    "        self.adjacency_lists[parent_id].append(node_id)\n",
    "\n",
    "    def get_children(self, node_id):\n",
    "        return self.adjacency_lists[node_id]"
   ]
  },
  {
   "cell_type": "code",
   "execution_count": 81,
   "id": "c65b0286-15dd-4066-b2e8-bab81e991987",
   "metadata": {},
   "outputs": [],
   "source": [
    "def bfs(mesh, start_face):\n",
    "    queue = SimpleQueue()\n",
    "    spanning_tree = Tree()\n",
    "    clear_visited(mesh)\n",
    "    \n",
    "    queue.put(start_face)\n",
    "    set_visited(mesh, start_face)\n",
    "    spanning_tree.set_root(start_face.idx())\n",
    "\n",
    "    while not queue.empty():\n",
    "        current_face = queue.get()\n",
    "        for adjacent_face in get_adjacent_faces(mesh, current_face):\n",
    "            if not is_visited(mesh, adjacent_face):\n",
    "                queue.put(adjacent_face)\n",
    "                set_visited(mesh, adjacent_face)    \n",
    "                spanning_tree.insert(node_id=adjacent_face.idx(), parent_id=current_face.idx())\n",
    "\n",
    "    return spanning_tree\n",
    "\n",
    "\n",
    "def dfs(mesh, start_face):\n",
    "    stack = LifoQueue()\n",
    "    spanning_tree = Tree()\n",
    "    clear_visited(mesh)\n",
    "    \n",
    "    stack.put(start_face)\n",
    "    set_visited(mesh, start_face)\n",
    "    spanning_tree.set_root(start_face.idx())\n",
    "\n",
    "    while not stack.empty():\n",
    "        current_face = stack.get()\n",
    "        for adjacent_face in get_adjacent_faces(mesh, current_face):\n",
    "            if not is_visited(mesh, adjacent_face):\n",
    "                stack.put(adjacent_face)\n",
    "                set_visited(mesh, adjacent_face)    \n",
    "                spanning_tree.insert(node_id=adjacent_face.idx(), parent_id=current_face.idx())\n",
    "\n",
    "    return spanning_tree\n"
   ]
  },
  {
   "cell_type": "code",
   "execution_count": 82,
   "id": "8f67ac0f-f1a3-4ac1-8a7d-70fb4b60ac4b",
   "metadata": {},
   "outputs": [
    {
     "data": {
      "text/plain": [
       "<bound method PyCapsule.from_vertex_handle of <openmesh.PolyMesh object at 0x7fda44b77830>>"
      ]
     },
     "execution_count": 82,
     "metadata": {},
     "output_type": "execute_result"
    }
   ],
   "source": [
    "mesh.from_vertex_handle"
   ]
  },
  {
   "cell_type": "code",
   "execution_count": null,
   "id": "30b1c954-4346-48a5-9f93-1b95c6bbb73c",
   "metadata": {},
   "outputs": [],
   "source": [
    "# steepest edge unfolding helpers\n",
    "def all_vertices(mesh): return mesh.vertices()\n",
    "def get_adjacent_faces_by_vertex(mesh, vertex_handle): return list(mesh.vf(vertex_handle))\n",
    "def get_edges(mesh, vertex_handle): return list(mesh.ve(vertex_handle))\n",
    "def get_edge_vector(mesh, edge): return mesh.calc_edge_vector(edge)\n",
    "def normalize(np_vector): return np_vector / np.linalg.norm(np_vector)\n",
    "\n",
    "def set_excluded(mesh, edge): mesh.set_edge_property(\"excluded\", edge, True)\n",
    "def is_excluded(mesh, edge): return mesh.edge_property(\"excluded\", edge) == True\n",
    "def clear_excluded(mesh):\n",
    "    for face in mesh.edges():\n",
    "        mesh.set_edge_property(\"excluded\", face, False)"
   ]
  },
  {
   "cell_type": "code",
   "execution_count": 90,
   "id": "f1e31848-bbc8-42fc-a9b5-0b961414a684",
   "metadata": {},
   "outputs": [],
   "source": [
    "def get_2d_projection(mesh, face):\n",
    "    face_normal = get_face_normal(mesh, face)\n",
    "    z_axis = np.array([0,0,1])\n",
    "    rotation_axis = np.cross(face_normal, z_axis)\n",
    "    face_normal_normalized = face_normal / np.linalg.norm(face_normal)\n",
    "    angle = np.arccos(np.clip(np.dot(z_axis, face_normal), -1.0, 1.0))\n",
    "\n",
    "    discard_z_matrix = np.array([\n",
    "        [1, 0, 0],\n",
    "        [0, 1, 0]\n",
    "    ])\n",
    "\n",
    "    rotation_matrix = get_rotation_matrix(rotation_axis, angle)\n",
    "    return discard_z_matrix.dot(rotation_matrix)\n",
    "\n",
    "\n",
    "def unfold(mesh, spanning_tree):\n",
    "    polygons = []  # resulting polygons, represented as lists of 2D coordinates\n",
    "\n",
    "    def unfolder_recursive_call(node, world_to_canvas_mapping_fn):\n",
    "        # get list of 3D coordinate from the respective face\n",
    "        polygon_3d = [get_coordinate_from_vertex_handle(mesh, vertex_handle) for vertex_handle in get_vertecies_by_face(mesh, mesh.face_handle(node))]\n",
    "        # apply previous coordinate mapping function and store polygon\n",
    "        polygons.append([world_to_canvas_mapping_fn(point_3d) for point_3d in polygon_3d])\n",
    "\n",
    "        for child in spanning_tree.get_children(node):\n",
    "            # here we are using OpenMesh function to get the values that we need\n",
    "            crease_halfedge = get_edge_between_faces(mesh,  mesh.face_handle(child),  mesh.face_handle(node))\n",
    "            crease_angle = mesh.calc_dihedral_angle(crease_halfedge)\n",
    "            crease_vector = mesh.calc_edge_vector(crease_halfedge)\n",
    "            offset = get_coordinate_from_vertex_handle(mesh, get_first_vertex_handle(mesh, crease_halfedge))\n",
    "            rotation_matrix = get_rotation_matrix(crease_vector, crease_angle)\n",
    "\n",
    "            # we introduce an offset, since rotation needs to occur around the origin and not the crease line\n",
    "            creasing_up_mapping_fn = lambda points: rotation_matrix.dot(points - offset) + offset\n",
    "            \n",
    "            # add a new mapping function to the 'stack' that maps the child's coordinate system to the parent's\n",
    "            # coordinate system. (which in turn will be handed of to the rest of the function stack to end up with the final coordinates)\n",
    "            combined_mapping_fn = lambda points: world_to_canvas_mapping_fn(creasing_up_mapping_fn(points))\n",
    "            \n",
    "            unfolder_recursive_call(child, combined_mapping_fn)\n",
    "\n",
    "    root_face_handle = mesh.face_handle(spanning_tree.get_root())\n",
    "    map_to_2d = lambda points: get_2d_projection(mesh, root_face_handle).dot(points)\n",
    "    unfolder_recursive_call(spanning_tree.get_root(), map_to_2d)\n",
    "\n",
    "    return polygons"
   ]
  },
  {
   "cell_type": "code",
   "execution_count": 97,
   "id": "4d1e95bc-8ca9-45a3-b824-5dcc3384d502",
   "metadata": {},
   "outputs": [
    {
     "data": {
      "text/html": [
       "<img src=\"data:image/svg+xml;base64,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\">"
      ],
      "text/plain": [
       "<drawSvg.drawing.Drawing at 0x7fda44bdb310>"
      ]
     },
     "execution_count": 97,
     "metadata": {},
     "output_type": "execute_result"
    }
   ],
   "source": [
    "mesh = om.read_polymesh('sphere.stl')\n",
    "mesh.update_normals()\n",
    "\n",
    "spanning_tree = steepest_edge(mesh, mesh.face_handle(0))\n",
    "\n",
    "polygons = unfold(mesh, spanning_tree)\n",
    "\n",
    "# generate svg visualization \n",
    "drawing = draw.Drawing(1000, 1000, origin='center', displayInline=False)\n",
    "for polygon in polygons:\n",
    "    # polygon = [coords[0:2] for coords in polygon]\n",
    "    drawing.append(draw.Lines(*np.array(polygon).flatten()*50, close=True, fill='#eeee00', stroke='#000', stroke_width=.1))\n",
    "\n",
    "drawing"
   ]
  }
 ],
 "metadata": {
  "kernelspec": {
   "display_name": "main2",
   "language": "python",
   "name": "main2"
  },
  "language_info": {
   "codemirror_mode": {
    "name": "ipython",
    "version": 3
   },
   "file_extension": ".py",
   "mimetype": "text/x-python",
   "name": "python",
   "nbconvert_exporter": "python",
   "pygments_lexer": "ipython3",
   "version": "3.9.7"
  }
 },
 "nbformat": 4,
 "nbformat_minor": 5
}
