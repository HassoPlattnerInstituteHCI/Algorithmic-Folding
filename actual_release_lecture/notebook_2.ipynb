{
 "cells": [
  {
   "cell_type": "code",
   "execution_count": 7,
   "id": "f8b1c0d1",
   "metadata": {},
   "outputs": [],
   "source": [
    "from unfolding_helper import *\n",
    "\n",
    "def get_unfolding(mesh, cutted_faces):\n",
    "    tree = node(cutted_faces[0])\n",
    "    tree.add_child(cutted_faces[1])\n",
    "    return tree.unfold(mesh)\n",
    "\n",
    "def starting_point_3d_2_2d(mesh, face_id, starting_point_3d):\n",
    "    map_to_2d = lambda points: mesh.get_2d_projection(mesh.face_handle(face_id)).dot(points)\n",
    "    return map_to_2d(starting_point_3d)"
   ]
  },
  {
   "cell_type": "code",
   "execution_count": 8,
   "id": "1eb67f0c",
   "metadata": {},
   "outputs": [
    {
     "name": "stdout",
     "output_type": "stream",
     "text": [
      "Cutted Edges: [1, 6, 7, 8, 5, 11, 9]\n",
      "Shortest path in 2d will start at [0.5 0.5] and end at [0. 2.]\n"
     ]
    }
   ],
   "source": [
    "mesh = Mesh('cube.obj')\n",
    "    \n",
    "#list of faces on the shortest path\n",
    "cut_faces = [5, 2]\n",
    "    \n",
    "end_point_id = 2\n",
    "starting_point_3d = (.5, .5, .1)\n",
    "    \n",
    "#unfold the faces from cutted_faces as shown in the previous lectures\n",
    "unfold = get_unfolding(mesh, cut_faces)\n",
    "    \n",
    "#list of edge_ids that possibly are being cut by the shortest path\n",
    "cut_edges = get_cutted_edges(mesh, cut_faces)\n",
    "print('Cutted Edges:', cutted_edges)\n",
    "    \n",
    "#create a Hashmap that maps vertex_id to 2d coordinates\n",
    "points_2d = map_id_2d_points(mesh, unfold, cut_faces)\n",
    "    \n",
    "#now we can get the 2d projection of the end point\n",
    "end_point_2d = points_2d[end_point_id]\n",
    "    \n",
    "#project starting point from 3d to 2d space using the first Matrix Multiplication in the unfold function\n",
    "starting_point_2d = starting_point_3d_2_2d(mesh, cutted_faces[0], starting_point_3d)\n",
    "    \n",
    "print('Shortest path in 2d will start at', starting_point_2d, 'and end at', end_point_2d)"
   ]
  },
  {
   "cell_type": "code",
   "execution_count": 9,
   "id": "95d69790",
   "metadata": {},
   "outputs": [],
   "source": [
    "#List of edges represented as vertex_ids\n",
    "#Example: [(0, 1), (1, 2), (2, 3), (3, 0), (0, 4), (4, 5), (5, 1), (5, 6), (6, 2), (6, 7), (7, 3), (7, 4)]\n",
    "#now we can get the vertecies of an edge by edges_as_vertex_ids[edge_id]\n",
    "edges_as_vertex_ids = [tuple(e) for e in mesh.edge_vertex_indices()]"
   ]
  },
  {
   "cell_type": "code",
   "execution_count": 10,
   "id": "414ea6aa",
   "metadata": {},
   "outputs": [],
   "source": [
    "# TODO: create a list of shapely LineString Objects out of the 2d points \n",
    "#     -> use \"LineString(((x_1, y_1), (x_2, y_2)))\" to create a LineString Object\n",
    "#     -> get the coordinates of a 2d point by \"points_2d[vertex_id]\"\n",
    "\n",
    "# TODO: create the main_line as a LineString Object out of the starting_point_2d and the end_point_2d"
   ]
  },
  {
   "cell_type": "code",
   "execution_count": null,
   "id": "c51ad4b7",
   "metadata": {},
   "outputs": [],
   "source": [
    "# Simple Vector Class\n",
    "class Vec:\n",
    "    def __init__(self, x, y, z):\n",
    "        self.x = x\n",
    "        self.y = y\n",
    "        self.z = z\n",
    "\n",
    "    def len(self):\n",
    "        return sqrt(self.x**2 + self.y**2 + self.z**2)\n",
    "\n",
    "    def normalize(self):\n",
    "        l = self.len()\n",
    "        return Vec(self.x/l, self.y/l, self.z/l)\n",
    "\n",
    "    def __add__(self, v):\n",
    "        return Vec(self.x + v.x, self.y + v.y, self.z + v.z)\n",
    "\n",
    "    def __mul__(self, s):\n",
    "        return Vec(self.x * s, self.y * s, self.z * s)\n",
    "\n",
    "    def __sub__(self, v):\n",
    "        return Vec(self.x - v.x, self.y - v.y, self.z - v.z)\n",
    "\n",
    "# TODO: Create a class which stores a corresponding edge_id \n",
    "# and a distance between the first point and the intersection point in order to calculate the\n",
    "# 3d coordinates of the intersection point\n",
    "\n",
    "class Intersection_Vertex:\n",
    "    def __init__(self, edge_id, distance):\n",
    "        # TODO\n",
    "        pass\n",
    "    \n",
    "    def calc_3d_coordinates(self, edge):\n",
    "        # TODO calculate the 3d coordinates by creating a normalized vector from edge[0] to edge[1]\n",
    "        # multiplying this vector by the stored distance and adding that to edge[0]\n",
    "        pass\n"
   ]
  },
  {
   "cell_type": "code",
   "execution_count": 11,
   "id": "e4fccbd4",
   "metadata": {},
   "outputs": [],
   "source": [
    "# TODO: Cut the main_line by each line in lines and store the intersection coordinates\n",
    "#     -> use \"main_line.intersection(some_line)\" to get either a Shapely Point or None\n",
    "#     -> if it is a shapely point you can get the coordinates by \"tuple(Point.coords)[0]\"\n",
    "#     \n",
    "#     TODO express this Point as an Intersection_Vertex object\n",
    "#         -> get the coordinates of the first point in l by \"tuple(l.coords)[0]\"\n"
   ]
  },
  {
   "cell_type": "code",
   "execution_count": 12,
   "id": "a0337123",
   "metadata": {},
   "outputs": [],
   "source": [
    "# TODO: Calculate the 3d position for every Intersection_Vertex in new_vertices\n",
    "#     -> use \"edge_as_vertex_ids\" to get the corresponing vertex_ids to any given edge_id\n",
    "#     -> use \"Intersection_Vertex.calc_3d_coordinates(edge)\" "
   ]
  },
  {
   "cell_type": "code",
   "execution_count": null,
   "id": "f0ed9f86",
   "metadata": {},
   "outputs": [],
   "source": []
  }
 ],
 "metadata": {
  "kernelspec": {
   "display_name": "Python 3 (ipykernel)",
   "language": "python",
   "name": "python3"
  },
  "language_info": {
   "codemirror_mode": {
    "name": "ipython",
    "version": 3
   },
   "file_extension": ".py",
   "mimetype": "text/x-python",
   "name": "python",
   "nbconvert_exporter": "python",
   "pygments_lexer": "ipython3",
   "version": "3.9.9"
  }
 },
 "nbformat": 4,
 "nbformat_minor": 5
}
