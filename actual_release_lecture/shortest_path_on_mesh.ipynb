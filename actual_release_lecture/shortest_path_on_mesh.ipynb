{
 "cells": [
  {
   "cell_type": "code",
   "execution_count": 3,
   "id": "5407f0b4-30ce-49c0-8951-29a56cf3b8c8",
   "metadata": {},
   "outputs": [
    {
     "name": "stdout",
     "output_type": "stream",
     "text": [
      "Sending build context to Docker daemon  14.07MB\n",
      "Step 1/10 : FROM ubuntu:21.10\n",
      " ---> 2dc51e04d744\n",
      "Step 2/10 : RUN apt-get update && apt-get install libcgal-dev g++ git -y\n",
      " ---> Using cache\n",
      " ---> 775ce6be005a\n",
      "Step 3/10 : RUN apt-get install cmake -y\n",
      " ---> Using cache\n",
      " ---> f44bab8147e2\n",
      "Step 4/10 : RUN mkdir /code\n",
      " ---> Using cache\n",
      " ---> 9c8afed7808c\n",
      "Step 5/10 : WORKDIR /code\n",
      " ---> Using cache\n",
      " ---> b56d73d1e7b8\n",
      "Step 6/10 : RUN git clone --branch OpenMesh-8.1 https://gitlab.vci.rwth-aachen.de:9000/OpenMesh/OpenMesh.git &&\tcd OpenMesh && mkdir build && cd build && cmake .. && make -j8 OpenMeshCore\n",
      " ---> Using cache\n",
      " ---> db4aa0ed85d7\n",
      "Step 7/10 : COPY main.cpp /code/\n",
      " ---> Using cache\n",
      " ---> 91bcba87ee9d\n",
      "Step 8/10 : COPY CMakeLists.txt /code/\n",
      " ---> Using cache\n",
      " ---> ac1cf2a1eb82\n",
      "Step 9/10 : RUN mkdir build && cd build && cmake .. && make\n",
      " ---> Using cache\n",
      " ---> e6b24919b18a\n",
      "Step 10/10 : WORKDIR ./build\n",
      " ---> Using cache\n",
      " ---> b0f696f93858\n",
      "Successfully built b0f696f93858\n",
      "Successfully tagged algorithmic_folding_cgal:latest\n"
     ]
    }
   ],
   "source": [
    "# make sure you have docker installed and in your PATH\n",
    "!docker build native -t algorithmic_folding_cgal"
   ]
  },
  {
   "cell_type": "code",
   "execution_count": 4,
   "id": "84436bae-0bb3-4c99-9cba-5581da88ce1e",
   "metadata": {},
   "outputs": [
    {
     "name": "stdout",
     "output_type": "stream",
     "text": [
      "cube.obj\t  notebook_4.ipynb\t  shortest_path_on_mesh.ipynb\n",
      "__init__.py\t  notebook_5.ipynb\t  shortest_path.py\n",
      "native\t\t  notebook_6.ipynb\t  test.stl\n",
      "notebook_1.ipynb  notebook_7-Copy1.ipynb  unfolding_helper.py\n",
      "notebook_2.ipynb  notebook_7.ipynb\n",
      "notebook_3.ipynb  __pycache__\n"
     ]
    }
   ],
   "source": [
    "!ls"
   ]
  },
  {
   "cell_type": "code",
   "execution_count": 5,
   "id": "255acc46-6012-41cc-94ab-4b9912740531",
   "metadata": {},
   "outputs": [
    {
     "name": "stdout",
     "output_type": "stream",
     "text": [
      "3  1 1 1 2.4 0.4 1 2.75 0.25 1\n",
      "2  2 0 1 2.75 0.25 1\n",
      "2  3 1 1 2.75 0.25 1\n",
      "3  1 -1 1 2.16667 -0.166667 1 2.75 0.25 1\n",
      "2  3 -1 1 2.75 0.25 1\n"
     ]
    }
   ],
   "source": [
    "# replace 'test.stl' with you file placed in your current working directory\n",
    "!docker run --rm -it -v $(pwd):/code/build/assets algorithmic_folding_cgal bash -c \"./main ./assets/test.stl\"\n",
    "# row 1: number of vertices in path\n",
    "# rest of row: x, y, z coordinates of the subsequenet vertices in shortest path"
   ]
  }
 ],
 "metadata": {
  "kernelspec": {
   "display_name": "main2",
   "language": "python",
   "name": "main2"
  },
  "language_info": {
   "codemirror_mode": {
    "name": "ipython",
    "version": 3
   },
   "file_extension": ".py",
   "mimetype": "text/x-python",
   "name": "python",
   "nbconvert_exporter": "python",
   "pygments_lexer": "ipython3",
   "version": "3.9.7"
  }
 },
 "nbformat": 4,
 "nbformat_minor": 5
}
