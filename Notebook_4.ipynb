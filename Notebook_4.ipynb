{
 "cells": [
  {
   "cell_type": "code",
   "execution_count": 2,
   "id": "ea4f28e6-e709-4482-a1c1-c79322baa01b",
   "metadata": {},
   "outputs": [],
   "source": [
    "import openmesh as om\n",
    "# OpenMesh docs are here\n",
    "# https://openmesh-python.readthedocs.io/en/latest/iterators.html\n",
    "\n",
    "import numpy as np\n",
    "from numpy.linalg import inv\n",
    "\n",
    "from math import sqrt, pi\n",
    "from queue import SimpleQueue, LifoQueue\n",
    "from collections import defaultdict\n",
    "\n",
    "import drawSvg as draw\n",
    "\n",
    "def set_visited(mesh, face): mesh.set_face_property(\"visited\", face, True)\n",
    "\n",
    "def is_visited(mesh, face): return mesh.face_property(\"visited\", face) == True\n",
    "\n",
    "def clear_visited(mesh):\n",
    "    for face in mesh.faces():\n",
    "        mesh.set_face_property(\"visited\", face, False)\n",
    "\n",
    "# making it easier to read the OpenMesh API\n",
    "def get_adjacent_faces(mesh, face): return mesh.ff(face)\n",
    "def get_vertecies_by_face(mesh, face): return list(mesh.fv(face))\n",
    "\n",
    "def get_coordinate_from_vertex_handle(mesh, vertex_handle): return mesh.point(vertex_handle)\n",
    "def get_first_vertex_handle(mesh, halfedge_handle): return mesh.from_vertex_handle(halfedge_handle)\n",
    "def get_face_normal(mesh, face): return mesh.normal(face)\n",
    "\n",
    "def get_edge_between_faces(mesh, face_a, face_b):\n",
    "    for face_a_halfedge in mesh.fh(face_a):\n",
    "        if mesh.face_handle(mesh.opposite_halfedge_handle(face_a_halfedge)).idx() == face_b.idx():\n",
    "            return face_a_halfedge\n",
    "    raise Exception(\"there is no edge between these two faces\")\n",
    "\n",
    "def get_rotation_matrix(axis, angle):\n",
    "    from scipy.spatial.transform import Rotation\n",
    "    return Rotation.from_rotvec(axis/np.linalg.norm(axis) * angle).as_matrix()\n"
   ]
  },
  {
   "cell_type": "code",
   "execution_count": 11,
   "id": "c09f3e33-2c91-4411-99ef-864fc7606d18",
   "metadata": {},
   "outputs": [],
   "source": [
    "class Tree:\n",
    "    def __init__(self):\n",
    "        self.adjacency_lists = defaultdict(list)\n",
    "\n",
    "    def get_root(self):\n",
    "        return self.adjacency_lists[-1]\n",
    "\n",
    "    def set_root(self, node_id):\n",
    "        self.adjacency_lists[-1] = node_id\n",
    "\n",
    "    def insert(self, node_id, parent_id):\n",
    "        self.adjacency_lists[parent_id].append(node_id)\n",
    "\n",
    "    def get_children(self, node_id):\n",
    "        return self.adjacency_lists[node_id]"
   ]
  },
  {
   "cell_type": "code",
   "execution_count": 12,
   "id": "c65b0286-15dd-4066-b2e8-bab81e991987",
   "metadata": {},
   "outputs": [],
   "source": [
    "def bfs(mesh, start_face):\n",
    "    queue = SimpleQueue()\n",
    "    spanning_tree = Tree()\n",
    "    clear_visited(mesh)\n",
    "    \n",
    "    queue.put(start_face)\n",
    "    set_visited(mesh, start_face)\n",
    "    spanning_tree.set_root(start_face.idx())\n",
    "\n",
    "    while not queue.empty():\n",
    "        current_face = queue.get()\n",
    "        for adjacent_face in get_adjacent_faces(mesh, current_face):\n",
    "            if not is_visited(mesh, adjacent_face):\n",
    "                queue.put(adjacent_face)\n",
    "                set_visited(mesh, adjacent_face)    \n",
    "                spanning_tree.insert(node_id=adjacent_face.idx(), parent_id=current_face.idx())\n",
    "\n",
    "    return spanning_tree"
   ]
  },
  {
   "cell_type": "code",
   "execution_count": 18,
   "id": "f1e31848-bbc8-42fc-a9b5-0b961414a684",
   "metadata": {},
   "outputs": [],
   "source": [
    "def get_2d_projection(mesh, face):\n",
    "    face_normal = get_face_normal(mesh, face)\n",
    "    z_axis = np.array([0,0,1])\n",
    "    rotation_axis = np.cross(face_normal, z_axis)\n",
    "    face_normal_normalized = face_normal / np.linalg.norm(face_normal)\n",
    "    angle = np.arccos(np.clip(np.dot(z_axis, face_normal), -1.0, 1.0))\n",
    "\n",
    "    discard_z_matrix = np.array([\n",
    "        [1, 0, 0],\n",
    "        [0, 1, 0]\n",
    "    ])\n",
    "\n",
    "    # TODO figure out whats up with that angle\n",
    "    rotation_matrix = get_rotation_matrix(rotation_axis, angle)\n",
    "    return discard_z_matrix.dot(rotation_matrix)\n",
    "\n",
    "\n",
    "def unfold(mesh, spanning_tree):\n",
    "    polygons = []  # resulting polygons, represented as lists of 2D coordinates\n",
    "\n",
    "    def unfolder_recursive_call(node, world_to_canvas_mapping_fn):\n",
    "        # get list of 3D coordinate from the respective face\n",
    "        polygon_3d = [get_coordinate_from_vertex_handle(mesh, vertex_handle) for vertex_handle in get_vertecies_by_face(mesh, mesh.face_handle(node))]\n",
    "        # apply previous coordinate mapping function and store polygon\n",
    "        polygons.append([world_to_canvas_mapping_fn(point_3d) for point_3d in polygon_3d])\n",
    "\n",
    "        for child in spanning_tree.get_children(node):\n",
    "            # here we are using OpenMesh function to get the values that we need\n",
    "            crease_halfedge = get_edge_between_faces(mesh,  mesh.face_handle(child),  mesh.face_handle(node))\n",
    "            crease_angle = mesh.calc_dihedral_angle(crease_halfedge)\n",
    "            crease_vector = mesh.calc_edge_vector(crease_halfedge)\n",
    "            offset = get_coordinate_from_vertex_handle(mesh, get_first_vertex_handle(mesh, crease_halfedge))\n",
    "            rotation_matrix = get_rotation_matrix(crease_vector, crease_angle)\n",
    "\n",
    "            # we introduce an offset, since rotation needs to occur around the origin and not the crease line\n",
    "            creasing_up_mapping_fn = lambda points: rotation_matrix.dot(points - offset) + offset\n",
    "            \n",
    "            # add a new mapping function to the 'stack' that maps the child's coordinate system to the parent's\n",
    "            # coordinate system. (which in turn will be handed of to the rest of the function stack to end up with the final coordinates)\n",
    "            combined_mapping_fn = lambda points: world_to_canvas_mapping_fn(creasing_up_mapping_fn(points))\n",
    "            \n",
    "            unfolder_recursive_call(child, combined_mapping_fn)\n",
    "\n",
    "    root_face_handle = mesh.face_handle(spanning_tree.get_root())\n",
    "    map_to_2d = lambda points: get_2d_projection(mesh, root_face_handle).dot(points)\n",
    "    unfolder_recursive_call(spanning_tree.get_root(), map_to_2d)\n",
    "\n",
    "    return polygons"
   ]
  },
  {
   "cell_type": "code",
   "execution_count": 19,
   "id": "4d1e95bc-8ca9-45a3-b824-5dcc3384d502",
   "metadata": {},
   "outputs": [
    {
     "data": {
      "image/svg+xml": [
       "<?xml version=\"1.0\" encoding=\"UTF-8\"?>\n",
       "<svg xmlns=\"http://www.w3.org/2000/svg\" xmlns:xlink=\"http://www.w3.org/1999/xlink\"\n",
       "     width=\"1000\" height=\"1000\" viewBox=\"-500.0 -500.0 1000 1000\">\n",
       "<defs>\n",
       "</defs>\n",
       "<path d=\"M-50.000000000000014,50.0 L49.999999999999986,50.0 L49.999999999999986,-50.0 Z\" fill=\"#eeee00\" stroke=\"#000\" stroke-width=\"0.1\" />\n",
       "<path d=\"M-50.000000000000014,50.0 L49.999999999999986,-50.0 L-50.000000000000014,-50.0 Z\" fill=\"#eeee00\" stroke=\"#000\" stroke-width=\"0.1\" />\n",
       "<path d=\"M-50.000000000000014,-50.0 L-150.0,50.0 L-50.000000000000014,50.0 Z\" fill=\"#eeee00\" stroke=\"#000\" stroke-width=\"0.1\" />\n",
       "<path d=\"M-50.000000000000014,-50.0 L-150.0,-50.0 L-150.0,50.0 Z\" fill=\"#eeee00\" stroke=\"#000\" stroke-width=\"0.1\" />\n",
       "<path d=\"M-50.000000000000014,-50.0 L49.999999999999986,-50.0 L49.999999999999986,-150.0 Z\" fill=\"#eeee00\" stroke=\"#000\" stroke-width=\"0.1\" />\n",
       "<path d=\"M-50.000000000000014,-50.0 L49.999999999999986,-150.0 L-50.000000000000014,-150.0 Z\" fill=\"#eeee00\" stroke=\"#000\" stroke-width=\"0.1\" />\n",
       "<path d=\"M-50.000000000000014,150.0 L49.999999999999986,50.0 L-50.000000000000014,50.0 Z\" fill=\"#eeee00\" stroke=\"#000\" stroke-width=\"0.1\" />\n",
       "<path d=\"M-50.000000000000014,150.0 L49.999999999999986,150.0 L49.999999999999986,50.0 Z\" fill=\"#eeee00\" stroke=\"#000\" stroke-width=\"0.1\" />\n",
       "<path d=\"M-50.000000000000014,250.0 L49.999999999999986,150.0 L-50.000000000000014,150.0 Z\" fill=\"#eeee00\" stroke=\"#000\" stroke-width=\"0.1\" />\n",
       "<path d=\"M150.0,-50.0 L49.999999999999986,-50.0 L49.999999999999986,50.0 Z\" fill=\"#eeee00\" stroke=\"#000\" stroke-width=\"0.1\" />\n",
       "<path d=\"M150.0,-50.0 L49.999999999999986,50.0 L150.0,50.0 Z\" fill=\"#eeee00\" stroke=\"#000\" stroke-width=\"0.1\" />\n",
       "<path d=\"M250.0,-50.0 L150.0,-50.0 L150.0,50.0 Z\" fill=\"#eeee00\" stroke=\"#000\" stroke-width=\"0.1\" />\n",
       "</svg>"
      ],
      "text/plain": [
       "<drawSvg.drawing.Drawing at 0x7f6eb2a93cd0>"
      ]
     },
     "execution_count": 19,
     "metadata": {},
     "output_type": "execute_result"
    }
   ],
   "source": [
    "mesh = om.read_polymesh('cube.stl')\n",
    "mesh.update_normals()\n",
    "\n",
    "spanning_tree = bfs(mesh, mesh.face_handle(0))\n",
    "\n",
    "polygons = unfold(mesh, spanning_tree)\n",
    "\n",
    "# generate svg visualization\n",
    "drawing = None\n",
    "drawing = draw.Drawing(1000, 1000, origin='center')\n",
    "for polygon in polygons:\n",
    "    # polygon = [coords[0:2] for coords in polygon]\n",
    "    drawing.append(draw.Lines(*np.array(polygon).flatten()*50, close=True, fill='#eeee00', stroke='#000', stroke_width=.1))\n",
    "\n",
    "drawing"
   ]
  },
  {
   "cell_type": "code",
   "execution_count": 15,
   "id": "8ee13742-9c97-42e2-8e79-39f489b768b1",
   "metadata": {},
   "outputs": [],
   "source": [
    "spanning_tree = bfs(mesh, mesh.face_handle(0))\n"
   ]
  },
  {
   "cell_type": "code",
   "execution_count": null,
   "id": "a701f22c-423f-4ae9-9faa-5853a920d365",
   "metadata": {},
   "outputs": [],
   "source": []
  },
  {
   "cell_type": "code",
   "execution_count": null,
   "id": "f9e61378-9e80-4e4b-beb9-b538ae594082",
   "metadata": {},
   "outputs": [],
   "source": []
  },
  {
   "cell_type": "code",
   "execution_count": null,
   "id": "45e7de42-2dbd-485f-9b7a-32ee2f2fc3c7",
   "metadata": {},
   "outputs": [],
   "source": []
  },
  {
   "cell_type": "code",
   "execution_count": null,
   "id": "932dbd3d-700a-492c-addb-a0547225a26e",
   "metadata": {},
   "outputs": [],
   "source": []
  }
 ],
 "metadata": {
  "kernelspec": {
   "display_name": "main2",
   "language": "python",
   "name": "main2"
  },
  "language_info": {
   "codemirror_mode": {
    "name": "ipython",
    "version": 3
   },
   "file_extension": ".py",
   "mimetype": "text/x-python",
   "name": "python",
   "nbconvert_exporter": "python",
   "pygments_lexer": "ipython3",
   "version": "3.9.7"
  }
 },
 "nbformat": 4,
 "nbformat_minor": 5
}
