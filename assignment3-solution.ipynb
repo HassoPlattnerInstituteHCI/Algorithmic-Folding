{
 "cells": [
  {
   "cell_type": "code",
   "execution_count": 7,
   "id": "tender-picking",
   "metadata": {},
   "outputs": [
    {
     "name": "stdout",
     "output_type": "stream",
     "text": [
      "⎡-5  0   5  0   0  0  0   0⎤\n",
      "⎢                          ⎥\n",
      "⎢0   -5  0  0   0  0  0   5⎥\n",
      "⎢                          ⎥\n",
      "⎢0   0   0  -5  0  5  0   0⎥\n",
      "⎢                          ⎥\n",
      "⎣0   0   0  0   5  0  -5  0⎦\n"
     ]
    }
   ],
   "source": [
    "import networkx as nx\n",
    "\n",
    "def graph_to_matrix(G):\n",
    "    M = Matrix()\n",
    "    for edge in G.edges:\n",
    "        row = []\n",
    "        dx,dy = edge[0].x-edge[1].x, edge[0].y-edge[1].y\n",
    "        for vertex in G.nodes:\n",
    "            if vertex == edge[0]  : row.extend([dx,dy])\n",
    "            elif vertex == edge[1]: row.extend([-dx,-dy])\n",
    "            else:                   row.extend([0,0])\n",
    "        M=Matrix([M,row])\n",
    "    return M\n",
    "\n",
    "graph = nx.Graph()\n",
    "p1 = Point(0,0)\n",
    "p2 = Point(5,0)\n",
    "p3 = Point(5,5)\n",
    "p4 = Point(0,5)\n",
    "graph.add_edges_from([(p1,p2),(p2,p3),(p3,p4),(p4,p1)])\n",
    "A = graph_to_matrix(graph)\n",
    "pprint(A)\n"
   ]
  },
  {
   "cell_type": "code",
   "execution_count": null,
   "id": "mobile-language",
   "metadata": {},
   "outputs": [],
   "source": []
  }
 ],
 "metadata": {
  "kernelspec": {
   "display_name": "Python 3",
   "language": "python",
   "name": "python3"
  },
  "language_info": {
   "codemirror_mode": {
    "name": "ipython",
    "version": 3
   },
   "file_extension": ".py",
   "mimetype": "text/x-python",
   "name": "python",
   "nbconvert_exporter": "python",
   "pygments_lexer": "ipython3",
   "version": "3.8.5"
  }
 },
 "nbformat": 4,
 "nbformat_minor": 5
}
