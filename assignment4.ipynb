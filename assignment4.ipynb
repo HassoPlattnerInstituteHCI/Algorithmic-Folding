{
 "cells": [
  {
   "cell_type": "code",
   "execution_count": 4,
   "id": "dedicated-trout",
   "metadata": {},
   "outputs": [
    {
     "name": "stdout",
     "output_type": "stream",
     "text": [
      "⎡-5  0   5  0   0  0  0   0⎤\n",
      "⎢                          ⎥\n",
      "⎢0   -5  0  0   0  0  0   5⎥\n",
      "⎢                          ⎥\n",
      "⎢0   0   0  -5  0  5  0   0⎥\n",
      "⎢                          ⎥\n",
      "⎣0   0   0  0   5  0  -5  0⎦\n",
      "v1x depends on v2x\n",
      "v1y depends on v4y\n",
      "\n"
     ]
    }
   ],
   "source": [
    "import networkx as nx\n",
    "from sympy import Point, Matrix, pprint, floor\n",
    "\n",
    "def graph_to_matrix(G):\n",
    "    M = Matrix()\n",
    "    for edge in G.edges:\n",
    "        row = []\n",
    "        dx,dy = edge[0].x-edge[1].x, edge[0].y-edge[1].y\n",
    "        for vertex in G.nodes:\n",
    "            if vertex == edge[0]  : row.extend([dx,dy])\n",
    "            elif vertex == edge[1]: row.extend([-dx,-dy])\n",
    "            else:                   row.extend([0,0])\n",
    "        M=Matrix([M,row])\n",
    "    return M\n",
    "\n",
    "def set_pinning(pins, M):\n",
    "    N = M.nullspace() # get the nullspace N of the matrix M\n",
    "    if type(pins) is int: pins = [pins] # if only a single int is given, turn that into an iterable\n",
    "    # TODO: for every pin in pins check if any of the vectors contain a cell with that vertex in either x or y, if so fill that vector with 0s\n",
    "    return N\n",
    "\n",
    "# helper function to convert nullspace to a list of motions \n",
    "def getMotions(M):\n",
    "    if type(M) is Matrix: M = M.nullspace()\n",
    "    return [([((str(val+\"*\") if val !=1 else \"\") + \"v\" + str(floor(j/2)+1) + ('x' if (j%2 == 0) else 'y')) for j,val in enumerate(vector) if val != 0]) for vector in M]\n",
    "\n",
    "#just a cute function to convert detected motions into a human readible string\n",
    "def motions_to_string(motions):\n",
    "    string = \"\"\n",
    "    for v in motions:\n",
    "        if len(v) !=0:\n",
    "            for val in v:\n",
    "                if val == v[0] and len(v)>1: word = \" depends on \"\n",
    "                elif val != v[len(v)-1]    : word = \", and \"\n",
    "                elif len(v) == 1           : word = \" is free\\n\"\n",
    "                else                       : word =\"\\n\"\n",
    "                string += val + word\n",
    "    return string\n",
    "\n",
    "graph = nx.Graph()\n",
    "p1 = Point(0,0)\n",
    "p2 = Point(5,0)\n",
    "p3 = Point(5,5)\n",
    "p4 = Point(0,5)\n",
    "graph.add_edges_from([(p1,p2),(p2,p3),(p3,p4),(p4,p1)])\n",
    "A = graph_to_matrix(graph)\n",
    "pprint(A)\n",
    "A = set_pinning([1,2],A)\n",
    "print(motions_to_string((getMotions(A))))\n",
    "\n"
   ]
  },
  {
   "cell_type": "code",
   "execution_count": null,
   "id": "senior-isaac",
   "metadata": {},
   "outputs": [],
   "source": []
  }
 ],
 "metadata": {
  "kernelspec": {
   "display_name": "Python 3",
   "language": "python",
   "name": "python3"
  },
  "language_info": {
   "codemirror_mode": {
    "name": "ipython",
    "version": 3
   },
   "file_extension": ".py",
   "mimetype": "text/x-python",
   "name": "python",
   "nbconvert_exporter": "python",
   "pygments_lexer": "ipython3",
   "version": "3.8.5"
  }
 },
 "nbformat": 4,
 "nbformat_minor": 5
}
