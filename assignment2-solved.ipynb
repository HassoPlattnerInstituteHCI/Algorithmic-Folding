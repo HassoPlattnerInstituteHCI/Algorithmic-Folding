{
 "cells": [
  {
   "cell_type": "code",
   "execution_count": 4,
   "id": "incorrect-difficulty",
   "metadata": {},
   "outputs": [
    {
     "name": "stdout",
     "output_type": "stream",
     "text": [
      "graph is flexible\n"
     ]
    },
    {
     "data": {
      "image/png": "[encoded data removed]",
      "text/plain": [
       "<Figure size 432x288 with 1 Axes>"
      ]
     },
     "metadata": {},
     "output_type": "display_data"
    }
   ],
   "source": [
    "import networkx as nx\n",
    "import itertools\n",
    "from sympy import binomial\n",
    "from linkages import *\n",
    "\n",
    "def lamans_theorem(G,d):\n",
    "    comparison = laman_comparison(G,d)\n",
    "    if comparison == -1: return -1      # flexible if less than 2n-3 links\n",
    "    subgraphs = get_subgraphs(G,3)\n",
    "    if len(subgraphs) == 1: return 0 if G.number_of_edges() == 3 else -1 # we have only one subgraph\n",
    "    if comparison ==0:                # exactly 2n-3 links, lets check subassemblies\n",
    "        for graph in subgraphs:\n",
    "            if laman_comparison(graph,d)==1: return -1   # flexible if there is one subgraph that has more than nk-3 links\n",
    "        return 0                        # condition 1: has exactly 2n-3 links and every subgraph has at most 2k-3 links\n",
    "    elif comparison == 1:               # more than 2n-3 links, look for a rigid subgraph\n",
    "        for graph in subgraphs:\n",
    "            if lamans_theorem(graph,d) == 0: return 1  # condition 2: has more than 2n-3 links and contains a generically rigid subgraph with 2n-3 links\n",
    "        return -1                       # there is no rigid subgraph with 2n-3, so the graph is flexible\n",
    "    \n",
    "def laman_comparison(G,d):\n",
    "    n = G.number_of_nodes()\n",
    "    e = G.number_of_edges()\n",
    "    res = d*n-sy.binomial(d+1,2)\n",
    "    if e < res :return -1\n",
    "    if e == res:return 0\n",
    "    if e > res :return 1\n",
    "    \n",
    "def get_subgraphs(G,k):\n",
    "    subgraphs = []\n",
    "    for nb_nodes in range(k, G.number_of_nodes()):  # find all subsets of 3 or more neighboring nodes in the graph\n",
    "        for sg in (G.subgraph(selected_nodes)\n",
    "            for selected_nodes in itertools.combinations(G, nb_nodes)): # select all combinations of three nodes from the graph\n",
    "                if nx.is_connected(sg):subgraphs.append(sg) # if the nodes form a connected subgraph, append them to the subgraphs\n",
    "    return subgraphs\n",
    "\n",
    "graph = parallel_4_bar() # also try calling it with jensen_walker() or the braced version of either using (False,True)\n",
    "nx.draw(graph)\n",
    "print(\"graph is flexible\" if lamans_theorem(graph,DIM)==-1 else \"graph is rigid\")\n"
   ]
  },
  {
   "cell_type": "code",
   "execution_count": null,
   "id": "excessive-supplier",
   "metadata": {},
   "outputs": [],
   "source": []
  },
  {
   "cell_type": "code",
   "execution_count": null,
   "id": "numerical-jacket",
   "metadata": {},
   "outputs": [],
   "source": []
  }
 ],
 "metadata": {
  "kernelspec": {
   "display_name": "Python 3",
   "language": "python",
   "name": "python3"
  },
  "language_info": {
   "codemirror_mode": {
    "name": "ipython",
    "version": 3
   },
   "file_extension": ".py",
   "mimetype": "text/x-python",
   "name": "python",
   "nbconvert_exporter": "python",
   "pygments_lexer": "ipython3",
   "version": "3.8.5"
  }
 },
 "nbformat": 4,
 "nbformat_minor": 5
}
