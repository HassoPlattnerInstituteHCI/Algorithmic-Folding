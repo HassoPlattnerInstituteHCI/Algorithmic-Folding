{
 "cells": [
  {
   "cell_type": "code",
   "execution_count": 5,
   "id": "simplified-senator",
   "metadata": {},
   "outputs": [
    {
     "name": "stdout",
     "output_type": "stream",
     "text": [
      "⎡0  0  0  0  0   0   0    0 ⎤\n",
      "⎢                           ⎥\n",
      "⎢0  0  0  0  5   2   0    0 ⎥\n",
      "⎢                           ⎥\n",
      "⎢0  0  0  0  0   0   -5  -10⎥\n",
      "⎢                           ⎥\n",
      "⎢0  0  0  0  -5  2   0    0 ⎥\n",
      "⎢                           ⎥\n",
      "⎢0  0  0  0  0   0   -5  10 ⎥\n",
      "⎢                           ⎥\n",
      "⎣0  0  0  0  0   -8  0    8 ⎦\n",
      "inequalities are unbound--motion possible\n"
     ]
    }
   ],
   "source": [
    "import networkx as nx\n",
    "from scipy.optimize import linprog\n",
    "from sympy import Matrix, pprint, floor, Point, zeros\n",
    "from linkages import *\n",
    "\n",
    "def graph_to_matrix(G, pins={}):\n",
    "    if type(pins) is Point: pins = {pins}\n",
    "    M = Matrix() \n",
    "    for edge in G.edges.data(): # iterates over the data of edges\n",
    "        edge_from, edge_to, edge_att = edge\n",
    "        row = []\n",
    "        t = -1 if edge_att[TYPE] == \"strut\" else 1 \n",
    "        # calculate delta_x and delta_y using edge_from and edge_to, multiply by t\n",
    "        # iterate over vertices (G.nodes)\n",
    "            # extend the row with the values for each vertex \n",
    "            # there are three cases\n",
    "            # 1 the vertex is edge_from (and vertex is not in pins) -- extend the row with [delta_x,delta_y]\n",
    "            # 2 the vertex is edge_to (and vertex is not in pins) -- extend the row with [-delta_x,-delta_y]\n",
    "            # else extend the row with [0,0]\n",
    "        M = Matrix([M,row])\n",
    "        if edge_att[TYPE] == \"bar\": M = Matrix([M,M.row(-1)*-1])\n",
    "    return M\n",
    "\n",
    "def set_edge_type(G,edge,val):\n",
    "    a,b = edge\n",
    "    graph[list(G.nodes)[a]][list(G.nodes)[b]][TYPE] = val\n",
    "    \n",
    "graph = parallel_4_bar(True) \n",
    "set_edge_type(graph,(0,2),\"cable\")\n",
    "set_edge_type(graph,(1,3),\"cable\")\n",
    "\n",
    "nodes = list(graph.nodes)\n",
    "A = graph_to_matrix(graph, {nodes[0], nodes[1]})\n",
    "pprint(A)\n",
    "\n",
    "#expected outcome:\n",
    "#⎡0  0  0  0  0   0   0   0 ⎤\n",
    "#⎢                          ⎥\n",
    "#⎢0  0  0  0  0   0   0   -5⎥\n",
    "#⎢                          ⎥\n",
    "#⎢0  0  0  0  5   5   0   0 ⎥\n",
    "#⎢                          ⎥\n",
    "#⎢0  0  0  0  0   -5  0   0 ⎥\n",
    "#⎢                          ⎥\n",
    "#⎢0  0  0  0  0   0   -5  5 ⎥\n",
    "#⎢                          ⎥\n",
    "#⎣0  0  0  0  -5  0   5   0 ⎦"
   ]
  },
  {
   "cell_type": "code",
   "execution_count": null,
   "id": "otherwise-wrist",
   "metadata": {},
   "outputs": [],
   "source": []
  }
 ],
 "metadata": {
  "kernelspec": {
   "display_name": "Python 3",
   "language": "python",
   "name": "python3"
  },
  "language_info": {
   "codemirror_mode": {
    "name": "ipython",
    "version": 3
   },
   "file_extension": ".py",
   "mimetype": "text/x-python",
   "name": "python",
   "nbconvert_exporter": "python",
   "pygments_lexer": "ipython3",
   "version": "3.8.5"
  }
 },
 "nbformat": 4,
 "nbformat_minor": 5
}
