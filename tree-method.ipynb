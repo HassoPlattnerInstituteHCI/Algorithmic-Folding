{
 "cells": [
  {
   "cell_type": "code",
   "execution_count": 3,
   "id": "stone-aging",
   "metadata": {},
   "outputs": [
    {
     "data": {
      "image/svg+xml": [
       "<?xml version=\"1.0\" encoding=\"UTF-8\"?>\n",
       "<svg xmlns=\"http://www.w3.org/2000/svg\" xmlns:xlink=\"http://www.w3.org/1999/xlink\"\n",
       "     width=\"381.59999999999997\" height=\"360.0\" viewBox=\"0 -36.0 38.16 36.0\">\n",
       "<defs>\n",
       "</defs>\n",
       "<circle cx=\"0.0\" cy=\"-6.0\" r=\"10\" fill=\"#DEB887\" />\n",
       "<circle cx=\"0.0\" cy=\"-36.0\" r=\"10\" fill=\"#DEB887\" />\n",
       "<circle cx=\"19.08\" cy=\"-0.0\" r=\"10\" fill=\"#DEB887\" />\n",
       "<circle cx=\"19.08\" cy=\"-30.0\" r=\"10\" fill=\"#DEB887\" />\n",
       "<circle cx=\"38.16\" cy=\"-6.0\" r=\"10\" fill=\"#DEB887\" />\n",
       "<circle cx=\"38.16\" cy=\"-36.0\" r=\"10\" fill=\"#DEB887\" />\n",
       "<path d=\"M3.230286713,-8.359059932 L3.230286713,-8.359059932 L16.72094007,-3.230286713 L15.84971329,-27.64094007 L2.359059932,-32.76971329 L3.230286713,-8.359059932\" stroke=\"black\" stroke-width=\"0.1\" fill=\"none\" />\n",
       "<path d=\"M19.08,-0.0 L19.08,-0.0 L38.16,-6.0 L38.16,-36.0 L19.08,-30.0 L19.08,-0.0\" stroke=\"black\" stroke-width=\"0.1\" fill=\"none\" />\n",
       "</svg>"
      ],
      "text/plain": [
       "<drawSvg.drawing.Drawing at 0x7f86dfd40940>"
      ]
     },
     "execution_count": 3,
     "metadata": {},
     "output_type": "execute_result"
    }
   ],
   "source": [
    "from sympy import *\n",
    "from sympy.plotting import plot\n",
    "import networkx as nx\n",
    "import drawSvg as draw\n",
    "\n",
    "circle_color = \"#DEB887\"\n",
    "polygon_color = \"black\"\n",
    "line_thickness = 0.1\n",
    "precision = 10\n",
    "    \n",
    "def max_val (points):\n",
    "    x = 0\n",
    "    y = 0\n",
    "    for point in points: \n",
    "        if point.x > x: x = point.x\n",
    "        if point.y > y: y = point.y\n",
    "    return float(x),float(y)\n",
    "def drawCircle(c,d):\n",
    "    d.append(draw.Circle(float(c.center.x),float(c.center.y),c.radius, fill= circle_color))\n",
    "def drawPoly(p,d):\n",
    "    path = draw.Path(stroke=polygon_color, stroke_width=line_thickness, fill='none')\n",
    "    path.M(float(p.vertices[0].x), float(p.vertices[0].y))\n",
    "    [path.L(float(v.x),float(v.y)) for v in p.vertices]\n",
    "    path.L(float(p.vertices[0].x), float(p.vertices[0].y))\n",
    "    d.append(path)\n",
    "def shrink_polygon(polygon,sweep_length):\n",
    "    b = polygon.bisectors(precision)\n",
    "    new_vertices = []\n",
    "    for vertex in polygon.vertices:\n",
    "        new_vertices.append(vertex.translate((b[vertex].direction*sweep_length).x,(b[vertex].direction*sweep_length).y))\n",
    "    return Polygon(*new_vertices)\n",
    "T = nx.Graph()\n",
    "\n",
    "points = Point(0,6), Point(0,36), Point(19.08,0),Point(19.08,30), Point(38.16,6), Point(38.16,36)\n",
    "# TODO: make the size of circles the length in the tree\n",
    "circles = [Circle(point,10) for point in points]\n",
    "\n",
    "\n",
    "#TODO figure out again where the polygons come from\n",
    "lang_polys = [convex_hull(*points[:4]),convex_hull(*points[2:])]\n",
    "\n",
    "original = lang_polys[0]\n",
    "lang_polys[0] = shrink_polygon(lang_polys[0],2)\n",
    "lang_polys[0] = shrink_polygon(lang_polys[0],2)\n",
    "\n",
    "#lang_polys.append(original)\n",
    "\n",
    "w,h = max_val(points)\n",
    "d = draw.Drawing (w,h)\n",
    "for c in circles: drawCircle(c,d) \n",
    "for poly in lang_polys: drawPoly(poly,d)\n",
    "scale = 10\n",
    "d.setRenderSize(w*10,h*10)\n",
    "d"
   ]
  },
  {
   "cell_type": "code",
   "execution_count": null,
   "id": "satisfactory-journalism",
   "metadata": {},
   "outputs": [],
   "source": []
  },
  {
   "cell_type": "code",
   "execution_count": null,
   "id": "hired-protein",
   "metadata": {},
   "outputs": [],
   "source": []
  }
 ],
 "metadata": {
  "kernelspec": {
   "display_name": "Python 3",
   "language": "python",
   "name": "python3"
  },
  "language_info": {
   "codemirror_mode": {
    "name": "ipython",
    "version": 3
   },
   "file_extension": ".py",
   "mimetype": "text/x-python",
   "name": "python",
   "nbconvert_exporter": "python",
   "pygments_lexer": "ipython3",
   "version": "3.8.5"
  }
 },
 "nbformat": 4,
 "nbformat_minor": 5
}
