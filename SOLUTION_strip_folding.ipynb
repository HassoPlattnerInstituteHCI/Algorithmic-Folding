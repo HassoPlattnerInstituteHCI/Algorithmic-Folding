{
 "cells": [
  {
   "cell_type": "code",
   "execution_count": 13,
   "id": "ba8f9b3d",
   "metadata": {},
   "outputs": [],
   "source": [
    "import itertools\n",
    "import math\n",
    "from enum import Enum\n",
    "\n",
    "import numpy as np\n",
    "import drawSvg as draw"
   ]
  },
  {
   "cell_type": "code",
   "execution_count": 14,
   "id": "double-gibraltar",
   "metadata": {},
   "outputs": [],
   "source": [
    "stripwidth = 10\n",
    "\n",
    "def render(strip, stripwidth):\n",
    "    striplength = 0\n",
    "    \n",
    "    for element in strip:\n",
    "        striplength += element.get_length()\n",
    "    \n",
    "    d = draw.Drawing(striplength,stripwidth)\n",
    "    d.append(draw.Rectangle(0, 0, striplength, stripwidth,stroke='red', fill='none'))        \n",
    "    d.saveSvg('strip.svg')\n",
    "    d.rasterize()\n",
    "    return d"
   ]
  },
  {
   "cell_type": "code",
   "execution_count": 15,
   "id": "palestinian-contest",
   "metadata": {},
   "outputs": [
    {
     "data": {
      "image/svg+xml": [
       "<?xml version=\"1.0\" encoding=\"UTF-8\"?>\n",
       "<svg xmlns=\"http://www.w3.org/2000/svg\" xmlns:xlink=\"http://www.w3.org/1999/xlink\"\n",
       "     width=\"100\" height=\"10\" viewBox=\"0 -10 100 10\">\n",
       "<defs>\n",
       "</defs>\n",
       "<rect x=\"0\" y=\"-10\" width=\"100\" height=\"10\" stroke=\"red\" fill=\"none\" />\n",
       "</svg>"
      ],
      "text/plain": [
       "<drawSvg.drawing.Drawing at 0x7fcfccea1670>"
      ]
     },
     "execution_count": 15,
     "metadata": {},
     "output_type": "execute_result"
    }
   ],
   "source": [
    "class Plain:\n",
    "    def __init__(self, length):\n",
    "        self.length = length\n",
    "    def get_length(self,stripwidth=10):\n",
    "        return self.length\n",
    "    \n",
    "    \n",
    "def add_plain(l,strip = []):\n",
    "    strip.append(Plain(l))\n",
    "    \n",
    "strip = []\n",
    "add_plain(100,strip)\n",
    "render(strip, stripwidth)"
   ]
  },
  {
   "cell_type": "code",
   "execution_count": 16,
   "id": "architectural-ownership",
   "metadata": {},
   "outputs": [
    {
     "data": {
      "image/svg+xml": [
       "<?xml version=\"1.0\" encoding=\"UTF-8\"?>\n",
       "<svg xmlns=\"http://www.w3.org/2000/svg\" xmlns:xlink=\"http://www.w3.org/1999/xlink\"\n",
       "     width=\"237.3205080756888\" height=\"10\" viewBox=\"0 -10 237.3205080756888 10\">\n",
       "<defs>\n",
       "</defs>\n",
       "<path d=\"M110.0,0 L100,-10\" stroke=\"red\" fill=\"none\" />\n",
       "<path d=\"M110.0,0 L120.0,-10\" stroke=\"red\" fill=\"none\" />\n",
       "<path d=\"M237.3205080756888,0 L220.0,-10\" stroke=\"blue\" fill=\"none\" />\n",
       "<rect x=\"0\" y=\"-10\" width=\"237.3205080756888\" height=\"10\" stroke=\"red\" fill=\"none\" />\n",
       "</svg>"
      ],
      "text/plain": [
       "<drawSvg.drawing.Drawing at 0x7fcfcce595b0>"
      ]
     },
     "execution_count": 16,
     "metadata": {},
     "output_type": "execute_result"
    }
   ],
   "source": [
    "class Fold:\n",
    "    def __init__(self, mv, angle):\n",
    "        self.mv = mv\n",
    "        self.angle = angle\n",
    "    def get_length(self,stripwidth):\n",
    "        return stripwidth*math.tan(math.radians(90-self.angle))\n",
    "class MV(Enum):\n",
    "    MOUNTAIN=0\n",
    "    VALLEY=1 \n",
    "def add_fold(mv,angle,strip = []):\n",
    "    strip.append(Fold(mv,angle))\n",
    "def render (strip, stripwidth):\n",
    "    striplength=0\n",
    "    for element in strip: striplength += abs(element.get_length(stripwidth))   \n",
    "    d = draw.Drawing(striplength,stripwidth)\n",
    "    x = 0\n",
    "    for element in strip:\n",
    "        if type(element) is Plain:\n",
    "            x +=element.length\n",
    "        if type(element) is Fold:\n",
    "            l = element.get_length(stripwidth)    \n",
    "            x1,x2 = x, x+abs(l) \n",
    "            if l <0: x1,x2 = x2,x1\n",
    "            d.append(draw.Line(x1,0,x2,stripwidth,stroke='red' if element.mv is MV.MOUNTAIN else 'blue', fill='none')) \n",
    "            x+= abs(l)\n",
    "    d.append(draw.Rectangle(0, 0, striplength, stripwidth,stroke='red', fill='none'))        \n",
    "    d.saveSvg('strip.svg')\n",
    "    d.rasterize()\n",
    "    return d\n",
    "\n",
    "add_fold(MV.MOUNTAIN, -45, strip)\n",
    "add_fold(MV.MOUNTAIN, 45, strip)\n",
    "add_plain(100, strip)\n",
    "add_fold(MV.VALLEY, -30,strip)\n",
    "\n",
    "render(strip, stripwidth)"
   ]
  },
  {
   "cell_type": "code",
   "execution_count": 7,
   "id": "postal-suggestion",
   "metadata": {},
   "outputs": [
    {
     "data": {
      "image/svg+xml": [
       "<?xml version=\"1.0\" encoding=\"UTF-8\"?>\n",
       "<svg xmlns=\"http://www.w3.org/2000/svg\" xmlns:xlink=\"http://www.w3.org/1999/xlink\"\n",
       "     width=\"257.3205080756888\" height=\"10\" viewBox=\"0 -10 257.3205080756888 10\">\n",
       "<defs>\n",
       "</defs>\n",
       "<path d=\"M110.0,0 L100,-10\" stroke=\"red\" fill=\"none\" />\n",
       "<path d=\"M110.0,0 L120.0,-10\" stroke=\"red\" fill=\"none\" />\n",
       "<path d=\"M237.3205080756888,0 L220.0,-10\" stroke=\"blue\" fill=\"none\" />\n",
       "<path d=\"M237.3205080756888,0 L247.3205080756888,-10\" stroke=\"red\" fill=\"none\" />\n",
       "<path d=\"M257.3205080756888,0 L247.3205080756888,-10\" stroke=\"red\" fill=\"none\" />\n",
       "<rect x=\"0\" y=\"-10\" width=\"257.3205080756888\" height=\"10\" stroke=\"red\" fill=\"none\" />\n",
       "</svg>"
      ],
      "text/plain": [
       "<drawSvg.drawing.Drawing at 0x7fcfcce5b610>"
      ]
     },
     "execution_count": 7,
     "metadata": {},
     "output_type": "execute_result"
    }
   ],
   "source": [
    "def add_corner_gadget (mv, strip=[]):\n",
    "    add_fold(mv,45,strip)\n",
    "    add_fold(mv,-45,strip)\n",
    "add_corner_gadget(MV.MOUNTAIN, strip)\n",
    "render (strip, stripwidth)"
   ]
  },
  {
   "cell_type": "code",
   "execution_count": 17,
   "id": "expanded-placement",
   "metadata": {},
   "outputs": [
    {
     "data": {
      "image/svg+xml": [
       "<?xml version=\"1.0\" encoding=\"UTF-8\"?>\n",
       "<svg xmlns=\"http://www.w3.org/2000/svg\" xmlns:xlink=\"http://www.w3.org/1999/xlink\"\n",
       "     width=\"377.3205080756888\" height=\"10\" viewBox=\"0 -10 377.3205080756888 10\">\n",
       "<defs>\n",
       "</defs>\n",
       "<path d=\"M110.0,0 L100,-10\" stroke=\"red\" fill=\"none\" />\n",
       "<path d=\"M110.0,0 L120.0,-10\" stroke=\"red\" fill=\"none\" />\n",
       "<path d=\"M237.3205080756888,0 L220.0,-10\" stroke=\"blue\" fill=\"none\" />\n",
       "<path d=\"M237.3205080756888,0 L247.3205080756888,-10\" stroke=\"red\" fill=\"none\" />\n",
       "<path d=\"M257.3205080756888,0 L247.3205080756888,-10\" stroke=\"red\" fill=\"none\" />\n",
       "<path d=\"M367.3205080756888,0 L357.3205080756888,-10\" stroke=\"red\" fill=\"none\" />\n",
       "<path d=\"M367.3205080756888,0 L377.3205080756888,-10\" stroke=\"red\" fill=\"none\" />\n",
       "<rect x=\"0\" y=\"-10\" width=\"377.3205080756888\" height=\"10\" stroke=\"red\" fill=\"none\" />\n",
       "</svg>"
      ],
      "text/plain": [
       "<drawSvg.drawing.Drawing at 0x7fcf8824b130>"
      ]
     },
     "execution_count": 17,
     "metadata": {},
     "output_type": "execute_result"
    }
   ],
   "source": [
    "class Direction(Enum):\n",
    "    L=-1\n",
    "    R=1\n",
    "    \n",
    "\n",
    "def add_corner_gadget (mv, d, strip=[]):\n",
    "    add_fold(mv,45*d.value,strip)\n",
    "    add_fold(mv,-45*d.value,strip)\n",
    "\n",
    "add_corner_gadget(MV.MOUNTAIN,Direction.R,strip)\n",
    "add_plain(100,strip)\n",
    "add_corner_gadget(MV.MOUNTAIN,Direction.L, strip)\n",
    "render (strip,stripwidth)"
   ]
  },
  {
   "cell_type": "code",
   "execution_count": 18,
   "id": "assisted-wallet",
   "metadata": {},
   "outputs": [],
   "source": [
    "# returns the distance between two points\n",
    "def get_distance(a,b): return np.linalg.norm(np.array(a) - np.array(b))\n",
    "\n",
    "# returns the angle given these sides\n",
    "def cosinelaw(adj_side1,adj_side2,opp_side): return math.acos((adj_side1 ** 2 + adj_side2 ** 2 - opp_side **2) / (2*adj_side1 * adj_side2))\n",
    "\n",
    "# returns the length of the over-extended strip\n",
    "def corner_extension(gamma,beta,direction,strip_width): return math.tan(0.5*math.pi - (gamma if direction is Direction.L else beta))*strip_width\n",
    "\n",
    "# calculates all angles given a triangle with vertices a,b,c\n",
    "def calculate_angles(a, b, c):\n",
    "    ab = get_distance(a,b)\n",
    "    bc = get_distance(b,c)\n",
    "    ac = get_distance(a,c)\n",
    "    alpha = cosinelaw(ab,ac,bc)\n",
    "    beta = cosinelaw(ab,bc,ac)\n",
    "    gamma = cosinelaw(ac,bc,ab)\n",
    "    return alpha,beta,gamma\n",
    "\n",
    "\n",
    "def add_triangle_gadget(mv, strip_width, t, strip=[]):\n",
    "    a, b, c = t\n",
    "    alpha,beta,gamma = calculate_angles(a,b,c)\n",
    "    height = get_distance(a,b) * math.sin(beta)\n",
    "    alternater = itertools.cycle([Direction.R, Direction.L])\n",
    "    y=0\n",
    "    while(y < height):\n",
    "        direction = next(alternater)\n",
    "        add_plain((get_distance(b,c)*y)/height + corner_extension(gamma,beta,direction,strip_width), strip)\n",
    "        add_corner_gadget(mv,direction, strip)\n",
    "        y+=strip_width"
   ]
  },
  {
   "cell_type": "code",
   "execution_count": 19,
   "id": "08f5f401",
   "metadata": {},
   "outputs": [
    {
     "data": {
      "image/svg+xml": [
       "<?xml version=\"1.0\" encoding=\"UTF-8\"?>\n",
       "<svg xmlns=\"http://www.w3.org/2000/svg\" xmlns:xlink=\"http://www.w3.org/1999/xlink\"\n",
       "     width=\"2400.0\" height=\"10\" viewBox=\"0 -10 2400.0 10\">\n",
       "<defs>\n",
       "</defs>\n",
       "<path d=\"M0.0,0 L9.999999999999998,-10\" stroke=\"red\" fill=\"none\" />\n",
       "<path d=\"M20.0,0 L9.999999999999998,-10\" stroke=\"red\" fill=\"none\" />\n",
       "<path d=\"M50.0,0 L40.0,-10\" stroke=\"red\" fill=\"none\" />\n",
       "<path d=\"M50.0,0 L60.0,-10\" stroke=\"red\" fill=\"none\" />\n",
       "<path d=\"M80.0,0 L90.0,-10\" stroke=\"red\" fill=\"none\" />\n",
       "<path d=\"M100.0,0 L90.0,-10\" stroke=\"red\" fill=\"none\" />\n",
       "<path d=\"M150.0,0 L140.0,-10\" stroke=\"red\" fill=\"none\" />\n",
       "<path d=\"M150.0,0 L160.0,-10\" stroke=\"red\" fill=\"none\" />\n",
       "<path d=\"M200.0,0 L210.0,-10\" stroke=\"red\" fill=\"none\" />\n",
       "<path d=\"M220.0,0 L210.0,-10\" stroke=\"red\" fill=\"none\" />\n",
       "<path d=\"M290.0,0 L280.0,-10\" stroke=\"red\" fill=\"none\" />\n",
       "<path d=\"M290.0,0 L300.0,-10\" stroke=\"red\" fill=\"none\" />\n",
       "<path d=\"M360.0,0 L370.0,-10\" stroke=\"red\" fill=\"none\" />\n",
       "<path d=\"M380.0,0 L370.0,-10\" stroke=\"red\" fill=\"none\" />\n",
       "<path d=\"M470.0,0 L460.0,-10\" stroke=\"red\" fill=\"none\" />\n",
       "<path d=\"M470.0,0 L480.0,-10\" stroke=\"red\" fill=\"none\" />\n",
       "<path d=\"M560.0,0 L570.0,-10\" stroke=\"red\" fill=\"none\" />\n",
       "<path d=\"M580.0,0 L570.0,-10\" stroke=\"red\" fill=\"none\" />\n",
       "<path d=\"M690.0,0 L680.0,-10\" stroke=\"red\" fill=\"none\" />\n",
       "<path d=\"M690.0,0 L700.0,-10\" stroke=\"red\" fill=\"none\" />\n",
       "<path d=\"M800.0,0 L810.0,-10\" stroke=\"red\" fill=\"none\" />\n",
       "<path d=\"M820.0,0 L810.0,-10\" stroke=\"red\" fill=\"none\" />\n",
       "<path d=\"M950.0,0 L940.0,-10\" stroke=\"red\" fill=\"none\" />\n",
       "<path d=\"M950.0,0 L960.0,-10\" stroke=\"red\" fill=\"none\" />\n",
       "<path d=\"M1080.0,0 L1090.0,-10\" stroke=\"red\" fill=\"none\" />\n",
       "<path d=\"M1100.0,0 L1090.0,-10\" stroke=\"red\" fill=\"none\" />\n",
       "<path d=\"M1250.0,0 L1240.0,-10\" stroke=\"red\" fill=\"none\" />\n",
       "<path d=\"M1250.0,0 L1260.0,-10\" stroke=\"red\" fill=\"none\" />\n",
       "<path d=\"M1400.0,0 L1410.0,-10\" stroke=\"red\" fill=\"none\" />\n",
       "<path d=\"M1420.0,0 L1410.0,-10\" stroke=\"red\" fill=\"none\" />\n",
       "<path d=\"M1590.0,0 L1580.0,-10\" stroke=\"red\" fill=\"none\" />\n",
       "<path d=\"M1590.0,0 L1600.0,-10\" stroke=\"red\" fill=\"none\" />\n",
       "<path d=\"M1760.0,0 L1770.0,-10\" stroke=\"red\" fill=\"none\" />\n",
       "<path d=\"M1780.0,0 L1770.0,-10\" stroke=\"red\" fill=\"none\" />\n",
       "<path d=\"M1970.0,0 L1960.0,-10\" stroke=\"red\" fill=\"none\" />\n",
       "<path d=\"M1970.0,0 L1980.0,-10\" stroke=\"red\" fill=\"none\" />\n",
       "<path d=\"M2160.0,0 L2170.0,-10\" stroke=\"red\" fill=\"none\" />\n",
       "<path d=\"M2180.0,0 L2170.0,-10\" stroke=\"red\" fill=\"none\" />\n",
       "<path d=\"M2390.0,0 L2380.0,-10\" stroke=\"red\" fill=\"none\" />\n",
       "<path d=\"M2390.0,0 L2400.0,-10\" stroke=\"red\" fill=\"none\" />\n",
       "<rect x=\"0\" y=\"-10\" width=\"2400.0\" height=\"10\" stroke=\"red\" fill=\"none\" />\n",
       "</svg>"
      ],
      "text/plain": [
       "<drawSvg.drawing.Drawing at 0x7fcfcce5baf0>"
      ]
     },
     "execution_count": 19,
     "metadata": {},
     "output_type": "execute_result"
    }
   ],
   "source": [
    "stripwidth = 10\n",
    "strip = []\n",
    "add_triangle_gadget(MV.MOUNTAIN,stripwidth,[[50,-20,200],[50,-20,0],[50,180,0]], strip) \n",
    "render(strip, stripwidth)"
   ]
  },
  {
   "cell_type": "code",
   "execution_count": 20,
   "id": "sharp-identity",
   "metadata": {},
   "outputs": [
    {
     "data": {
      "image/svg+xml": [
       "<?xml version=\"1.0\" encoding=\"UTF-8\"?>\n",
       "<svg xmlns=\"http://www.w3.org/2000/svg\" xmlns:xlink=\"http://www.w3.org/1999/xlink\"\n",
       "     width=\"1248.0\" height=\"4\" viewBox=\"0 -4 1248.0 4\">\n",
       "<defs>\n",
       "</defs>\n",
       "<path d=\"M-8.881784197001252e-16,0 L3.9999999999999987,-4\" stroke=\"red\" fill=\"none\" />\n",
       "<path d=\"M8.0,0 L3.9999999999999987,-4\" stroke=\"red\" fill=\"none\" />\n",
       "<path d=\"M20.0,0 L15.999999999999998,-4\" stroke=\"red\" fill=\"none\" />\n",
       "<path d=\"M20.0,0 L24.0,-4\" stroke=\"red\" fill=\"none\" />\n",
       "<path d=\"M32.0,0 L36.0,-4\" stroke=\"red\" fill=\"none\" />\n",
       "<path d=\"M40.0,0 L36.0,-4\" stroke=\"red\" fill=\"none\" />\n",
       "<path d=\"M60.0,0 L56.0,-4\" stroke=\"red\" fill=\"none\" />\n",
       "<path d=\"M60.0,0 L64.0,-4\" stroke=\"red\" fill=\"none\" />\n",
       "<path d=\"M80.0,0 L84.0,-4\" stroke=\"red\" fill=\"none\" />\n",
       "<path d=\"M88.0,0 L84.0,-4\" stroke=\"red\" fill=\"none\" />\n",
       "<path d=\"M92.0,0 L96.0,-4\" stroke=\"blue\" fill=\"none\" />\n",
       "<path d=\"M100.0,0 L96.0,-4\" stroke=\"blue\" fill=\"none\" />\n",
       "<path d=\"M108.0,0 L104.0,-4\" stroke=\"blue\" fill=\"none\" />\n",
       "<path d=\"M108.0,0 L112.0,-4\" stroke=\"blue\" fill=\"none\" />\n",
       "<path d=\"M124.0,0 L128.0,-4\" stroke=\"blue\" fill=\"none\" />\n",
       "<path d=\"M132.0,0 L128.0,-4\" stroke=\"blue\" fill=\"none\" />\n",
       "<path d=\"M148.0,0 L144.0,-4\" stroke=\"blue\" fill=\"none\" />\n",
       "<path d=\"M148.0,0 L152.0,-4\" stroke=\"blue\" fill=\"none\" />\n",
       "<path d=\"M172.0,0 L176.0,-4\" stroke=\"blue\" fill=\"none\" />\n",
       "<path d=\"M180.0,0 L176.0,-4\" stroke=\"blue\" fill=\"none\" />\n",
       "<path d=\"M204.0,0 L200.0,-4\" stroke=\"blue\" fill=\"none\" />\n",
       "<path d=\"M204.0,0 L208.0,-4\" stroke=\"blue\" fill=\"none\" />\n",
       "<path d=\"M208.0,0 L212.0,-4\" stroke=\"red\" fill=\"none\" />\n",
       "<path d=\"M216.0,0 L212.0,-4\" stroke=\"red\" fill=\"none\" />\n",
       "<path d=\"M228.0,0 L224.0,-4\" stroke=\"red\" fill=\"none\" />\n",
       "<path d=\"M228.0,0 L232.0,-4\" stroke=\"red\" fill=\"none\" />\n",
       "<path d=\"M240.0,0 L244.0,-4\" stroke=\"red\" fill=\"none\" />\n",
       "<path d=\"M248.0,0 L244.0,-4\" stroke=\"red\" fill=\"none\" />\n",
       "<path d=\"M268.0,0 L264.0,-4\" stroke=\"red\" fill=\"none\" />\n",
       "<path d=\"M268.0,0 L272.0,-4\" stroke=\"red\" fill=\"none\" />\n",
       "<path d=\"M288.0,0 L292.0,-4\" stroke=\"red\" fill=\"none\" />\n",
       "<path d=\"M296.0,0 L292.0,-4\" stroke=\"red\" fill=\"none\" />\n",
       "<path d=\"M300.0,0 L304.0,-4\" stroke=\"blue\" fill=\"none\" />\n",
       "<path d=\"M308.0,0 L304.0,-4\" stroke=\"blue\" fill=\"none\" />\n",
       "<path d=\"M316.0,0 L312.0,-4\" stroke=\"blue\" fill=\"none\" />\n",
       "<path d=\"M316.0,0 L320.0,-4\" stroke=\"blue\" fill=\"none\" />\n",
       "<path d=\"M332.0,0 L336.0,-4\" stroke=\"blue\" fill=\"none\" />\n",
       "<path d=\"M340.0,0 L336.0,-4\" stroke=\"blue\" fill=\"none\" />\n",
       "<path d=\"M356.0,0 L352.0,-4\" stroke=\"blue\" fill=\"none\" />\n",
       "<path d=\"M356.0,0 L360.0,-4\" stroke=\"blue\" fill=\"none\" />\n",
       "<path d=\"M380.0,0 L384.0,-4\" stroke=\"blue\" fill=\"none\" />\n",
       "<path d=\"M388.0,0 L384.0,-4\" stroke=\"blue\" fill=\"none\" />\n",
       "<path d=\"M412.0,0 L408.0,-4\" stroke=\"blue\" fill=\"none\" />\n",
       "<path d=\"M412.0,0 L416.0,-4\" stroke=\"blue\" fill=\"none\" />\n",
       "<path d=\"M416.0,0 L420.0,-4\" stroke=\"red\" fill=\"none\" />\n",
       "<path d=\"M424.0,0 L420.0,-4\" stroke=\"red\" fill=\"none\" />\n",
       "<path d=\"M436.0,0 L432.0,-4\" stroke=\"red\" fill=\"none\" />\n",
       "<path d=\"M436.0,0 L440.0,-4\" stroke=\"red\" fill=\"none\" />\n",
       "<path d=\"M448.0,0 L452.0,-4\" stroke=\"red\" fill=\"none\" />\n",
       "<path d=\"M456.0,0 L452.0,-4\" stroke=\"red\" fill=\"none\" />\n",
       "<path d=\"M476.0,0 L472.0,-4\" stroke=\"red\" fill=\"none\" />\n",
       "<path d=\"M476.0,0 L480.0,-4\" stroke=\"red\" fill=\"none\" />\n",
       "<path d=\"M496.0,0 L500.0,-4\" stroke=\"red\" fill=\"none\" />\n",
       "<path d=\"M504.0,0 L500.0,-4\" stroke=\"red\" fill=\"none\" />\n",
       "<path d=\"M508.0,0 L512.0,-4\" stroke=\"blue\" fill=\"none\" />\n",
       "<path d=\"M516.0,0 L512.0,-4\" stroke=\"blue\" fill=\"none\" />\n",
       "<path d=\"M524.0,0 L520.0,-4\" stroke=\"blue\" fill=\"none\" />\n",
       "<path d=\"M524.0,0 L528.0,-4\" stroke=\"blue\" fill=\"none\" />\n",
       "<path d=\"M540.0,0 L544.0,-4\" stroke=\"blue\" fill=\"none\" />\n",
       "<path d=\"M548.0,0 L544.0,-4\" stroke=\"blue\" fill=\"none\" />\n",
       "<path d=\"M564.0,0 L560.0,-4\" stroke=\"blue\" fill=\"none\" />\n",
       "<path d=\"M564.0,0 L568.0,-4\" stroke=\"blue\" fill=\"none\" />\n",
       "<path d=\"M588.0,0 L592.0,-4\" stroke=\"blue\" fill=\"none\" />\n",
       "<path d=\"M596.0,0 L592.0,-4\" stroke=\"blue\" fill=\"none\" />\n",
       "<path d=\"M620.0,0 L616.0,-4\" stroke=\"blue\" fill=\"none\" />\n",
       "<path d=\"M620.0,0 L624.0,-4\" stroke=\"blue\" fill=\"none\" />\n",
       "<path d=\"M624.0,0 L628.0,-4\" stroke=\"red\" fill=\"none\" />\n",
       "<path d=\"M632.0,0 L628.0,-4\" stroke=\"red\" fill=\"none\" />\n",
       "<path d=\"M644.0,0 L640.0,-4\" stroke=\"red\" fill=\"none\" />\n",
       "<path d=\"M644.0,0 L648.0,-4\" stroke=\"red\" fill=\"none\" />\n",
       "<path d=\"M656.0,0 L660.0,-4\" stroke=\"red\" fill=\"none\" />\n",
       "<path d=\"M664.0,0 L660.0,-4\" stroke=\"red\" fill=\"none\" />\n",
       "<path d=\"M684.0,0 L680.0,-4\" stroke=\"red\" fill=\"none\" />\n",
       "<path d=\"M684.0,0 L688.0,-4\" stroke=\"red\" fill=\"none\" />\n",
       "<path d=\"M704.0,0 L708.0,-4\" stroke=\"red\" fill=\"none\" />\n",
       "<path d=\"M712.0,0 L708.0,-4\" stroke=\"red\" fill=\"none\" />\n",
       "<path d=\"M716.0,0 L720.0,-4\" stroke=\"blue\" fill=\"none\" />\n",
       "<path d=\"M724.0,0 L720.0,-4\" stroke=\"blue\" fill=\"none\" />\n",
       "<path d=\"M732.0,0 L728.0,-4\" stroke=\"blue\" fill=\"none\" />\n",
       "<path d=\"M732.0,0 L736.0,-4\" stroke=\"blue\" fill=\"none\" />\n",
       "<path d=\"M748.0,0 L752.0,-4\" stroke=\"blue\" fill=\"none\" />\n",
       "<path d=\"M756.0,0 L752.0,-4\" stroke=\"blue\" fill=\"none\" />\n",
       "<path d=\"M772.0,0 L768.0,-4\" stroke=\"blue\" fill=\"none\" />\n",
       "<path d=\"M772.0,0 L776.0,-4\" stroke=\"blue\" fill=\"none\" />\n",
       "<path d=\"M796.0,0 L800.0,-4\" stroke=\"blue\" fill=\"none\" />\n",
       "<path d=\"M804.0,0 L800.0,-4\" stroke=\"blue\" fill=\"none\" />\n",
       "<path d=\"M828.0,0 L824.0,-4\" stroke=\"blue\" fill=\"none\" />\n",
       "<path d=\"M828.0,0 L832.0,-4\" stroke=\"blue\" fill=\"none\" />\n",
       "<path d=\"M832.0,0 L836.0,-4\" stroke=\"red\" fill=\"none\" />\n",
       "<path d=\"M840.0,0 L836.0,-4\" stroke=\"red\" fill=\"none\" />\n",
       "<path d=\"M852.0,0 L848.0,-4\" stroke=\"red\" fill=\"none\" />\n",
       "<path d=\"M852.0,0 L856.0,-4\" stroke=\"red\" fill=\"none\" />\n",
       "<path d=\"M864.0,0 L868.0,-4\" stroke=\"red\" fill=\"none\" />\n",
       "<path d=\"M872.0,0 L868.0,-4\" stroke=\"red\" fill=\"none\" />\n",
       "<path d=\"M892.0,0 L888.0,-4\" stroke=\"red\" fill=\"none\" />\n",
       "<path d=\"M892.0,0 L896.0,-4\" stroke=\"red\" fill=\"none\" />\n",
       "<path d=\"M912.0,0 L916.0,-4\" stroke=\"red\" fill=\"none\" />\n",
       "<path d=\"M920.0,0 L916.0,-4\" stroke=\"red\" fill=\"none\" />\n",
       "<path d=\"M924.0,0 L928.0,-4\" stroke=\"blue\" fill=\"none\" />\n",
       "<path d=\"M932.0,0 L928.0,-4\" stroke=\"blue\" fill=\"none\" />\n",
       "<path d=\"M940.0,0 L936.0,-4\" stroke=\"blue\" fill=\"none\" />\n",
       "<path d=\"M940.0,0 L944.0,-4\" stroke=\"blue\" fill=\"none\" />\n",
       "<path d=\"M956.0,0 L960.0,-4\" stroke=\"blue\" fill=\"none\" />\n",
       "<path d=\"M964.0,0 L960.0,-4\" stroke=\"blue\" fill=\"none\" />\n",
       "<path d=\"M980.0,0 L976.0,-4\" stroke=\"blue\" fill=\"none\" />\n",
       "<path d=\"M980.0,0 L984.0,-4\" stroke=\"blue\" fill=\"none\" />\n",
       "<path d=\"M1004.0,0 L1008.0,-4\" stroke=\"blue\" fill=\"none\" />\n",
       "<path d=\"M1012.0,0 L1008.0,-4\" stroke=\"blue\" fill=\"none\" />\n",
       "<path d=\"M1036.0,0 L1032.0,-4\" stroke=\"blue\" fill=\"none\" />\n",
       "<path d=\"M1036.0,0 L1040.0,-4\" stroke=\"blue\" fill=\"none\" />\n",
       "<path d=\"M1040.0,0 L1044.0,-4\" stroke=\"red\" fill=\"none\" />\n",
       "<path d=\"M1048.0,0 L1044.0,-4\" stroke=\"red\" fill=\"none\" />\n",
       "<path d=\"M1060.0,0 L1056.0,-4\" stroke=\"red\" fill=\"none\" />\n",
       "<path d=\"M1060.0,0 L1064.0,-4\" stroke=\"red\" fill=\"none\" />\n",
       "<path d=\"M1072.0,0 L1076.0,-4\" stroke=\"red\" fill=\"none\" />\n",
       "<path d=\"M1080.0,0 L1076.0,-4\" stroke=\"red\" fill=\"none\" />\n",
       "<path d=\"M1100.0,0 L1096.0,-4\" stroke=\"red\" fill=\"none\" />\n",
       "<path d=\"M1100.0,0 L1104.0,-4\" stroke=\"red\" fill=\"none\" />\n",
       "<path d=\"M1120.0,0 L1124.0,-4\" stroke=\"red\" fill=\"none\" />\n",
       "<path d=\"M1128.0,0 L1124.0,-4\" stroke=\"red\" fill=\"none\" />\n",
       "<path d=\"M1132.0,0 L1136.0,-4\" stroke=\"blue\" fill=\"none\" />\n",
       "<path d=\"M1140.0,0 L1136.0,-4\" stroke=\"blue\" fill=\"none\" />\n",
       "<path d=\"M1148.0,0 L1144.0,-4\" stroke=\"blue\" fill=\"none\" />\n",
       "<path d=\"M1148.0,0 L1152.0,-4\" stroke=\"blue\" fill=\"none\" />\n",
       "<path d=\"M1164.0,0 L1168.0,-4\" stroke=\"blue\" fill=\"none\" />\n",
       "<path d=\"M1172.0,0 L1168.0,-4\" stroke=\"blue\" fill=\"none\" />\n",
       "<path d=\"M1188.0,0 L1184.0,-4\" stroke=\"blue\" fill=\"none\" />\n",
       "<path d=\"M1188.0,0 L1192.0,-4\" stroke=\"blue\" fill=\"none\" />\n",
       "<path d=\"M1212.0,0 L1216.0,-4\" stroke=\"blue\" fill=\"none\" />\n",
       "<path d=\"M1220.0,0 L1216.0,-4\" stroke=\"blue\" fill=\"none\" />\n",
       "<path d=\"M1244.0,0 L1240.0,-4\" stroke=\"blue\" fill=\"none\" />\n",
       "<path d=\"M1244.0,0 L1248.0,-4\" stroke=\"blue\" fill=\"none\" />\n",
       "<rect x=\"0\" y=\"-4\" width=\"1248.0\" height=\"4\" stroke=\"red\" fill=\"none\" />\n",
       "</svg>"
      ],
      "text/plain": [
       "<drawSvg.drawing.Drawing at 0x7fcf8824b460>"
      ]
     },
     "execution_count": 20,
     "metadata": {},
     "output_type": "execute_result"
    }
   ],
   "source": [
    "import igl\n",
    "from meshplot import plot\n",
    "\n",
    "# ligigl naming convention ahead:\n",
    "# v: array of vertex coordinates\n",
    "# f: array of faces (defined by the vertex ids in clockwise order)\n",
    "v, f = igl.read_triangle_mesh(\"cube.stl\")\n",
    "\n",
    "stripwidth = 4\n",
    "strip = []\n",
    "for i, face in enumerate(f):\n",
    "    mountain_valley_flag = MV.MOUNTAIN if (i%2 == 0) else MV.VALLEY\n",
    "    face_coordinate_list = [v[vertex_id] for vertex_id in face]\n",
    "    add_triangle_gadget(mountain_valley_flag, stripwidth, face_coordinate_list, strip)\n",
    "\n",
    "render(strip, stripwidth)"
   ]
  }
 ],
 "metadata": {
  "@webio": {
   "lastCommId": null,
   "lastKernelId": null
  },
  "kernelspec": {
   "display_name": "conda_af",
   "language": "python",
   "name": "conda_af"
  },
  "language_info": {
   "codemirror_mode": {
    "name": "ipython",
    "version": 3
   },
   "file_extension": ".py",
   "mimetype": "text/x-python",
   "name": "python",
   "nbconvert_exporter": "python",
   "pygments_lexer": "ipython3",
   "version": "3.9.10"
  }
 },
 "nbformat": 4,
 "nbformat_minor": 5
}
