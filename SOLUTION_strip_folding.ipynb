{
 "cells": [
  {
   "cell_type": "code",
   "execution_count": 10,
   "id": "gorgeous-application",
   "metadata": {},
   "outputs": [],
   "source": [
    "import drawSvg as draw\n",
    "from enum import Enum\n",
    "import math\n",
    "stripwidth = 10\n",
    "def render (strip, stripwidth):\n",
    "    striplength = 0\n",
    "    for element in strip:\n",
    "        striplength += element.get_length()\n",
    "    d = draw.Drawing(striplength,stripwidth)\n",
    "    d.append(draw.Rectangle(0, 0, striplength, stripwidth,stroke='red', fill='none'))        \n",
    "    d.saveSvg('strip.svg')\n",
    "    d.rasterize()\n",
    "    return d"
   ]
  },
  {
   "cell_type": "code",
   "execution_count": 11,
   "id": "large-liver",
   "metadata": {},
   "outputs": [
    {
     "data": {
      "image/svg+xml": [
       "<?xml version=\"1.0\" encoding=\"UTF-8\"?>\n",
       "<svg xmlns=\"http://www.w3.org/2000/svg\" xmlns:xlink=\"http://www.w3.org/1999/xlink\"\n",
       "     width=\"100\" height=\"10\" viewBox=\"0 -10 100 10\">\n",
       "<defs>\n",
       "</defs>\n",
       "<rect x=\"0\" y=\"-10\" width=\"100\" height=\"10\" stroke=\"red\" fill=\"none\" />\n",
       "</svg>"
      ],
      "text/plain": [
       "<drawSvg.drawing.Drawing at 0x7fc810bc9c10>"
      ]
     },
     "execution_count": 11,
     "metadata": {},
     "output_type": "execute_result"
    }
   ],
   "source": [
    "class Plain:\n",
    "    def __init__(self, length):\n",
    "        self.length = length\n",
    "    def get_length(self,stripwidth=10):\n",
    "        return self.length\n",
    "def add_plain(l,strip = []):\n",
    "    strip.append(Plain(l))\n",
    "strip = []\n",
    "add_plain(100,strip)\n",
    "render (strip, stripwidth)"
   ]
  },
  {
   "cell_type": "code",
   "execution_count": 12,
   "id": "ideal-rental",
   "metadata": {},
   "outputs": [
    {
     "data": {
      "image/svg+xml": [
       "<?xml version=\"1.0\" encoding=\"UTF-8\"?>\n",
       "<svg xmlns=\"http://www.w3.org/2000/svg\" xmlns:xlink=\"http://www.w3.org/1999/xlink\"\n",
       "     width=\"237.3205080756888\" height=\"10\" viewBox=\"0 -10 237.3205080756888 10\">\n",
       "<defs>\n",
       "</defs>\n",
       "<path d=\"M110.0,0 L100,-10\" stroke=\"red\" fill=\"none\" />\n",
       "<path d=\"M110.0,0 L120.0,-10\" stroke=\"red\" fill=\"none\" />\n",
       "<path d=\"M237.3205080756888,0 L220.0,-10\" stroke=\"blue\" fill=\"none\" />\n",
       "<rect x=\"0\" y=\"-10\" width=\"237.3205080756888\" height=\"10\" stroke=\"red\" fill=\"none\" />\n",
       "</svg>"
      ],
      "text/plain": [
       "<drawSvg.drawing.Drawing at 0x7fc810c69340>"
      ]
     },
     "execution_count": 12,
     "metadata": {},
     "output_type": "execute_result"
    }
   ],
   "source": [
    "class Fold:\n",
    "    def __init__(self, mv, angle):\n",
    "        self.mv = mv\n",
    "        self.angle = angle\n",
    "    def get_length(self,stripwidth):\n",
    "        return stripwidth*math.tan(math.radians(90-self.angle))\n",
    "class MV(Enum):\n",
    "    MOUNTAIN=0\n",
    "    VALLEY=1 \n",
    "def add_fold(mv,angle,strip = []):\n",
    "    strip.append(Fold(mv,angle))\n",
    "def render (strip, stripwidth):\n",
    "    striplength=0\n",
    "    for element in strip: striplength += abs(element.get_length(stripwidth))   \n",
    "    d = draw.Drawing(striplength,stripwidth)\n",
    "    x = 0\n",
    "    for element in strip:\n",
    "        if type(element) is Plain:\n",
    "            x +=element.length\n",
    "        if type(element) is Fold:\n",
    "            l = element.get_length(stripwidth)    \n",
    "            x1,x2 = x, x+abs(l) \n",
    "            if l <0: x1,x2 = x2,x1\n",
    "            d.append(draw.Line(x1,0,x2,stripwidth,stroke='red' if element.mv is MV.MOUNTAIN else 'blue', fill='none')) \n",
    "            x+= abs(l)\n",
    "    d.append(draw.Rectangle(0, 0, striplength, stripwidth,stroke='red', fill='none'))        \n",
    "    d.saveSvg('strip.svg')\n",
    "    d.rasterize()\n",
    "    return d\n",
    "\n",
    "add_fold(MV.MOUNTAIN, -45, strip)\n",
    "add_fold(MV.MOUNTAIN, 45, strip)\n",
    "add_plain(100, strip)\n",
    "add_fold(MV.VALLEY, -30,strip)\n",
    "\n",
    "render (strip, stripwidth)"
   ]
  },
  {
   "cell_type": "code",
   "execution_count": 13,
   "id": "missing-romance",
   "metadata": {},
   "outputs": [
    {
     "data": {
      "image/svg+xml": [
       "<?xml version=\"1.0\" encoding=\"UTF-8\"?>\n",
       "<svg xmlns=\"http://www.w3.org/2000/svg\" xmlns:xlink=\"http://www.w3.org/1999/xlink\"\n",
       "     width=\"257.3205080756888\" height=\"10\" viewBox=\"0 -10 257.3205080756888 10\">\n",
       "<defs>\n",
       "</defs>\n",
       "<path d=\"M110.0,0 L100,-10\" stroke=\"red\" fill=\"none\" />\n",
       "<path d=\"M110.0,0 L120.0,-10\" stroke=\"red\" fill=\"none\" />\n",
       "<path d=\"M237.3205080756888,0 L220.0,-10\" stroke=\"blue\" fill=\"none\" />\n",
       "<path d=\"M237.3205080756888,0 L247.3205080756888,-10\" stroke=\"red\" fill=\"none\" />\n",
       "<path d=\"M257.3205080756888,0 L247.3205080756888,-10\" stroke=\"red\" fill=\"none\" />\n",
       "<rect x=\"0\" y=\"-10\" width=\"257.3205080756888\" height=\"10\" stroke=\"red\" fill=\"none\" />\n",
       "</svg>"
      ],
      "text/plain": [
       "<drawSvg.drawing.Drawing at 0x7fc810be0af0>"
      ]
     },
     "execution_count": 13,
     "metadata": {},
     "output_type": "execute_result"
    }
   ],
   "source": [
    "def add_corner_gadget (mv, strip=[]):\n",
    "    add_fold(mv,45,strip)\n",
    "    add_fold(mv,-45,strip)\n",
    "add_corner_gadget(MV.MOUNTAIN, strip)\n",
    "render (strip, stripwidth)"
   ]
  },
  {
   "cell_type": "code",
   "execution_count": 14,
   "id": "concerned-spirit",
   "metadata": {},
   "outputs": [
    {
     "data": {
      "image/svg+xml": [
       "<?xml version=\"1.0\" encoding=\"UTF-8\"?>\n",
       "<svg xmlns=\"http://www.w3.org/2000/svg\" xmlns:xlink=\"http://www.w3.org/1999/xlink\"\n",
       "     width=\"397.3205080756888\" height=\"10\" viewBox=\"0 -10 397.3205080756888 10\">\n",
       "<defs>\n",
       "</defs>\n",
       "<path d=\"M110.0,0 L100,-10\" stroke=\"red\" fill=\"none\" />\n",
       "<path d=\"M110.0,0 L120.0,-10\" stroke=\"red\" fill=\"none\" />\n",
       "<path d=\"M237.3205080756888,0 L220.0,-10\" stroke=\"blue\" fill=\"none\" />\n",
       "<path d=\"M237.3205080756888,0 L247.3205080756888,-10\" stroke=\"red\" fill=\"none\" />\n",
       "<path d=\"M257.3205080756888,0 L247.3205080756888,-10\" stroke=\"red\" fill=\"none\" />\n",
       "<path d=\"M257.3205080756888,0 L267.3205080756888,-10\" stroke=\"red\" fill=\"none\" />\n",
       "<path d=\"M277.3205080756888,0 L267.3205080756888,-10\" stroke=\"red\" fill=\"none\" />\n",
       "<path d=\"M387.3205080756888,0 L377.3205080756888,-10\" stroke=\"red\" fill=\"none\" />\n",
       "<path d=\"M387.3205080756888,0 L397.3205080756888,-10\" stroke=\"red\" fill=\"none\" />\n",
       "<rect x=\"0\" y=\"-10\" width=\"397.3205080756888\" height=\"10\" stroke=\"red\" fill=\"none\" />\n",
       "</svg>"
      ],
      "text/plain": [
       "<drawSvg.drawing.Drawing at 0x7fc810bbcc10>"
      ]
     },
     "execution_count": 14,
     "metadata": {},
     "output_type": "execute_result"
    }
   ],
   "source": [
    "class Direction(Enum):\n",
    "    L=-1\n",
    "    R=1 \n",
    "def add_corner_gadget (mv,d, strip=[]):\n",
    "    add_fold(mv,45*d.value,strip)\n",
    "    add_fold(mv,-45*d.value,strip)\n",
    "\n",
    "add_corner_gadget(MV.MOUNTAIN,Direction.R,strip)\n",
    "add_plain(100,strip)\n",
    "add_corner_gadget(MV.MOUNTAIN,Direction.L, strip)\n",
    "render (strip,stripwidth)"
   ]
  },
  {
   "cell_type": "code",
   "execution_count": 15,
   "id": "cloudy-negotiation",
   "metadata": {},
   "outputs": [
    {
     "data": {
      "image/svg+xml": [
       "<?xml version=\"1.0\" encoding=\"UTF-8\"?>\n",
       "<svg xmlns=\"http://www.w3.org/2000/svg\" xmlns:xlink=\"http://www.w3.org/1999/xlink\"\n",
       "     width=\"2400.0\" height=\"10\" viewBox=\"0 -10 2400.0 10\">\n",
       "<defs>\n",
       "</defs>\n",
       "<path d=\"M20.0,0 L9.999999999999996,-10\" stroke=\"red\" fill=\"none\" />\n",
       "<path d=\"M20.0,0 L30.0,-10\" stroke=\"red\" fill=\"none\" />\n",
       "<path d=\"M40.0,0 L50.0,-10\" stroke=\"red\" fill=\"none\" />\n",
       "<path d=\"M60.0,0 L50.0,-10\" stroke=\"red\" fill=\"none\" />\n",
       "<path d=\"M100.0,0 L90.0,-10\" stroke=\"red\" fill=\"none\" />\n",
       "<path d=\"M100.0,0 L110.0,-10\" stroke=\"red\" fill=\"none\" />\n",
       "<path d=\"M140.0,0 L150.0,-10\" stroke=\"red\" fill=\"none\" />\n",
       "<path d=\"M160.0,0 L150.0,-10\" stroke=\"red\" fill=\"none\" />\n",
       "<path d=\"M220.0,0 L210.0,-10\" stroke=\"red\" fill=\"none\" />\n",
       "<path d=\"M220.0,0 L230.0,-10\" stroke=\"red\" fill=\"none\" />\n",
       "<path d=\"M280.0,0 L290.0,-10\" stroke=\"red\" fill=\"none\" />\n",
       "<path d=\"M300.0,0 L290.0,-10\" stroke=\"red\" fill=\"none\" />\n",
       "<path d=\"M380.0,0 L370.0,-10\" stroke=\"red\" fill=\"none\" />\n",
       "<path d=\"M380.0,0 L390.0,-10\" stroke=\"red\" fill=\"none\" />\n",
       "<path d=\"M460.0,0 L470.0,-10\" stroke=\"red\" fill=\"none\" />\n",
       "<path d=\"M480.0,0 L470.0,-10\" stroke=\"red\" fill=\"none\" />\n",
       "<path d=\"M580.0,0 L570.0,-10\" stroke=\"red\" fill=\"none\" />\n",
       "<path d=\"M580.0,0 L590.0,-10\" stroke=\"red\" fill=\"none\" />\n",
       "<path d=\"M680.0,0 L690.0,-10\" stroke=\"red\" fill=\"none\" />\n",
       "<path d=\"M700.0,0 L690.0,-10\" stroke=\"red\" fill=\"none\" />\n",
       "<path d=\"M820.0,0 L810.0,-10\" stroke=\"red\" fill=\"none\" />\n",
       "<path d=\"M820.0,0 L830.0,-10\" stroke=\"red\" fill=\"none\" />\n",
       "<path d=\"M940.0,0 L950.0,-10\" stroke=\"red\" fill=\"none\" />\n",
       "<path d=\"M960.0,0 L950.0,-10\" stroke=\"red\" fill=\"none\" />\n",
       "<path d=\"M1100.0,0 L1090.0,-10\" stroke=\"red\" fill=\"none\" />\n",
       "<path d=\"M1100.0,0 L1110.0,-10\" stroke=\"red\" fill=\"none\" />\n",
       "<path d=\"M1240.0,0 L1250.0,-10\" stroke=\"red\" fill=\"none\" />\n",
       "<path d=\"M1260.0,0 L1250.0,-10\" stroke=\"red\" fill=\"none\" />\n",
       "<path d=\"M1420.0,0 L1410.0,-10\" stroke=\"red\" fill=\"none\" />\n",
       "<path d=\"M1420.0,0 L1430.0,-10\" stroke=\"red\" fill=\"none\" />\n",
       "<path d=\"M1580.0,0 L1590.0,-10\" stroke=\"red\" fill=\"none\" />\n",
       "<path d=\"M1600.0,0 L1590.0,-10\" stroke=\"red\" fill=\"none\" />\n",
       "<path d=\"M1780.0,0 L1770.0,-10\" stroke=\"red\" fill=\"none\" />\n",
       "<path d=\"M1780.0,0 L1790.0,-10\" stroke=\"red\" fill=\"none\" />\n",
       "<path d=\"M1960.0,0 L1970.0,-10\" stroke=\"red\" fill=\"none\" />\n",
       "<path d=\"M1980.0,0 L1970.0,-10\" stroke=\"red\" fill=\"none\" />\n",
       "<path d=\"M2180.0,0 L2170.0,-10\" stroke=\"red\" fill=\"none\" />\n",
       "<path d=\"M2180.0,0 L2190.0,-10\" stroke=\"red\" fill=\"none\" />\n",
       "<path d=\"M2380.0,0 L2390.0,-10\" stroke=\"red\" fill=\"none\" />\n",
       "<path d=\"M2400.0,0 L2390.0,-10\" stroke=\"red\" fill=\"none\" />\n",
       "<rect x=\"0\" y=\"-10\" width=\"2400.0\" height=\"10\" stroke=\"red\" fill=\"none\" />\n",
       "</svg>"
      ],
      "text/plain": [
       "<drawSvg.drawing.Drawing at 0x7fc810bc9af0>"
      ]
     },
     "execution_count": 15,
     "metadata": {},
     "output_type": "execute_result"
    }
   ],
   "source": [
    "import numpy\n",
    "import itertools\n",
    "# returns the distance between two points\n",
    "def get_distance(a,b): return numpy.linalg.norm(numpy.array(a) - numpy.array(b))\n",
    "# returns the angle given these sides\n",
    "def cosinelaw(adj_side1,adj_side2,opp_side): return math.acos((adj_side1 ** 2 + adj_side2 ** 2 - opp_side **2) / (2*adj_side1 * adj_side2))\n",
    "# returns the length of the over-extended strip\n",
    "def corner_extension(gamma,beta,direction,strip_width): return math.tan(0.5*math.pi - (gamma if direction is Direction.L else beta))*strip_width\n",
    "# calculates all angles given a triangle with vertices a,b,c\n",
    "def calculate_angles(a,b,c):\n",
    "    ab = get_distance(a,b)\n",
    "    bc = get_distance(b,c)\n",
    "    ac = get_distance(a,c)\n",
    "    alpha = cosinelaw(ab,ac,bc)\n",
    "    beta = cosinelaw(ab,bc,ac)\n",
    "    gamma = cosinelaw(ac,bc,ab)\n",
    "    return alpha,beta,gamma\n",
    "def add_triangle_gadget (mv,strip_width,t, strip=[]):\n",
    "    a,b,c = t[0],t[1],t[2]\n",
    "    alpha,beta,gamma = calculate_angles(a,b,c)\n",
    "    height = get_distance(a,b) * math.sin(beta)\n",
    "    alternater = itertools.cycle([Direction.R, Direction.L])\n",
    "    direction = next(alternater)\n",
    "    y=0\n",
    "    while(y < height):\n",
    "        direction = next(alternater)\n",
    "        add_plain((get_distance(b,c)*y)/height + corner_extension(gamma,beta,direction,strip_width), strip)\n",
    "        add_corner_gadget(mv,direction, strip)\n",
    "        y+=strip_width\n",
    "stripwidth = 10\n",
    "strip = []\n",
    "add_triangle_gadget(MV.MOUNTAIN,stripwidth,[[50,-20,200],[50,-20,0],[50,180,0]], strip) \n",
    "render (strip, stripwidth)"
   ]
  },
  {
   "cell_type": "code",
   "execution_count": 16,
   "id": "deadly-arrest",
   "metadata": {},
   "outputs": [
    {
     "data": {
      "image/svg+xml": [
       "<?xml version=\"1.0\" encoding=\"UTF-8\"?>\n",
       "<svg xmlns=\"http://www.w3.org/2000/svg\" xmlns:xlink=\"http://www.w3.org/1999/xlink\"\n",
       "     width=\"1272.0\" height=\"4\" viewBox=\"0 -4 1272.0 4\">\n",
       "<defs>\n",
       "</defs>\n",
       "<path d=\"M8.0,0 L3.9999999999999987,-4\" stroke=\"red\" fill=\"none\" />\n",
       "<path d=\"M8.0,0 L12.0,-4\" stroke=\"red\" fill=\"none\" />\n",
       "<path d=\"M16.0,0 L20.0,-4\" stroke=\"red\" fill=\"none\" />\n",
       "<path d=\"M24.0,0 L20.0,-4\" stroke=\"red\" fill=\"none\" />\n",
       "<path d=\"M40.0,0 L36.0,-4\" stroke=\"red\" fill=\"none\" />\n",
       "<path d=\"M40.0,0 L44.0,-4\" stroke=\"red\" fill=\"none\" />\n",
       "<path d=\"M56.0,0 L60.0,-4\" stroke=\"red\" fill=\"none\" />\n",
       "<path d=\"M64.0,0 L60.0,-4\" stroke=\"red\" fill=\"none\" />\n",
       "<path d=\"M88.0,0 L84.0,-4\" stroke=\"red\" fill=\"none\" />\n",
       "<path d=\"M88.0,0 L92.0,-4\" stroke=\"red\" fill=\"none\" />\n",
       "<path d=\"M96.0,0 L92.0,-4\" stroke=\"blue\" fill=\"none\" />\n",
       "<path d=\"M96.0,0 L100.0,-4\" stroke=\"blue\" fill=\"none\" />\n",
       "<path d=\"M108.0,0 L112.0,-4\" stroke=\"blue\" fill=\"none\" />\n",
       "<path d=\"M116.0,0 L112.0,-4\" stroke=\"blue\" fill=\"none\" />\n",
       "<path d=\"M128.0,0 L124.0,-4\" stroke=\"blue\" fill=\"none\" />\n",
       "<path d=\"M128.0,0 L132.0,-4\" stroke=\"blue\" fill=\"none\" />\n",
       "<path d=\"M148.0,0 L152.0,-4\" stroke=\"blue\" fill=\"none\" />\n",
       "<path d=\"M156.0,0 L152.0,-4\" stroke=\"blue\" fill=\"none\" />\n",
       "<path d=\"M176.0,0 L172.0,-4\" stroke=\"blue\" fill=\"none\" />\n",
       "<path d=\"M176.0,0 L180.0,-4\" stroke=\"blue\" fill=\"none\" />\n",
       "<path d=\"M204.0,0 L208.0,-4\" stroke=\"blue\" fill=\"none\" />\n",
       "<path d=\"M212.0,0 L208.0,-4\" stroke=\"blue\" fill=\"none\" />\n",
       "<path d=\"M220.0,0 L216.0,-4\" stroke=\"red\" fill=\"none\" />\n",
       "<path d=\"M220.0,0 L224.0,-4\" stroke=\"red\" fill=\"none\" />\n",
       "<path d=\"M228.0,0 L232.0,-4\" stroke=\"red\" fill=\"none\" />\n",
       "<path d=\"M236.0,0 L232.0,-4\" stroke=\"red\" fill=\"none\" />\n",
       "<path d=\"M252.0,0 L248.0,-4\" stroke=\"red\" fill=\"none\" />\n",
       "<path d=\"M252.0,0 L256.0,-4\" stroke=\"red\" fill=\"none\" />\n",
       "<path d=\"M268.0,0 L272.0,-4\" stroke=\"red\" fill=\"none\" />\n",
       "<path d=\"M276.0,0 L272.0,-4\" stroke=\"red\" fill=\"none\" />\n",
       "<path d=\"M300.0,0 L296.0,-4\" stroke=\"red\" fill=\"none\" />\n",
       "<path d=\"M300.0,0 L304.0,-4\" stroke=\"red\" fill=\"none\" />\n",
       "<path d=\"M308.0,0 L304.0,-4\" stroke=\"blue\" fill=\"none\" />\n",
       "<path d=\"M308.0,0 L312.0,-4\" stroke=\"blue\" fill=\"none\" />\n",
       "<path d=\"M320.0,0 L324.0,-4\" stroke=\"blue\" fill=\"none\" />\n",
       "<path d=\"M328.0,0 L324.0,-4\" stroke=\"blue\" fill=\"none\" />\n",
       "<path d=\"M340.0,0 L336.0,-4\" stroke=\"blue\" fill=\"none\" />\n",
       "<path d=\"M340.0,0 L344.0,-4\" stroke=\"blue\" fill=\"none\" />\n",
       "<path d=\"M360.0,0 L364.0,-4\" stroke=\"blue\" fill=\"none\" />\n",
       "<path d=\"M368.0,0 L364.0,-4\" stroke=\"blue\" fill=\"none\" />\n",
       "<path d=\"M388.0,0 L384.0,-4\" stroke=\"blue\" fill=\"none\" />\n",
       "<path d=\"M388.0,0 L392.0,-4\" stroke=\"blue\" fill=\"none\" />\n",
       "<path d=\"M416.0,0 L420.0,-4\" stroke=\"blue\" fill=\"none\" />\n",
       "<path d=\"M424.0,0 L420.0,-4\" stroke=\"blue\" fill=\"none\" />\n",
       "<path d=\"M432.0,0 L428.0,-4\" stroke=\"red\" fill=\"none\" />\n",
       "<path d=\"M432.0,0 L436.0,-4\" stroke=\"red\" fill=\"none\" />\n",
       "<path d=\"M440.0,0 L444.0,-4\" stroke=\"red\" fill=\"none\" />\n",
       "<path d=\"M448.0,0 L444.0,-4\" stroke=\"red\" fill=\"none\" />\n",
       "<path d=\"M464.0,0 L460.0,-4\" stroke=\"red\" fill=\"none\" />\n",
       "<path d=\"M464.0,0 L468.0,-4\" stroke=\"red\" fill=\"none\" />\n",
       "<path d=\"M480.0,0 L484.0,-4\" stroke=\"red\" fill=\"none\" />\n",
       "<path d=\"M488.0,0 L484.0,-4\" stroke=\"red\" fill=\"none\" />\n",
       "<path d=\"M512.0,0 L508.0,-4\" stroke=\"red\" fill=\"none\" />\n",
       "<path d=\"M512.0,0 L516.0,-4\" stroke=\"red\" fill=\"none\" />\n",
       "<path d=\"M520.0,0 L516.0,-4\" stroke=\"blue\" fill=\"none\" />\n",
       "<path d=\"M520.0,0 L524.0,-4\" stroke=\"blue\" fill=\"none\" />\n",
       "<path d=\"M532.0,0 L536.0,-4\" stroke=\"blue\" fill=\"none\" />\n",
       "<path d=\"M540.0,0 L536.0,-4\" stroke=\"blue\" fill=\"none\" />\n",
       "<path d=\"M552.0,0 L548.0,-4\" stroke=\"blue\" fill=\"none\" />\n",
       "<path d=\"M552.0,0 L556.0,-4\" stroke=\"blue\" fill=\"none\" />\n",
       "<path d=\"M572.0,0 L576.0,-4\" stroke=\"blue\" fill=\"none\" />\n",
       "<path d=\"M580.0,0 L576.0,-4\" stroke=\"blue\" fill=\"none\" />\n",
       "<path d=\"M600.0,0 L596.0,-4\" stroke=\"blue\" fill=\"none\" />\n",
       "<path d=\"M600.0,0 L604.0,-4\" stroke=\"blue\" fill=\"none\" />\n",
       "<path d=\"M628.0,0 L632.0,-4\" stroke=\"blue\" fill=\"none\" />\n",
       "<path d=\"M636.0,0 L632.0,-4\" stroke=\"blue\" fill=\"none\" />\n",
       "<path d=\"M644.0,0 L640.0,-4\" stroke=\"red\" fill=\"none\" />\n",
       "<path d=\"M644.0,0 L648.0,-4\" stroke=\"red\" fill=\"none\" />\n",
       "<path d=\"M652.0,0 L656.0,-4\" stroke=\"red\" fill=\"none\" />\n",
       "<path d=\"M660.0,0 L656.0,-4\" stroke=\"red\" fill=\"none\" />\n",
       "<path d=\"M676.0,0 L672.0,-4\" stroke=\"red\" fill=\"none\" />\n",
       "<path d=\"M676.0,0 L680.0,-4\" stroke=\"red\" fill=\"none\" />\n",
       "<path d=\"M692.0,0 L696.0,-4\" stroke=\"red\" fill=\"none\" />\n",
       "<path d=\"M700.0,0 L696.0,-4\" stroke=\"red\" fill=\"none\" />\n",
       "<path d=\"M724.0,0 L720.0,-4\" stroke=\"red\" fill=\"none\" />\n",
       "<path d=\"M724.0,0 L728.0,-4\" stroke=\"red\" fill=\"none\" />\n",
       "<path d=\"M732.0,0 L728.0,-4\" stroke=\"blue\" fill=\"none\" />\n",
       "<path d=\"M732.0,0 L736.0,-4\" stroke=\"blue\" fill=\"none\" />\n",
       "<path d=\"M744.0,0 L748.0,-4\" stroke=\"blue\" fill=\"none\" />\n",
       "<path d=\"M752.0,0 L748.0,-4\" stroke=\"blue\" fill=\"none\" />\n",
       "<path d=\"M764.0,0 L760.0,-4\" stroke=\"blue\" fill=\"none\" />\n",
       "<path d=\"M764.0,0 L768.0,-4\" stroke=\"blue\" fill=\"none\" />\n",
       "<path d=\"M784.0,0 L788.0,-4\" stroke=\"blue\" fill=\"none\" />\n",
       "<path d=\"M792.0,0 L788.0,-4\" stroke=\"blue\" fill=\"none\" />\n",
       "<path d=\"M812.0,0 L808.0,-4\" stroke=\"blue\" fill=\"none\" />\n",
       "<path d=\"M812.0,0 L816.0,-4\" stroke=\"blue\" fill=\"none\" />\n",
       "<path d=\"M840.0,0 L844.0,-4\" stroke=\"blue\" fill=\"none\" />\n",
       "<path d=\"M848.0,0 L844.0,-4\" stroke=\"blue\" fill=\"none\" />\n",
       "<path d=\"M856.0,0 L852.0,-4\" stroke=\"red\" fill=\"none\" />\n",
       "<path d=\"M856.0,0 L860.0,-4\" stroke=\"red\" fill=\"none\" />\n",
       "<path d=\"M864.0,0 L868.0,-4\" stroke=\"red\" fill=\"none\" />\n",
       "<path d=\"M872.0,0 L868.0,-4\" stroke=\"red\" fill=\"none\" />\n",
       "<path d=\"M888.0,0 L884.0,-4\" stroke=\"red\" fill=\"none\" />\n",
       "<path d=\"M888.0,0 L892.0,-4\" stroke=\"red\" fill=\"none\" />\n",
       "<path d=\"M904.0,0 L908.0,-4\" stroke=\"red\" fill=\"none\" />\n",
       "<path d=\"M912.0,0 L908.0,-4\" stroke=\"red\" fill=\"none\" />\n",
       "<path d=\"M936.0,0 L932.0,-4\" stroke=\"red\" fill=\"none\" />\n",
       "<path d=\"M936.0,0 L940.0,-4\" stroke=\"red\" fill=\"none\" />\n",
       "<path d=\"M944.0,0 L940.0,-4\" stroke=\"blue\" fill=\"none\" />\n",
       "<path d=\"M944.0,0 L948.0,-4\" stroke=\"blue\" fill=\"none\" />\n",
       "<path d=\"M956.0,0 L960.0,-4\" stroke=\"blue\" fill=\"none\" />\n",
       "<path d=\"M964.0,0 L960.0,-4\" stroke=\"blue\" fill=\"none\" />\n",
       "<path d=\"M976.0,0 L972.0,-4\" stroke=\"blue\" fill=\"none\" />\n",
       "<path d=\"M976.0,0 L980.0,-4\" stroke=\"blue\" fill=\"none\" />\n",
       "<path d=\"M996.0,0 L1000.0,-4\" stroke=\"blue\" fill=\"none\" />\n",
       "<path d=\"M1004.0,0 L1000.0,-4\" stroke=\"blue\" fill=\"none\" />\n",
       "<path d=\"M1024.0,0 L1020.0,-4\" stroke=\"blue\" fill=\"none\" />\n",
       "<path d=\"M1024.0,0 L1028.0,-4\" stroke=\"blue\" fill=\"none\" />\n",
       "<path d=\"M1052.0,0 L1056.0,-4\" stroke=\"blue\" fill=\"none\" />\n",
       "<path d=\"M1060.0,0 L1056.0,-4\" stroke=\"blue\" fill=\"none\" />\n",
       "<path d=\"M1068.0,0 L1064.0,-4\" stroke=\"red\" fill=\"none\" />\n",
       "<path d=\"M1068.0,0 L1072.0,-4\" stroke=\"red\" fill=\"none\" />\n",
       "<path d=\"M1076.0,0 L1080.0,-4\" stroke=\"red\" fill=\"none\" />\n",
       "<path d=\"M1084.0,0 L1080.0,-4\" stroke=\"red\" fill=\"none\" />\n",
       "<path d=\"M1100.0,0 L1096.0,-4\" stroke=\"red\" fill=\"none\" />\n",
       "<path d=\"M1100.0,0 L1104.0,-4\" stroke=\"red\" fill=\"none\" />\n",
       "<path d=\"M1116.0,0 L1120.0,-4\" stroke=\"red\" fill=\"none\" />\n",
       "<path d=\"M1124.0,0 L1120.0,-4\" stroke=\"red\" fill=\"none\" />\n",
       "<path d=\"M1148.0,0 L1144.0,-4\" stroke=\"red\" fill=\"none\" />\n",
       "<path d=\"M1148.0,0 L1152.0,-4\" stroke=\"red\" fill=\"none\" />\n",
       "<path d=\"M1156.0,0 L1152.0,-4\" stroke=\"blue\" fill=\"none\" />\n",
       "<path d=\"M1156.0,0 L1160.0,-4\" stroke=\"blue\" fill=\"none\" />\n",
       "<path d=\"M1168.0,0 L1172.0,-4\" stroke=\"blue\" fill=\"none\" />\n",
       "<path d=\"M1176.0,0 L1172.0,-4\" stroke=\"blue\" fill=\"none\" />\n",
       "<path d=\"M1188.0,0 L1184.0,-4\" stroke=\"blue\" fill=\"none\" />\n",
       "<path d=\"M1188.0,0 L1192.0,-4\" stroke=\"blue\" fill=\"none\" />\n",
       "<path d=\"M1208.0,0 L1212.0,-4\" stroke=\"blue\" fill=\"none\" />\n",
       "<path d=\"M1216.0,0 L1212.0,-4\" stroke=\"blue\" fill=\"none\" />\n",
       "<path d=\"M1236.0,0 L1232.0,-4\" stroke=\"blue\" fill=\"none\" />\n",
       "<path d=\"M1236.0,0 L1240.0,-4\" stroke=\"blue\" fill=\"none\" />\n",
       "<path d=\"M1264.0,0 L1268.0,-4\" stroke=\"blue\" fill=\"none\" />\n",
       "<path d=\"M1272.0,0 L1268.0,-4\" stroke=\"blue\" fill=\"none\" />\n",
       "<rect x=\"0\" y=\"-4\" width=\"1272.0\" height=\"4\" stroke=\"red\" fill=\"none\" />\n",
       "</svg>"
      ],
      "text/plain": [
       "<drawSvg.drawing.Drawing at 0x7fc810be0850>"
      ]
     },
     "execution_count": 16,
     "metadata": {},
     "output_type": "execute_result"
    }
   ],
   "source": [
    "import openmesh as om\n",
    "\n",
    "mesh = om.TriMesh()\n",
    "mesh = om.read_trimesh(\"cube.stl\")\n",
    "stripwidth = 4\n",
    "strip = []\n",
    "for fh in mesh.faces():\n",
    "    add_triangle_gadget(MV.MOUNTAIN if fh.idx()%2==0 else MV.VALLEY,stripwidth,[mesh.point(vertex) for vertex in mesh.fv(fh)], strip)\n",
    "\n",
    "render (strip, stripwidth)     "
   ]
  },
  {
   "cell_type": "code",
   "execution_count": null,
   "id": "faced-graphics",
   "metadata": {},
   "outputs": [],
   "source": []
  },
  {
   "cell_type": "code",
   "execution_count": null,
   "id": "upset-forge",
   "metadata": {},
   "outputs": [],
   "source": []
  },
  {
   "cell_type": "code",
   "execution_count": null,
   "id": "configured-finish",
   "metadata": {},
   "outputs": [],
   "source": []
  }
 ],
 "metadata": {
  "kernelspec": {
   "display_name": "Python 3",
   "language": "python",
   "name": "python3"
  },
  "language_info": {
   "codemirror_mode": {
    "name": "ipython",
    "version": 3
   },
   "file_extension": ".py",
   "mimetype": "text/x-python",
   "name": "python",
   "nbconvert_exporter": "python",
   "pygments_lexer": "ipython3",
   "version": "3.8.5"
  }
 },
 "nbformat": 4,
 "nbformat_minor": 5
}
