{
 "cells": [
  {
   "cell_type": "code",
   "execution_count": 3,
   "id": "acb72750",
   "metadata": {},
   "outputs": [],
   "source": [
    "import igl\n",
    "import numpy as np\n",
    "import networkx as nx\n",
    "import drawSvg as draw\n",
    "# from meshplot import plot\n",
    "\n",
    "def add_edges_from_mesh(graph, faces):\n",
    "    face_adjacency_matrix, _ = igl.triangle_triangle_adjacency(faces)\n",
    "    for face_id, _ in enumerate(faces):\n",
    "        for ajd_face_id in face_adjacency_matrix[face_id]:\n",
    "            graph.add_edge(face_id,ajd_face_id)\n",
    "\n",
    "# adds nodes to graph G for every face in mesh\n",
    "def add_nodes_from_mesh(graph, faces): [graph.add_node(face_id) for face_id, face in enumerate(faces)]\n",
    "\n",
    "# create networkx graph from given mesh\n",
    "def graph_from_mesh(faces):\n",
    "    graph = nx.Graph()\n",
    "    add_nodes_from_mesh(graph, faces)\n",
    "    add_edges_from_mesh(graph, faces)\n",
    "    return graph\n",
    "\n",
    "# returns a rotation matrix from a (unnormalized) axis and an angle\n",
    "def get_rotation_matrix(axis, angle):\n",
    "    from scipy.spatial.transform import Rotation\n",
    "    return Rotation.from_rotvec(axis/np.linalg.norm(axis) * angle).as_matrix()\n",
    "\n",
    "# returns a matrix that maps 3D space onto a 2D plane (the orientation of which is specified by 'face_normal').\n",
    "def get_2d_projection(face_normal):\n",
    "    xy_plane_normal = np.array([0,0,1])  # aka 'the z-axis'\n",
    "    rotation_axis = np.cross(face_normal, xy_plane_normal)\n",
    "    angle = np.arccos(np.clip(np.dot(xy_plane_normal, face_normal), -1.0, 1.0))\n",
    "\n",
    "    discard_z_matrix = np.array([\n",
    "        [1, 0, 0],\n",
    "        [0, 1, 0]\n",
    "    ])\n",
    "\n",
    "    rotation_matrix = get_rotation_matrix(rotation_axis, angle)\n",
    "    return discard_z_matrix.dot(rotation_matrix)\n"
   ]
  },
  {
   "cell_type": "code",
   "execution_count": 4,
   "id": "eddf6320",
   "metadata": {},
   "outputs": [],
   "source": [
    "# load mesh\n",
    "raw_vertices, raw_faces = igl.read_triangle_mesh(\"cube.stl\")\n",
    "vertices, faces, _ = igl.remove_duplicates(raw_vertices, raw_faces, 0.00001)\n"
   ]
  },
  {
   "cell_type": "code",
   "execution_count": 6,
   "id": "251e61c1",
   "metadata": {},
   "outputs": [
    {
     "data": {
      "image/svg+xml": [
       "<?xml version=\"1.0\" encoding=\"UTF-8\"?>\n",
       "<svg xmlns=\"http://www.w3.org/2000/svg\" xmlns:xlink=\"http://www.w3.org/1999/xlink\"\n",
       "     width=\"1000\" height=\"1000\" viewBox=\"-500.0 -500.0 1000 1000\">\n",
       "<defs>\n",
       "</defs>\n",
       "</svg>"
      ],
      "text/plain": [
       "<drawSvg.drawing.Drawing at 0x210fa072a60>"
      ]
     },
     "execution_count": 6,
     "metadata": {},
     "output_type": "execute_result"
    }
   ],
   "source": [
    "# find commone edge of two adjacent faces\n",
    "def find_common_edge(faces, face_id_a, face_id_b):\n",
    "    # make sure that the resulting vertex ids are clockwise wrt. source face\n",
    "    face_vertex_array_a = faces[face_id_a]\n",
    "    face_vertex_array_b = faces[face_id_b]\n",
    "\n",
    "    for i in range(3):\n",
    "        if face_vertex_array_a[i] in face_vertex_array_b and face_vertex_array_a[(i+1) % 3] in face_vertex_array_b:\n",
    "            return (face_vertex_array_a[i], face_vertex_array_a[(i+1) % 3])\n",
    "\n",
    "    return None\n",
    "\n",
    "def get_face_normal(vertices, faces, face_id):\n",
    "    face_normals = igl.per_face_normals(vertices, faces, np.ones((1, 3)))\n",
    "    return face_normals[face_id]\n",
    "\n",
    "# get angle between the normals of two faces\n",
    "def dihedral_angle(vertices, faces, face_a_id, face_b_id):\n",
    "    face_normals = igl.per_face_normals(vertices, faces, np.ones((1, 3)))\n",
    "    return np.arccos(np.clip(np.dot(face_normals[face_a_id], face_normals[face_b_id]), -1.0, 1.0))\n",
    "\n",
    "\n",
    "polygons = []\n",
    "\n",
    "face_normals = igl.per_face_normals(vertices, faces, np.ones((1, 3)))\n",
    "#face_coordinates =  TODO get the vertices of face 0\n",
    "\n",
    "# TODO use get_2d_projection(face_normals) get rotation matrix for face 0\n",
    "# TODO use “.dot” to multiply the rotation matrix with each vertex in face_coordinates\n",
    "\n",
    "#TODO remove comment from line below \n",
    "polygons.append(face_coordinates)\n",
    "\n",
    "# generate svg visualization\n",
    "drawing = None\n",
    "drawing = draw.Drawing(1000, 1000, origin='center')\n",
    "for polygon in polygons:\n",
    "    # polygon = [coords[0:2] for coords in polygon]\n",
    "    drawing.append(draw.Lines(*np.array(polygon).flatten()*50,\n",
    "                   close=True, fill='#eeee00', stroke='#000', stroke_width=.1))\n",
    "\n",
    "drawing\n"
   ]
  },
  {
   "cell_type": "code",
   "execution_count": null,
   "id": "8ba5556f",
   "metadata": {},
   "outputs": [],
   "source": []
  }
 ],
 "metadata": {
  "kernelspec": {
   "display_name": "Python 3 (ipykernel)",
   "language": "python",
   "name": "python3"
  },
  "language_info": {
   "codemirror_mode": {
    "name": "ipython",
    "version": 3
   },
   "file_extension": ".py",
   "mimetype": "text/x-python",
   "name": "python",
   "nbconvert_exporter": "python",
   "pygments_lexer": "ipython3",
   "version": "3.9.5"
  }
 },
 "nbformat": 4,
 "nbformat_minor": 5
}
