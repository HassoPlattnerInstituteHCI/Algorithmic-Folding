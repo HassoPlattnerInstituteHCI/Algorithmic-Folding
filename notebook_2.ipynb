{
 "cells": [
  {
   "cell_type": "code",
   "execution_count": 40,
   "id": "f8b1c0d1",
   "metadata": {},
   "outputs": [],
   "source": [
    "from unfolding_helper import *\n",
    "from shapely.geometry import *\n",
    "\n",
    "def get_unfolding(mesh, cutted_faces):\n",
    "    tree = node(cutted_faces[0])\n",
    "    tree.add_child(cutted_faces[1])\n",
    "    return tree.unfold(mesh)\n",
    "\n",
    "def starting_point_3d_2_2d(mesh, face_id, starting_point_3d):\n",
    "    map_to_2d = lambda points: mesh.get_2d_projection(mesh.face_handle(face_id)).dot(points)\n",
    "    return map_to_2d(starting_point_3d)\n",
    "\n",
    "# Simple Vector Class\n",
    "class Vec:\n",
    "    def __init__(self, x, y, z):\n",
    "        self.x = x\n",
    "        self.y = y\n",
    "        self.z = z\n",
    "\n",
    "    def len(self):\n",
    "        return sqrt(self.x**2 + self.y**2 + self.z**2)\n",
    "\n",
    "    def normalize(self):\n",
    "        l = self.len()\n",
    "        return Vec(self.x/l, self.y/l, self.z/l)\n",
    "\n",
    "    def __add__(self, v):\n",
    "        return Vec(self.x + v.x, self.y + v.y, self.z + v.z)\n",
    "\n",
    "    def __mul__(self, s):\n",
    "        return Vec(self.x * s, self.y * s, self.z * s)\n",
    "\n",
    "    def __sub__(self, v):\n",
    "        return Vec(self.x - v.x, self.y - v.y, self.z - v.z)"
   ]
  },
  {
   "cell_type": "code",
   "execution_count": 41,
   "id": "1eb67f0c",
   "metadata": {},
   "outputs": [
    {
     "name": "stdout",
     "output_type": "stream",
     "text": [
      "Cutted Edges: [1, 6, 7, 8, 5, 11, 9]\n",
      "Shortest path in 2d will start at [0.5 0.5] and end at [0. 2.]\n"
     ]
    }
   ],
   "source": [
    "mesh = Mesh('Models/cube.obj')\n",
    "    \n",
    "#list of faces on the shortest path\n",
    "cut_faces = [5, 2]\n",
    "    \n",
    "end_point_id = 2\n",
    "starting_point_3d = (.5, .5, .1)\n",
    "    \n",
    "#unfold the faces from cutted_faces as shown in the previous lectures\n",
    "unfold = get_unfolding(mesh, cut_faces)\n",
    "    \n",
    "#list of edge_ids that possibly are being cut by the shortest path\n",
    "cut_edges = get_cutted_edges(mesh, cut_faces)\n",
    "print('Cutted Edges:', cut_edges)\n",
    "    \n",
    "#create a Hashmap that maps vertex_id to 2d coordinates\n",
    "points_2d = get_2d_points(mesh, unfold, cut_faces)\n",
    "    \n",
    "#now we can get the 2d projection of the end point\n",
    "end_point_2d = points_2d[end_point_id]\n",
    "    \n",
    "#project starting point from 3d to 2d space using the first Matrix Multiplication in the unfold function\n",
    "starting_point_2d = starting_point_3d_2_2d(mesh, cut_faces[0], starting_point_3d)\n",
    "    \n",
    "print('Shortest path in 2d will start at', starting_point_2d, 'and end at', end_point_2d)"
   ]
  },
  {
   "cell_type": "code",
   "execution_count": 42,
   "id": "95d69790",
   "metadata": {},
   "outputs": [],
   "source": [
    "#List of edges represented as vertex_ids\n",
    "#Example: [(0, 1), (1, 2), (2, 3), (3, 0), (0, 4), (4, 5), (5, 1), (5, 6), (6, 2), (6, 7), (7, 3), (7, 4)]\n",
    "#now we can get the vertecies of an edge by edges_as_vertex_ids[edge_id]\n",
    "edge_as_vertex_ids = [list(e) for e in mesh.edge_vertex_indices()]"
   ]
  },
  {
   "cell_type": "code",
   "execution_count": 43,
   "id": "414ea6aa",
   "metadata": {},
   "outputs": [],
   "source": [
    "#list to store generated lines\n",
    "lines = []\n",
    "\n",
    "#for each edge_id we get the right vertex_ids \n",
    "for e in cut_edges:\n",
    "    verts = edge_as_vertex_ids[e]\n",
    "    \n",
    "    #Create a LineString out of 2d coordinates of these verticies\n",
    "    nl = LineString((points_2d[verts[0]], points_2d[verts[1]]))\n",
    "    \n",
    "    #Append this line to lines\n",
    "    lines.append(nl)\n",
    "\n",
    "# Create a LineString out of the 2d starting and the 2d end point\n",
    "main_line = LineString((starting_point_2d, end_point_2d))"
   ]
  },
  {
   "cell_type": "code",
   "execution_count": 44,
   "id": "c51ad4b7",
   "metadata": {},
   "outputs": [],
   "source": [
    "\n",
    "\n",
    "# TODO: Create a class which stores a corresponding edge_id \n",
    "# and a distance between the first point and the intersection point in order to calculate the\n",
    "# 3d coordinates of the intersection point\n",
    "\n",
    "class Insertion_Vertex:\n",
    "    def __init__(self, edge_id, dist):\n",
    "        # TODO\n",
    "        pass\n",
    "    \n",
    "    def calc_pos(self, edge):\n",
    "        # TODO calculate the 3d coordinates by creating a normalized vector from edge[0] to edge[1]\n",
    "        # multiplying this vector by the stored distance and adding that to edge[0]\n",
    "        pass\n"
   ]
  },
  {
   "cell_type": "code",
   "execution_count": 45,
   "id": "e4fccbd4",
   "metadata": {},
   "outputs": [],
   "source": [
    "new_vertices = []\n",
    "for i, l in enumerate(lines):   \n",
    "    #intersect mainline with current line l\n",
    "    p = main_line.intersection(l)  \n",
    "    \n",
    "    #if there is an intersection get the coordinates of p and store them\n",
    "    if p: \n",
    "        #turn p into a vector\n",
    "        p = tuple(p.coords)[0]\n",
    "        p = Vec(p[0], p[1], 0)\n",
    "        \n",
    "        #turn the first point in the line into a vector\n",
    "        A = tuple(l.coords)[0]\n",
    "        A = Vec(A[0], A[1], 0)\n",
    "        \n",
    "        #calculate the distance betwenn p and A\n",
    "        dist = (p - A).len()\n",
    "        \n",
    "        #turn p into an Insertion_Vertex\n",
    "        p = Insertion_Vertex(i, dist)\n",
    "        new_vertices.append(p)"
   ]
  },
  {
   "cell_type": "code",
   "execution_count": 46,
   "id": "a0337123",
   "metadata": {},
   "outputs": [],
   "source": [
    "#List of 3d Coordinates for every vertex in the mesh\n",
    "# use \"points_3d[vertex_id]\" to get the coordinates of a certain point\n",
    "points_3d = [tuple(p) for p in mesh.points()]\n",
    "\n",
    "#list to store the 3d Vertices\n",
    "new_vertices = []\n",
    "for v in new_vertices:\n",
    "    #get the edge as tuple of vertex_ids \n",
    "    edge = edge_as_vertex_ids[v.edge_id]\n",
    "    \n",
    "    #turn the edge to tuple of 3d coordinates represented as a vector\n",
    "    edge = [Vec(*points_3d[id]) for id in edge]\n",
    "    \n",
    "    # Calculate the 3d position of the new Vertex and append it to new_vertices_3d\n",
    "    v = v.calc_pos(edge)\n",
    "    new_vertices.append(v)\n",
    "\n",
    "#print all new vertices\n",
    "for p in new_vertices:\n",
    "    print(p.x, p.y, p.z)"
   ]
  },
  {
   "cell_type": "code",
   "execution_count": null,
   "id": "f0ed9f86",
   "metadata": {},
   "outputs": [],
   "source": []
  }
 ],
 "metadata": {
  "kernelspec": {
   "display_name": "Python 3 (ipykernel)",
   "language": "python",
   "name": "python3"
  },
  "language_info": {
   "codemirror_mode": {
    "name": "ipython",
    "version": 3
   },
   "file_extension": ".py",
   "mimetype": "text/x-python",
   "name": "python",
   "nbconvert_exporter": "python",
   "pygments_lexer": "ipython3",
   "version": "3.10.2"
  }
 },
 "nbformat": 4,
 "nbformat_minor": 5
}
