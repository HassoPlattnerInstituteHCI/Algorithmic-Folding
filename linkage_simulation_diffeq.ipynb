{
 "cells": [
  {
   "cell_type": "code",
   "execution_count": null,
   "id": "2123cd6d",
   "metadata": {},
   "outputs": [],
   "source": [
    "import autograd.numpy as jnp  # Thinly-wrapped numpy\n",
    "from autograd import grad, jacobian    # The only autograd function you may ever need"
   ]
  },
  {
   "cell_type": "code",
   "execution_count": 1,
   "id": "4f84015d",
   "metadata": {},
   "outputs": [
    {
     "data": {
      "application/javascript": [
       "\n",
       "require.undef('drawingview');\n",
       "\n",
       "define('drawingview', ['@jupyter-widgets/base'], function(widgets) {\n",
       "    var DrawingView = widgets.DOMWidgetView.extend({\n",
       "        render: function() {\n",
       "            this.container = document.createElement('a');\n",
       "            this.image_changed();\n",
       "            this.container.appendChild(this.svg_view);\n",
       "            this.el.appendChild(this.container);\n",
       "            this.model.on('change:_image', this.image_changed, this);\n",
       "            this.model.on('change:_mousemove_blocked', this.block_changed,\n",
       "                          this);\n",
       "            this.model.on('change:frame_delay', this.delay_changed,\n",
       "                          this);\n",
       "            this.model.on('change:_frame_blocked', this.delay_changed,\n",
       "                          this);\n",
       "            this.model.on('change:disable', this.delay_changed,\n",
       "                          this);\n",
       "            this.delay_changed();\n",
       "        },\n",
       "        image_changed: function() {\n",
       "            this.container.innerHTML = this.model.get('_image');\n",
       "            this.svg_view = this.container.getElementsByTagName('svg')[0];\n",
       "            this.cursor_point = this.svg_view.createSVGPoint();\n",
       "            this.register_events();\n",
       "        },\n",
       "        last_move: null,\n",
       "        last_mousemove_blocked: null,\n",
       "        last_timer: null,\n",
       "        block_changed: function() {\n",
       "            var widget = this;\n",
       "            window.setTimeout(function() {\n",
       "                if (widget.model.get('_mousemove_blocked')\n",
       "                        != widget.last_mousemove_blocked && widget.last_move) {\n",
       "                    widget.send_mouse_event('mousemove', widget.last_move);\n",
       "                }\n",
       "            }, 0);\n",
       "        },\n",
       "        send_mouse_event: function(name, e) {\n",
       "            this.last_move = null;\n",
       "            if (this.model.get('disable')) {\n",
       "                return;\n",
       "            }\n",
       "\n",
       "            this.cursor_point.x = e.clientX;\n",
       "            this.cursor_point.y = e.clientY;\n",
       "            var svg_pt = this.cursor_point.matrixTransform(\n",
       "                            this.svg_view.getScreenCTM().inverse());\n",
       "\n",
       "            this.send({\n",
       "                name: name,\n",
       "                x: svg_pt.x,\n",
       "                y: -svg_pt.y,\n",
       "                type: e.type,\n",
       "                button: e.button,\n",
       "                buttons: e.buttons,\n",
       "                shiftKey: e.shiftKey,\n",
       "                altKey: e.altKey,\n",
       "                ctrlKey: e.ctrlKey,\n",
       "                metaKey: e.metaKey,\n",
       "                clientX: e.clientX,\n",
       "                clientY: e.clientY,\n",
       "                movementX: e.movementX,\n",
       "                movementY: e.movementY,\n",
       "                timeStamp: e.timeStamp,\n",
       "                targetId: e.target ? e.target.id : null,\n",
       "                currentTargetId: e.currentTarget ? e.currentTarget.id : null,\n",
       "                relatedTargetId: e.relatedTarget ? e.relatedTarget.id : null,\n",
       "            });\n",
       "        },\n",
       "        delay_changed: function() {\n",
       "            var widget = this;\n",
       "            window.clearTimeout(widget.last_timer);\n",
       "            if (widget.model.get('disable')) {\n",
       "                return;\n",
       "            }\n",
       "            var delay = widget.model.get('frame_delay');\n",
       "            if (delay > 0) {\n",
       "                widget.last_timer = window.setTimeout(function() {\n",
       "                    widget.send_timed_event('timed');\n",
       "                }, delay);\n",
       "            }\n",
       "        },\n",
       "        send_timed_event: function(name) {\n",
       "            if (this.model.get('disable')) {\n",
       "                return;\n",
       "            }\n",
       "\n",
       "            this.send({\n",
       "                name: name,\n",
       "            });\n",
       "        },\n",
       "        register_events: function() {\n",
       "            var widget = this;\n",
       "            this.svg_view.addEventListener('mousedown', function(e) {\n",
       "                e.preventDefault();\n",
       "                widget.send_mouse_event('mousedown', e);\n",
       "            });\n",
       "            this.svg_view.addEventListener('mousemove', function(e) {\n",
       "                e.preventDefault();\n",
       "                if (widget.model.get('_mousemove_blocked')\n",
       "                        == widget.last_mousemove_blocked) {\n",
       "                    widget.last_move = e;\n",
       "                } else {\n",
       "                    widget.send_mouse_event('mousemove', e);\n",
       "                }\n",
       "            });\n",
       "            this.svg_view.addEventListener('mouseup', function(e) {\n",
       "                e.preventDefault();\n",
       "                widget.send_mouse_event('mouseup', e);\n",
       "            });\n",
       "        }\n",
       "    });\n",
       "\n",
       "    return {\n",
       "        DrawingView: DrawingView\n",
       "    };\n",
       "});\n"
      ],
      "text/plain": [
       "<IPython.core.display.Javascript object>"
      ]
     },
     "metadata": {},
     "output_type": "display_data"
    }
   ],
   "source": [
    "import drawSvg as draw\n",
    "from drawSvg.widgets import DrawingWidget\n",
    "import hyperbolic.poincare.shapes as hyper  # pip3 install hyperbolicd\n",
    "import numpy as np\n",
    "import matplotlib.pyplot as plt\n",
    "from scipy.integrate import solve_ivp\n",
    "\n",
    "\n",
    "\n",
    "canvas_size=(800,800)\n",
    "d=draw.Drawing(*canvas_size, origin='center')\n",
    "traj=draw.Group()\n",
    "linkage = draw.Group()\n",
    "d.append(linkage)\n",
    "d.append(traj)\n",
    "\n",
    "def redraw_linkage(nodes=[], edges=[],node_radius=6,edge_width=5,d=d):\n",
    "    linkage.children.clear()\n",
    "    for id1,id2 in edges:\n",
    "        linkage.draw(draw.Line(*nodes[id1],*nodes[id2],stroke='gray',stroke_width=edge_width))\n",
    "    for x,y in nodes[1:-1]:\n",
    "        linkage.draw(draw.Circle(x,y,node_radius,fill='green'))\n",
    "    x,y=nodes[0]\n",
    "    linkage.draw(draw.Circle(x,y,node_radius,fill='blue'))\n",
    "    x,y=nodes[-1]\n",
    "    linkage.draw(draw.Circle(x,y,node_radius,fill='orange'))\n",
    "    \n",
    "    return d\n",
    "\n",
    "def redraw_trajectory(drive_node=[],end_node=[]):\n",
    "    traj.children.clear()\n",
    "    for p0,p1 in zip(drive_node[:-1],drive_node[1:]):\n",
    "        traj.draw(draw.Line(*p0,*p1,stroke='blue',stroke_width=3))\n",
    "    for p0,p1 in zip(end_node[:-1],end_node[1:]):\n",
    "        traj.draw(draw.Line(*p0,*p1,stroke='orange',stroke_width=3))\n",
    "        \n",
    "        \n",
    "def rotation_matrix(theta=0):\n",
    "    c, s = np.cos(theta), np.sin(theta)\n",
    "    R = np.array(((c, -s), (s, c)))\n",
    "    return R\n",
    "\n",
    "def simulate_linkage(nodes=[],edges=[],lengths=[]):\n",
    "    for i in range(0,len(edges),2):\n",
    "        e02,e12=edges[[i,i+1],:]\n",
    "        l02,l12=lengths[[i,i+1]]\n",
    "        p0,p1=nodes[[e02[0],e12[0]],:]\n",
    "        if np.linalg.norm(p1-p0)>l02+l12:\n",
    "            p0=p1-(l02+l12)*(p1-p0)/np.linalg.norm(p1-p0)\n",
    "            nodes[e02[0],:]=p0\n",
    "        v01=(p1-p0)/np.linalg.norm(p1-p0)\n",
    "        l01=np.linalg.norm(p1-p0)\n",
    "        phi=np.arccos(max(-1,min(1,(l01**2+l02**2-l12**2)/(2*l01*l02))))\n",
    "        p2=rotation_matrix(phi)@v01*l02+p0\n",
    "        nodes[e02[1],:]=p2\n"
   ]
  },
  {
   "cell_type": "code",
   "execution_count": 2,
   "id": "ba60ecf3",
   "metadata": {},
   "outputs": [
    {
     "data": {
      "application/vnd.jupyter.widget-view+json": {
       "model_id": "6ca953cf79aa42fc9f9d318e936a4432",
       "version_major": 2,
       "version_minor": 0
      },
      "text/plain": [
       "DrawingWidget()"
      ]
     },
     "metadata": {},
     "output_type": "display_data"
    }
   ],
   "source": [
    "nodes=np.array([(100,100),(0,0),(0,0),(0,0),(0,0),(0,0),(0,0)])\n",
    "edges=np.array([(0,2),(1,2),(2,3),(1,3),(1,4),(0,4),(3,5),(4,5),(5,6),(4,6)])\n",
    "lengths=np.array([100,100,100,100,100,150,100,100,150,100])\n",
    "drive_node=[]\n",
    "end_node=[]\n",
    "# Create interactive widget and register mouse events\n",
    "d = redraw_linkage(nodes, edges, lengths)\n",
    "widget = DrawingWidget(d)\n",
    "@widget.mousedown\n",
    "def mousedown(widget, x, y, info):\n",
    "    drive_node.append([*nodes[0]])\n",
    "    if len(drive_node)>1:\n",
    "        for i in range(0,10):\n",
    "            nodes[0,:]=(1-i/10.0)*np.asarray(drive_node[-2])+(i/10.0)*np.asarray(drive_node[-1])\n",
    "            simulate_linkage(nodes,edges,lengths)\n",
    "            end_node.append([*nodes[-1]])\n",
    "        nodes[0,:]=drive_node[-1]\n",
    "    else:\n",
    "        end_node.append([*nodes[-1]])\n",
    "    #redraw_trajectory(drive_node,end_node)\n",
    "    redraw_linkage(nodes,edges,d)\n",
    "    widget.refresh()\n",
    "\n",
    "@widget.mousemove\n",
    "def mousemove(widget, x, y, info):\n",
    "    nodes[0]=(x,y)\n",
    "    simulate_linkage(nodes,edges,lengths)\n",
    "    #redraw_trajectory(drive_node,end_node)\n",
    "    redraw_linkage(nodes,edges,d)\n",
    "    widget.refresh()\n",
    "\n",
    "widget"
   ]
  },
  {
   "cell_type": "code",
   "execution_count": null,
   "id": "efef0190",
   "metadata": {},
   "outputs": [],
   "source": [
    "nodes"
   ]
  },
  {
   "cell_type": "code",
   "execution_count": null,
   "id": "f54dc5fe",
   "metadata": {},
   "outputs": [],
   "source": [
    "result"
   ]
  },
  {
   "cell_type": "code",
   "execution_count": 4,
   "id": "55dd3860",
   "metadata": {},
   "outputs": [
    {
     "data": {
      "image/png": "[encoded data removed]",
      "text/plain": [
       "<Figure size 432x288 with 1 Axes>"
      ]
     },
     "metadata": {
      "needs_background": "light"
     },
     "output_type": "display_data"
    }
   ],
   "source": [
    "# dynamics simulation \n",
    "\n",
    "def get_force(angle, mass): return mass * -9.81 * np.sin(angle)\n",
    "# game loop implementation\n",
    "\n",
    "# system parameters\n",
    "pendulum_mass = 0.7  #kg\n",
    "pendulum_string_length = 0.1 #m\n",
    "\n",
    "# step\n",
    "dt = 0.01\n",
    "\n",
    "# system state (incl. initial conditions)\n",
    "pendulum_angle = 1.2\n",
    "pendulum_angular_velocity = 0\n",
    "\n",
    "result = []\n",
    "\n",
    "# step between 0s and 10s every dt seconds\n",
    "for step in np.arange(0.0, 100.0, dt):\n",
    "    # get acceleration\n",
    "    # F = m*a  ->  a = F/m\n",
    "    \n",
    "    # TODO implement update call\n",
    "    \n",
    "    result.append(pendulum_angle)\n",
    "    \n",
    "plt.plot(result)\n",
    "plt.show()"
   ]
  },
  {
   "cell_type": "code",
   "execution_count": null,
   "id": "b6bc49f9",
   "metadata": {},
   "outputs": [],
   "source": []
  },
  {
   "cell_type": "code",
   "execution_count": 5,
   "id": "3811d237",
   "metadata": {},
   "outputs": [
    {
     "data": {
      "image/png": "[encoded data removed]",
      "text/plain": [
       "<Figure size 432x288 with 1 Axes>"
      ]
     },
     "metadata": {
      "needs_background": "light"
     },
     "output_type": "display_data"
    }
   ],
   "source": [
    "# dynamics simulation \n",
    "\n",
    "def get_force(angle, mass): return mass * -9.81 * np.sin(angle)\n",
    "# game loop implementation\n",
    "\n",
    "# system parameters\n",
    "pendulum_mass = 0.7  #kg\n",
    "pendulum_string_length = 0.1 #m\n",
    "\n",
    "# step\n",
    "dt = 0.01\n",
    "\n",
    "# system state (incl. initial conditions)\n",
    "pendulum_angle = 1.2\n",
    "pendulum_angular_velocity = 0\n",
    "\n",
    "result = []\n",
    "\n",
    "# step between 0s and 10s every dt seconds\n",
    "for step in np.arange(0.0, 100.0, dt):\n",
    "    # get acceleration\n",
    "    # F = m*a  ->  a = F/m\n",
    "    acceleration = get_force(pendulum_angle, pendulum_mass) / pendulum_mass\n",
    "    \n",
    "    # do the time step\n",
    "    pendulum_angle += pendulum_angular_velocity * dt\n",
    "    pendulum_angular_velocity += acceleration * dt\n",
    "    result.append(pendulum_angle)\n",
    "    \n",
    "plt.plot(result)\n",
    "plt.show()"
   ]
  },
  {
   "cell_type": "code",
   "execution_count": 6,
   "id": "ccc9128e",
   "metadata": {},
   "outputs": [
    {
     "ename": "KeyboardInterrupt",
     "evalue": "",
     "output_type": "error",
     "traceback": [
      "\u001b[0;31m---------------------------------------------------------------------------\u001b[0m",
      "\u001b[0;31mKeyboardInterrupt\u001b[0m                         Traceback (most recent call last)",
      "\u001b[0;32m/tmp/tmp.3vJGGbm10d/ipykernel_1233264/3864829461.py\u001b[0m in \u001b[0;36m<module>\u001b[0;34m\u001b[0m\n\u001b[1;32m     28\u001b[0m \u001b[0;31m# solve ODEs\u001b[0m\u001b[0;34m\u001b[0m\u001b[0;34m\u001b[0m\u001b[0m\n\u001b[1;32m     29\u001b[0m \u001b[0mk\u001b[0m \u001b[0;34m=\u001b[0m \u001b[0;36m0.1\u001b[0m\u001b[0;34m\u001b[0m\u001b[0;34m\u001b[0m\u001b[0m\n\u001b[0;32m---> 30\u001b[0;31m \u001b[0mresult\u001b[0m \u001b[0;34m=\u001b[0m \u001b[0msolve_ivp\u001b[0m\u001b[0;34m(\u001b[0m\u001b[0mmodel\u001b[0m\u001b[0;34m,\u001b[0m \u001b[0mtime_span\u001b[0m\u001b[0;34m,\u001b[0m \u001b[0my0\u001b[0m\u001b[0;34m,\u001b[0m \u001b[0mmethod\u001b[0m\u001b[0;34m=\u001b[0m\u001b[0;34m'RK45'\u001b[0m\u001b[0;34m,\u001b[0m \u001b[0mrtol\u001b[0m\u001b[0;34m=\u001b[0m\u001b[0;36m1e-8\u001b[0m\u001b[0;34m)\u001b[0m\u001b[0;34m\u001b[0m\u001b[0;34m\u001b[0m\u001b[0m\n\u001b[0m\u001b[1;32m     31\u001b[0m \u001b[0;34m\u001b[0m\u001b[0m\n\u001b[1;32m     32\u001b[0m \u001b[0mfig\u001b[0m \u001b[0;34m=\u001b[0m \u001b[0mplt\u001b[0m\u001b[0;34m.\u001b[0m\u001b[0mfigure\u001b[0m\u001b[0;34m(\u001b[0m\u001b[0;34m)\u001b[0m\u001b[0;34m\u001b[0m\u001b[0;34m\u001b[0m\u001b[0m\n",
      "\u001b[0;32m~/miniconda3/envs/af/lib/python3.9/site-packages/scipy/integrate/_ivp/ivp.py\u001b[0m in \u001b[0;36msolve_ivp\u001b[0;34m(fun, t_span, y0, method, t_eval, dense_output, events, vectorized, args, **options)\u001b[0m\n\u001b[1;32m    574\u001b[0m     \u001b[0mstatus\u001b[0m \u001b[0;34m=\u001b[0m \u001b[0;32mNone\u001b[0m\u001b[0;34m\u001b[0m\u001b[0;34m\u001b[0m\u001b[0m\n\u001b[1;32m    575\u001b[0m     \u001b[0;32mwhile\u001b[0m \u001b[0mstatus\u001b[0m \u001b[0;32mis\u001b[0m \u001b[0;32mNone\u001b[0m\u001b[0;34m:\u001b[0m\u001b[0;34m\u001b[0m\u001b[0;34m\u001b[0m\u001b[0m\n\u001b[0;32m--> 576\u001b[0;31m         \u001b[0mmessage\u001b[0m \u001b[0;34m=\u001b[0m \u001b[0msolver\u001b[0m\u001b[0;34m.\u001b[0m\u001b[0mstep\u001b[0m\u001b[0;34m(\u001b[0m\u001b[0;34m)\u001b[0m\u001b[0;34m\u001b[0m\u001b[0;34m\u001b[0m\u001b[0m\n\u001b[0m\u001b[1;32m    577\u001b[0m \u001b[0;34m\u001b[0m\u001b[0m\n\u001b[1;32m    578\u001b[0m         \u001b[0;32mif\u001b[0m \u001b[0msolver\u001b[0m\u001b[0;34m.\u001b[0m\u001b[0mstatus\u001b[0m \u001b[0;34m==\u001b[0m \u001b[0;34m'finished'\u001b[0m\u001b[0;34m:\u001b[0m\u001b[0;34m\u001b[0m\u001b[0;34m\u001b[0m\u001b[0m\n",
      "\u001b[0;32m~/miniconda3/envs/af/lib/python3.9/site-packages/scipy/integrate/_ivp/base.py\u001b[0m in \u001b[0;36mstep\u001b[0;34m(self)\u001b[0m\n\u001b[1;32m    179\u001b[0m         \u001b[0;32melse\u001b[0m\u001b[0;34m:\u001b[0m\u001b[0;34m\u001b[0m\u001b[0;34m\u001b[0m\u001b[0m\n\u001b[1;32m    180\u001b[0m             \u001b[0mt\u001b[0m \u001b[0;34m=\u001b[0m \u001b[0mself\u001b[0m\u001b[0;34m.\u001b[0m\u001b[0mt\u001b[0m\u001b[0;34m\u001b[0m\u001b[0;34m\u001b[0m\u001b[0m\n\u001b[0;32m--> 181\u001b[0;31m             \u001b[0msuccess\u001b[0m\u001b[0;34m,\u001b[0m \u001b[0mmessage\u001b[0m \u001b[0;34m=\u001b[0m \u001b[0mself\u001b[0m\u001b[0;34m.\u001b[0m\u001b[0m_step_impl\u001b[0m\u001b[0;34m(\u001b[0m\u001b[0;34m)\u001b[0m\u001b[0;34m\u001b[0m\u001b[0;34m\u001b[0m\u001b[0m\n\u001b[0m\u001b[1;32m    182\u001b[0m \u001b[0;34m\u001b[0m\u001b[0m\n\u001b[1;32m    183\u001b[0m             \u001b[0;32mif\u001b[0m \u001b[0;32mnot\u001b[0m \u001b[0msuccess\u001b[0m\u001b[0;34m:\u001b[0m\u001b[0;34m\u001b[0m\u001b[0;34m\u001b[0m\u001b[0m\n",
      "\u001b[0;32m~/miniconda3/envs/af/lib/python3.9/site-packages/scipy/integrate/_ivp/rk.py\u001b[0m in \u001b[0;36m_step_impl\u001b[0;34m(self)\u001b[0m\n\u001b[1;32m    142\u001b[0m             \u001b[0mh_abs\u001b[0m \u001b[0;34m=\u001b[0m \u001b[0mnp\u001b[0m\u001b[0;34m.\u001b[0m\u001b[0mabs\u001b[0m\u001b[0;34m(\u001b[0m\u001b[0mh\u001b[0m\u001b[0;34m)\u001b[0m\u001b[0;34m\u001b[0m\u001b[0;34m\u001b[0m\u001b[0m\n\u001b[1;32m    143\u001b[0m \u001b[0;34m\u001b[0m\u001b[0m\n\u001b[0;32m--> 144\u001b[0;31m             y_new, f_new = rk_step(self.fun, t, y, self.f, h, self.A,\n\u001b[0m\u001b[1;32m    145\u001b[0m                                    self.B, self.C, self.K)\n\u001b[1;32m    146\u001b[0m             \u001b[0mscale\u001b[0m \u001b[0;34m=\u001b[0m \u001b[0matol\u001b[0m \u001b[0;34m+\u001b[0m \u001b[0mnp\u001b[0m\u001b[0;34m.\u001b[0m\u001b[0mmaximum\u001b[0m\u001b[0;34m(\u001b[0m\u001b[0mnp\u001b[0m\u001b[0;34m.\u001b[0m\u001b[0mabs\u001b[0m\u001b[0;34m(\u001b[0m\u001b[0my\u001b[0m\u001b[0;34m)\u001b[0m\u001b[0;34m,\u001b[0m \u001b[0mnp\u001b[0m\u001b[0;34m.\u001b[0m\u001b[0mabs\u001b[0m\u001b[0;34m(\u001b[0m\u001b[0my_new\u001b[0m\u001b[0;34m)\u001b[0m\u001b[0;34m)\u001b[0m \u001b[0;34m*\u001b[0m \u001b[0mrtol\u001b[0m\u001b[0;34m\u001b[0m\u001b[0;34m\u001b[0m\u001b[0m\n",
      "\u001b[0;32m~/miniconda3/envs/af/lib/python3.9/site-packages/scipy/integrate/_ivp/rk.py\u001b[0m in \u001b[0;36mrk_step\u001b[0;34m(fun, t, y, f, h, A, B, C, K)\u001b[0m\n\u001b[1;32m     61\u001b[0m     \u001b[0mK\u001b[0m\u001b[0;34m[\u001b[0m\u001b[0;36m0\u001b[0m\u001b[0;34m]\u001b[0m \u001b[0;34m=\u001b[0m \u001b[0mf\u001b[0m\u001b[0;34m\u001b[0m\u001b[0;34m\u001b[0m\u001b[0m\n\u001b[1;32m     62\u001b[0m     \u001b[0;32mfor\u001b[0m \u001b[0ms\u001b[0m\u001b[0;34m,\u001b[0m \u001b[0;34m(\u001b[0m\u001b[0ma\u001b[0m\u001b[0;34m,\u001b[0m \u001b[0mc\u001b[0m\u001b[0;34m)\u001b[0m \u001b[0;32min\u001b[0m \u001b[0menumerate\u001b[0m\u001b[0;34m(\u001b[0m\u001b[0mzip\u001b[0m\u001b[0;34m(\u001b[0m\u001b[0mA\u001b[0m\u001b[0;34m[\u001b[0m\u001b[0;36m1\u001b[0m\u001b[0;34m:\u001b[0m\u001b[0;34m]\u001b[0m\u001b[0;34m,\u001b[0m \u001b[0mC\u001b[0m\u001b[0;34m[\u001b[0m\u001b[0;36m1\u001b[0m\u001b[0;34m:\u001b[0m\u001b[0;34m]\u001b[0m\u001b[0;34m)\u001b[0m\u001b[0;34m,\u001b[0m \u001b[0mstart\u001b[0m\u001b[0;34m=\u001b[0m\u001b[0;36m1\u001b[0m\u001b[0;34m)\u001b[0m\u001b[0;34m:\u001b[0m\u001b[0;34m\u001b[0m\u001b[0;34m\u001b[0m\u001b[0m\n\u001b[0;32m---> 63\u001b[0;31m         \u001b[0mdy\u001b[0m \u001b[0;34m=\u001b[0m \u001b[0mnp\u001b[0m\u001b[0;34m.\u001b[0m\u001b[0mdot\u001b[0m\u001b[0;34m(\u001b[0m\u001b[0mK\u001b[0m\u001b[0;34m[\u001b[0m\u001b[0;34m:\u001b[0m\u001b[0ms\u001b[0m\u001b[0;34m]\u001b[0m\u001b[0;34m.\u001b[0m\u001b[0mT\u001b[0m\u001b[0;34m,\u001b[0m \u001b[0ma\u001b[0m\u001b[0;34m[\u001b[0m\u001b[0;34m:\u001b[0m\u001b[0ms\u001b[0m\u001b[0;34m]\u001b[0m\u001b[0;34m)\u001b[0m \u001b[0;34m*\u001b[0m \u001b[0mh\u001b[0m\u001b[0;34m\u001b[0m\u001b[0;34m\u001b[0m\u001b[0m\n\u001b[0m\u001b[1;32m     64\u001b[0m         \u001b[0mK\u001b[0m\u001b[0;34m[\u001b[0m\u001b[0ms\u001b[0m\u001b[0;34m]\u001b[0m \u001b[0;34m=\u001b[0m \u001b[0mfun\u001b[0m\u001b[0;34m(\u001b[0m\u001b[0mt\u001b[0m \u001b[0;34m+\u001b[0m \u001b[0mc\u001b[0m \u001b[0;34m*\u001b[0m \u001b[0mh\u001b[0m\u001b[0;34m,\u001b[0m \u001b[0my\u001b[0m \u001b[0;34m+\u001b[0m \u001b[0mdy\u001b[0m\u001b[0;34m)\u001b[0m\u001b[0;34m\u001b[0m\u001b[0;34m\u001b[0m\u001b[0m\n\u001b[1;32m     65\u001b[0m \u001b[0;34m\u001b[0m\u001b[0m\n",
      "\u001b[0;32m~/miniconda3/envs/af/lib/python3.9/site-packages/numpy/core/overrides.py\u001b[0m in \u001b[0;36mdot\u001b[0;34m(*args, **kwargs)\u001b[0m\n",
      "\u001b[0;31mKeyboardInterrupt\u001b[0m: "
     ]
    }
   ],
   "source": [
    "import matplotlib.pyplot as plt\n",
    "\n",
    "# is an approximation since time is discretized\n",
    "\n",
    "# let's be a little smarter about discretization\n",
    "\n",
    "# battle plan formulate system as a continuous-time model -> pass it to a differential equation solver\n",
    "\n",
    "# function that returns dy/dt\n",
    "# variable naming convention from control theory:\n",
    "# y -> system state vector (sometimes 'u')\n",
    "# t -> time\n",
    "# p -> parameter vector\n",
    "def model(t, y, p=()):\n",
    "    pendulum_angle = y[0]\n",
    "    pendulum_anglular_velocity = y[1]\n",
    "    \n",
    "    # TODO implement model\n",
    "\n",
    "# initial condition\n",
    "y0 = [0,10]\n",
    "\n",
    "from scipy.integrate import solve_ivp\n",
    "\n",
    "# time points\n",
    "time_span = (0.0, 100.0)\n",
    "\n",
    "# solve ODEs\n",
    "k = 0.1\n",
    "result = solve_ivp(model, time_span, y0, method='RK45', rtol=1e-8)\n",
    "\n",
    "fig = plt.figure()\n",
    "ax = fig.add_subplot(1, 2, 2)\n",
    "ax.plot(result.y[0, :],\n",
    "        result.y[1, :])\n",
    "ax.set_title(\"solve_ivp\")\n",
    "result\n",
    "# time plot"
   ]
  },
  {
   "cell_type": "code",
   "execution_count": 7,
   "id": "1e57a1b1",
   "metadata": {},
   "outputs": [
    {
     "data": {
      "text/plain": [
       "  message: 'The solver successfully reached the end of the integration interval.'\n",
       "     nfev: 11804\n",
       "     njev: 0\n",
       "      nlu: 0\n",
       "      sol: None\n",
       "   status: 0\n",
       "  success: True\n",
       "        t: array([0.00000000e+00, 1.08616336e-02, 7.46234712e-02, ...,\n",
       "       9.99246929e+01, 9.99876003e+01, 1.00000000e+02])\n",
       " t_events: None\n",
       "        y: array([[ 0.00000000e+00, -1.14092332e-01, -7.83856846e-01, ...,\n",
       "        -1.04962492e+03, -1.05028570e+03, -1.05041595e+03],\n",
       "       [ 1.00000000e+01,  1.00060718e+01,  1.02725204e+01, ...,\n",
       "         1.00512955e+01,  1.04244246e+01,  1.05303975e+01]])\n",
       " y_events: None"
      ]
     },
     "execution_count": 7,
     "metadata": {},
     "output_type": "execute_result"
    },
    {
     "data": {
      "image/png": "[encoded data removed]",
      "text/plain": [
       "<Figure size 432x288 with 1 Axes>"
      ]
     },
     "metadata": {
      "needs_background": "light"
     },
     "output_type": "display_data"
    }
   ],
   "source": [
    "# @Lukas TODO put it on the repo in seperate file\n",
    "from scipy.integrate import solve_ivp\n",
    "\n",
    "\n",
    "# is an approximation since time is discretized\n",
    "\n",
    "# let's be a little smarter about discretization\n",
    "\n",
    "# battle plan formulate system as a continuous-time model -> pass it to a differential equation solver\n",
    "\n",
    "# function that returns dy/dt\n",
    "# variable naming convention from control theory:\n",
    "# y -> system state vector (sometimes 'u')\n",
    "# t -> time\n",
    "# p -> parameter vector\n",
    "def model(t, y, p=()):\n",
    "    pendulum_angle = y[0]\n",
    "    pendulum_anglular_velocity = y[1]\n",
    "    \n",
    "    acceleration = get_force(pendulum_angle, pendulum_mass) / pendulum_mass\n",
    "    \n",
    "    return [pendulum_angular_velocity, acceleration]\n",
    "\n",
    "# initial condition\n",
    "y0 = [0,10]\n",
    "\n",
    "# time points\n",
    "time_span = (0.0, 100.0)\n",
    "\n",
    "# solve ODEs\n",
    "result = solve_ivp(model, time_span, y0, method='RK45', rtol=1e-8)\n",
    "\n",
    "fig = plt.figure()\n",
    "ax = fig.add_subplot(1, 2, 2)\n",
    "ax.plot(result.y[0, :],\n",
    "        result.y[1, :])\n",
    "ax.set_title(\"solve_ivp\")\n",
    "result\n",
    "# time plot"
   ]
  },
  {
   "cell_type": "code",
   "execution_count": 8,
   "id": "a49568f2",
   "metadata": {},
   "outputs": [],
   "source": [
    "# TODO state-space-plot\n",
    "# TODO animation"
   ]
  },
  {
   "cell_type": "code",
   "execution_count": 19,
   "id": "5ebdb17d",
   "metadata": {
    "scrolled": false
   },
   "outputs": [
    {
     "data": {
      "text/plain": [
       "Text(0.5, 1.0, 'solve_ivp')"
      ]
     },
     "execution_count": 19,
     "metadata": {},
     "output_type": "execute_result"
    },
    {
     "data": {
      "image/png": "[encoded data removed]",
      "text/plain": [
       "<Figure size 432x288 with 1 Axes>"
      ]
     },
     "metadata": {
      "needs_background": "light"
     },
     "output_type": "display_data"
    }
   ],
   "source": [
    "# TODO add gravity\n",
    "node_mass = 1.1\n",
    "motor_driving_force = 0.1 #N \n",
    "\n",
    "# get initial positions from kinematic simulation\n",
    "y0 = np.concatenate((np.array(nodes).flatten(), np.zeros(len(nodes)*2)))\n",
    "\n",
    "def model(t, y, p=()):\n",
    "    def get_constraint_for_edge(nodes, edge):\n",
    "        start_node = edge[0]\n",
    "        end_node = edge[1]\n",
    "        \n",
    "        start_node_pos = nodes[start_node]\n",
    "        end_node_pos = nodes[end_node]\n",
    "\n",
    "        edge_vector = (end_node_pos - start_node_pos) / np.linalg.norm(end_node_pos - start_node_pos)\n",
    "        \n",
    "        result = np.zeros(len(nodes)*2)\n",
    "        result[start_node*2:start_node*2+2] = edge_vector[0], edge_vector[1]\n",
    "        result[end_node*2:end_node*2+2] = -edge_vector[0], -edge_vector[1]\n",
    "        return result\n",
    "    \n",
    "    def get_actuator_rows():\n",
    "        # calculate row that results from the motor\n",
    "        result = np.zeros((2, len(nodes)*2))\n",
    "        result[0, 0] = 1\n",
    "        result[1, 1] = 1\n",
    "        return result\n",
    "    \n",
    "    def get_actuator_force():\n",
    "        current_motor_endeffector_pos = y[0:2]\n",
    "        motor_center = np.array(nodes[0]) - np.array([0.0, -5.0]) \n",
    "        vector_from_center_to_endeffector = current_motor_endeffector_pos - motor_center\n",
    "        \n",
    "        # get tangent on circle around center to get the force vector\n",
    "        force_vector_direction = np.array([-vector_from_center_to_endeffector[1], vector_from_center_to_endeffector[0]])\n",
    "        \n",
    "        # normalize\n",
    "        force_vector_direction = force_vector_direction / np.linalg.norm(force_vector_direction)\n",
    "        return force_vector_direction * motor_driving_force\n",
    "    \n",
    "    def get_stationary_rows():\n",
    "        # calculate row that results from the motor\n",
    "        result = np.zeros((2, len(nodes)*2))\n",
    "        result[0, 2] = 1\n",
    "        result[1, 3] = 1\n",
    "        return result\n",
    "\n",
    "    # calculate the forces for every node based on static solution\n",
    "    node_positions = np.array([[y0[i*2], y0[i*2+1]] for i in range(len(nodes))])\n",
    "    simulate_linkage(node_positions, edges, lengths)\n",
    "    \n",
    "    edge_constraints = np.array([get_constraint_for_edge(node_positions, edge) for edge in edges])\n",
    "    force_matrix = np.concatenate((edge_constraints, get_actuator_rows(), get_stationary_rows()))\n",
    "    \n",
    "    equilibrium = np.concatenate((np.zeros(len(edges)),  get_actuator_force(), [0, 0]))\n",
    "    force_vectors = np.linalg.solve(force_matrix, equilibrium)\n",
    "\n",
    "    accelerations = force_vectors / node_mass\n",
    "    \n",
    "    return np.concatenate((y[len(nodes)*2:], accelerations))\n",
    "    \n",
    "\n",
    "simulate_linkage(nodes, edges, lengths)\n",
    "fps = 30\n",
    "time_span = (0.0, 100.0)\n",
    "evaluate_at = np.linspace(time_span[0],time_span[1], int((time_span[1] - time_span[0])*fps))\n",
    "\n",
    "# solve ODEs\n",
    "result = solve_ivp(model, time_span, y0, method='RK45', rtol=1e-8, t_eval=evaluate_at)\n",
    "result\n",
    "fig = plt.figure()\n",
    "ax = fig.add_subplot(1, 2, 2)\n",
    "ax.plot(result.y.T)\n",
    "ax.set_title(\"solve_ivp\")"
   ]
  },
  {
   "cell_type": "code",
   "execution_count": 10,
   "id": "28030f08",
   "metadata": {},
   "outputs": [
    {
     "data": {
      "application/vnd.jupyter.widget-view+json": {
       "model_id": "0b74a19c324541ac9132f9f55f07c92c",
       "version_major": 2,
       "version_minor": 0
      },
      "text/plain": [
       "AsyncAnimation(frame_delay=33)"
      ]
     },
     "metadata": {},
     "output_type": "display_data"
    }
   ],
   "source": [
    "from drawSvg.widgets import AsyncAnimation\n",
    "\n",
    "widget2 = AsyncAnimation(fps=fps)\n",
    "widget2"
   ]
  },
  {
   "cell_type": "code",
   "execution_count": 12,
   "id": "dab1ac53",
   "metadata": {},
   "outputs": [],
   "source": [
    "import copy\n",
    "anim_nodes = copy.deepcopy(nodes) \n",
    "@widget2.set_draw_frame  # Animation above is automatically updated\n",
    "def draw_frame(t=0):\n",
    "    for node_idx in range(len(nodes)):\n",
    "        anim_nodes[node_idx] = result.y[node_idx*2:node_idx*2+2, int((t)*fps%300)]\n",
    "        \n",
    "    redraw_linkage(anim_nodes,edges,d)\n",
    "    return d"
   ]
  },
  {
   "cell_type": "code",
   "execution_count": null,
   "id": "0d236c20",
   "metadata": {},
   "outputs": [],
   "source": []
  },
  {
   "cell_type": "code",
   "execution_count": null,
   "id": "28429c0a",
   "metadata": {},
   "outputs": [],
   "source": [
    "len(nodes)"
   ]
  }
 ],
 "metadata": {
  "@webio": {
   "lastCommId": null,
   "lastKernelId": null
  },
  "kernelspec": {
   "display_name": "conda_af",
   "language": "python",
   "name": "conda_af"
  },
  "language_info": {
   "codemirror_mode": {
    "name": "ipython",
    "version": 3
   },
   "file_extension": ".py",
   "mimetype": "text/x-python",
   "name": "python",
   "nbconvert_exporter": "python",
   "pygments_lexer": "ipython3",
   "version": "3.9.7"
  }
 },
 "nbformat": 4,
 "nbformat_minor": 5
}
