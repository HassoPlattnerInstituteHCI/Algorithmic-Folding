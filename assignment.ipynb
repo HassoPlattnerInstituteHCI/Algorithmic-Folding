import networkx as nx
import numpy
import igl
from meshplot import plot

# add edges to graph G for each adjacent face in mesh
def add_edges_from_mesh(G,f):
    m,n = igl.triangle_triangle_adjacency(f)
    for face_id, face in enumerate(f):
        for j, ajd_face_id in enumerate(m[face_id]):
            G.add_edge(face_id,ajd_face_id)
# adds nodes to graph G for every face in mesh
def add_nodes_from_mesh(G,f): [G.add_node(face_id) for face_id, face in enumerate(f)]
# create networkx graph from given mesh
def graph_from_mesh(v,f):
    G = nx.Graph()
    add_nodes_from_mesh(G,f)
    add_edges_from_mesh(G,f)
    return G
# create spanning tree from mesh m using networkx
def spanning_tree_from_mesh(v,f): return nx.minimum_spanning_tree(graph_from_mesh(v,f))
# returns faces adjacent to given face
def find_adjacent_faces (face_id,face_adjacency):
    adjacent_faces = face_adjacency[face_id]
    return adjacent_faces
# returns the adjacent nodes to node n in tree T
def get_adjacent_nodes(T,n): return nx.descendants_at_distance(T,n,1)
# returns list of triangulated faces in the current node (orignal face)
def get_faces_in_current_node(mapping, current_node): return mapping[current_node]
# returns list of triangulated faces in the nodes adjacent to the current node (orignal face)
def get_faces_in_adjacent_node(spanning_tree, mapping, current_node): 
    adjacent_nodes = get_adjacent_nodes(spanning_tree,current_node)
    faces_in_adjacent_node = []
    for i, node in enumerate (adjacent_nodes):
        faces_in_adjacent_node = numpy.append(faces_in_adjacent_node, mapping[node])
    return faces_in_adjacent_node,adjacent_nodes
# returns next triangulated face to visit and new node if shiting to adjacent node
def pick_next_face_from_adjacent_node (current_list_of_faces, face_id, current_node, possible_next_faces, faces_in_adjacent_node, adjacent_nodes, mapping):
    for adjacent_face in possible_next_faces:
        if adjacent_face not in current_list_of_faces and adjacent_face in faces_in_adjacent_node:
            face_id = adjacent_face
            for i, node in enumerate (adjacent_nodes):
                if face_id in mapping[node]:
                    current_node=node
    return face_id, current_node
# returns next triangulated face to visit and current node if staying in current node
def pick_next_face_from_current_node (current_list_of_faces, face_id, possible_next_faces, faces_in_current_node):
    for adjacent_face in possible_next_faces:
        if adjacent_face not in current_list_of_faces and adjacent_face in faces_in_current_node:
            face_id = adjacent_face
    return face_id
# returns the midpoints of the edges of a triangle t
def calc_edge_midpoints(t): return (t[0] + t[1])/2, (t[1] + t[2])/2, (t[2] + t[0])/2
# return midpoints of all triangles in a given mesh
def calc_triangle_centers(vertices, faces): return igl.barycenter(vertices, faces)



# triangulates the mesh and returns array of new vertex coordinates and faces
def triangulated_mesh(original_vertices, original_faces):
    #TODO: Triangulate each face into six new triangles around the centerpoint
    dict = {}
    return triangulated_vertices, triangulated_faces, dict

# traversal function that generates list of triangulated faces in order of walk around spanning tree of orignal faces
def traverse(spanning_tree,clean_triangulated_faces,mapping): 
    #TODO: Traverse the triangulated faces along the spanning tree
    return list_of_faces [1:]

# the main algorithm: converts a mesh to a foldable list of triangles
def hamiltonian_refinement(orignal_vertices,orignal_faces):
    #TODO: 1. triangulate the mesh
    #TODO: 2. find the spanning tree from the orignal mesh
    #TODO: 3. use that to traverse the triangulated mesh to get a list of triangles
    return face_coordinate_list

v, f = igl.read_triangle_mesh("cube.stl")
#clean up all duplicate vertices from .stl mesh
#removing duplicates does not alter the faces, the vertex list is cleaned up but the face ids remain the same and point to the same vertices (but at different vertex ids)
clean_v, clean_f, h = igl.remove_duplicates (v,f,0.00001)
#TODO: call the hamiltonian_refinement function and use the strip folding code from class to export an SVG
