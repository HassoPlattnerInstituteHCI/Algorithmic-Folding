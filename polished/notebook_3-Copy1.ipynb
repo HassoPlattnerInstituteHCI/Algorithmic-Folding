{
 "cells": [
  {
   "cell_type": "code",
   "execution_count": 2,
   "id": "31593657",
   "metadata": {},
   "outputs": [],
   "source": [
    "import numpy as np\n",
    "from unfolding_helper import *\n",
    "\n",
    "#helper function to see if to faces are normal to eachother\n",
    "is_normal = lambda s1, s2 : sum([abs(c1) != abs(c2) for c1, c2 in zip(s1, s2)]) != 0\n",
    "\n",
    "def strip_n_wings(face, mesh):\n",
    "    all_normals = list(mesh.face_normals())\n",
    "    face_normals = all_normals[face.idx()]\n",
    "    \n",
    "    #Every face normal to inputted face is strip\n",
    "    strip = [f.idx() for f in mesh.faces() if is_normal(face_normals, all_normals[f.idx()])]\n",
    "    \n",
    "    #Every face that is not strip must be wing\n",
    "    wings = [f.idx() for f in mesh.faces() if f.idx() not in strip]\n",
    "    \n",
    "    return (strip, wings)"
   ]
  },
  {
   "cell_type": "code",
   "execution_count": 3,
   "id": "e09742e2",
   "metadata": {},
   "outputs": [],
   "source": [
    "def get_best_snw(mesh):\n",
    "    \n",
    "    #helper function to select three different faces which are normal to eachother\n",
    "    def three_normal(mesh):\n",
    "        all_normals = list(mesh.face_normals())\n",
    "        faces = []\n",
    "        \n",
    "        for f in mesh.faces():\n",
    "            \n",
    "            #if current face is not not normal to every face in faces append current face to faces\n",
    "            if not sum([not is_normal(all_normals[f.idx()], all_normals[ff.idx()]) for ff in faces]):\n",
    "                faces.append(f)\n",
    "            \n",
    "            #if we found three normal faces return them\n",
    "            if len(faces) == 3:\n",
    "                return faces\n",
    "        \n",
    "        return faces\n",
    "    \n",
    "    #List of (strip, wings) tuples from faces out of three_normal()\n",
    "    snw_list = [strip_n_wings(f, mesh) for f in three_normal(mesh)]\n",
    "    \n",
    "    #Rating strips based on size by sorting them\n",
    "    snw_list.sort(key=lambda snw : len(snw[0]))\n",
    "    \n",
    "    return snw_list[-1]\n",
    "    "
   ]
  },
  {
   "cell_type": "code",
   "execution_count": null,
   "id": "5a9bb50e",
   "metadata": {},
   "outputs": [],
   "source": []
  }
 ],
 "metadata": {
  "kernelspec": {
   "display_name": "Python 3 (ipykernel)",
   "language": "python",
   "name": "python3"
  },
  "language_info": {
   "codemirror_mode": {
    "name": "ipython",
    "version": 3
   },
   "file_extension": ".py",
   "mimetype": "text/x-python",
   "name": "python",
   "nbconvert_exporter": "python",
   "pygments_lexer": "ipython3",
   "version": "3.9.7"
  }
 },
 "nbformat": 4,
 "nbformat_minor": 5
}
