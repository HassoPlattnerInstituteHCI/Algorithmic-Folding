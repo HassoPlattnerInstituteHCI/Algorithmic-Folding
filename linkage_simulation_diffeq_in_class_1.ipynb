{
 "cells": [
  {
   "cell_type": "code",
   "execution_count": 1,
   "id": "7d1f30e8",
   "metadata": {},
   "outputs": [],
   "source": [
    "import numpy as np\n",
    "import matplotlib.pyplot as plt"
   ]
  },
  {
   "cell_type": "code",
   "execution_count": 2,
   "id": "55dd3860",
   "metadata": {},
   "outputs": [
    {
     "data": {
      "image/png": "[encoded data removed]",
      "text/plain": [
       "<Figure size 432x288 with 1 Axes>"
      ]
     },
     "metadata": {
      "needs_background": "light"
     },
     "output_type": "display_data"
    }
   ],
   "source": [
    "# dynamics simulation \n",
    "\n",
    "def get_force(angle, mass): return mass * -9.81 * np.sin(angle)\n",
    "# game loop implementation\n",
    "\n",
    "# system parameters\n",
    "pendulum_mass = 0.7  #kg\n",
    "pendulum_string_length = 0.1 #m\n",
    "\n",
    "# step size\n",
    "dt = 0.01\n",
    "\n",
    "# system state (incl. initial conditions)\n",
    "pendulum_angle = 1.2\n",
    "pendulum_angular_velocity = 0\n",
    "\n",
    "result = []\n",
    "\n",
    "# step between 0s and 10s every dt seconds\n",
    "for step in np.arange(0.0, 3.0, dt):\n",
    "    # get acceleration\n",
    "    # F = m*a  ->  a = F/m\n",
    "    \n",
    "    # TODO implement update call\n",
    "    \n",
    "    result.append(pendulum_angle)\n",
    "    \n",
    "plt.plot(result)\n",
    "plt.show()"
   ]
  }
 ],
 "metadata": {
  "@webio": {
   "lastCommId": null,
   "lastKernelId": null
  },
  "kernelspec": {
   "display_name": "conda_af",
   "language": "python",
   "name": "conda_af"
  },
  "language_info": {
   "codemirror_mode": {
    "name": "ipython",
    "version": 3
   },
   "file_extension": ".py",
   "mimetype": "text/x-python",
   "name": "python",
   "nbconvert_exporter": "python",
   "pygments_lexer": "ipython3",
   "version": "3.9.7"
  }
 },
 "nbformat": 4,
 "nbformat_minor": 5
}
