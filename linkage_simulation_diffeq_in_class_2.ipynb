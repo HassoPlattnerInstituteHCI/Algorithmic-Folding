{
 "cells": [
  {
   "cell_type": "code",
   "execution_count": 1,
   "id": "028edf32",
   "metadata": {},
   "outputs": [],
   "source": [
    "import numpy as np\n",
    "import matplotlib.pyplot as plt\n",
    "\n",
    "from scipy.integrate import solve_ivp"
   ]
  },
  {
   "cell_type": "code",
   "execution_count": 2,
   "id": "3811d237",
   "metadata": {},
   "outputs": [
    {
     "data": {
      "image/png": "[encoded data removed]",
      "text/plain": [
       "<Figure size 432x288 with 1 Axes>"
      ]
     },
     "metadata": {
      "needs_background": "light"
     },
     "output_type": "display_data"
    }
   ],
   "source": [
    "# dynamics simulation \n",
    "\n",
    "def get_force(angle, mass): return mass * -9.81 * np.sin(angle)\n",
    "# game loop implementation\n",
    "\n",
    "# system parameters\n",
    "pendulum_mass = 0.7  #kg\n",
    "pendulum_string_length = 0.1 #m\n",
    "\n",
    "# step\n",
    "dt = 0.01\n",
    "\n",
    "# system state (incl. initial conditions)\n",
    "pendulum_angle = 1.2\n",
    "pendulum_angular_velocity = 0\n",
    "\n",
    "result = []\n",
    "\n",
    "# step between 0s and 10s every dt seconds\n",
    "for step in np.arange(0.0, 100.0, dt):\n",
    "    # get acceleration\n",
    "    # F = m*a  ->  a = F/m\n",
    "    acceleration = get_force(pendulum_angle, pendulum_mass) / pendulum_mass\n",
    "    \n",
    "    # do the time step\n",
    "    pendulum_angle += pendulum_angular_velocity * dt\n",
    "    pendulum_angular_velocity += acceleration * dt\n",
    "    result.append(pendulum_angle)\n",
    "    \n",
    "plt.plot(result)\n",
    "plt.show()"
   ]
  },
  {
   "cell_type": "code",
   "execution_count": 3,
   "id": "ccc9128e",
   "metadata": {},
   "outputs": [
    {
     "data": {
      "text/plain": [
       "  message: 'The solver successfully reached the end of the integration interval.'\n",
       "     nfev: 56\n",
       "     njev: 0\n",
       "      nlu: 0\n",
       "      sol: None\n",
       "   status: 0\n",
       "  success: True\n",
       "        t: array([0.0000000e+00, 1.0000000e-06, 1.1000000e-05, 1.1100000e-04,\n",
       "       1.1110000e-03, 1.1111000e-02, 1.1111100e-01, 1.1111110e+00,\n",
       "       1.1111111e+01, 1.0000000e+02])\n",
       " t_events: None\n",
       "        y: array([[0. , 0. , 0. , 0. , 0. , 0. , 0. , 0. , 0. , 0. ],\n",
       "       [1.2, 1.2, 1.2, 1.2, 1.2, 1.2, 1.2, 1.2, 1.2, 1.2]])\n",
       " y_events: None"
      ]
     },
     "execution_count": 3,
     "metadata": {},
     "output_type": "execute_result"
    },
    {
     "data": {
      "image/png": "[encoded data removed]",
      "text/plain": [
       "<Figure size 432x288 with 1 Axes>"
      ]
     },
     "metadata": {
      "needs_background": "light"
     },
     "output_type": "display_data"
    }
   ],
   "source": [
    "# battle plan: formulate system as a continuous-time model -> pass it to a differential equation solver\n",
    "\n",
    "# this function needs to return dy/dt\n",
    "# variable naming convention from control theory:\n",
    "# y -> system state vector (sometimes 'u')\n",
    "# t -> time\n",
    "# p -> parameter vector\n",
    "def model(t, y, p=()):\n",
    "    pendulum_angle = y[0]\n",
    "    pendulum_anglular_velocity = y[1]\n",
    "    \n",
    "    # TODO implement model\n",
    "    \n",
    "    return [0.0, 0.0]\n",
    "\n",
    "# initial condition\n",
    "y0 = [0,1.2]\n",
    "\n",
    "# time points\n",
    "time_span = (0.0, 100.0)\n",
    "\n",
    "# solve ODEs\n",
    "result = solve_ivp(model, time_span, y0, method='RK45', rtol=1e-8)\n",
    "\n",
    "# plotting\n",
    "fig = plt.figure()\n",
    "ax = fig.add_subplot(1, 2, 2)\n",
    "ax.plot(result.y[0, :],\n",
    "        result.y[1, :])\n",
    "ax.set_title(\"time domain plot\")\n",
    "result"
   ]
  }
 ],
 "metadata": {
  "@webio": {
   "lastCommId": null,
   "lastKernelId": null
  },
  "kernelspec": {
   "display_name": "conda_af",
   "language": "python",
   "name": "conda_af"
  },
  "language_info": {
   "codemirror_mode": {
    "name": "ipython",
    "version": 3
   },
   "file_extension": ".py",
   "mimetype": "text/x-python",
   "name": "python",
   "nbconvert_exporter": "python",
   "pygments_lexer": "ipython3",
   "version": "3.9.7"
  }
 },
 "nbformat": 4,
 "nbformat_minor": 5
}
